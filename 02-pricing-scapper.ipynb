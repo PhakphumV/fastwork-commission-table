{
 "cells": [
  {
   "cell_type": "code",
   "execution_count": 1,
   "id": "b263b065",
   "metadata": {},
   "outputs": [],
   "source": [
    "import requests\n",
    "from bs4 import BeautifulSoup\n",
    "import pandas as pd\n",
    "import seaborn as sns\n",
    "import matplotlib.pyplot as plt"
   ]
  },
  {
   "cell_type": "code",
   "execution_count": 2,
   "id": "936d802d",
   "metadata": {},
   "outputs": [],
   "source": [
    "BASE_URL = \"https://fastwork.co/\""
   ]
  },
  {
   "cell_type": "code",
   "execution_count": 3,
   "id": "d9b75c60",
   "metadata": {},
   "outputs": [],
   "source": [
    "main_cat_urls = [\n",
    "    'design-graphic',\n",
    "    'marketing-advertising',\n",
    "    'writing-translation',\n",
    "    'photography-video',\n",
    "    'web-programming',\n",
    "    'consultant',\n",
    "    'operation'\n",
    "]"
   ]
  },
  {
   "cell_type": "code",
   "execution_count": 4,
   "id": "ab4ec483",
   "metadata": {},
   "outputs": [],
   "source": [
    "def retrieve_products(subcat_slug):\n",
    "    url = \"https://f24luz3xrm-dsn.algolia.net/1/indexes/th_prod_products/query\"\n",
    "    params = {\n",
    "        \"x-algolia-agent\":\"Algolia for JavaScript (3.35.1); Browser\",\n",
    "        \"x-algolia-application-id\":\"F24LUZ3XRM\",\n",
    "        \"x-algolia-api-key\":\"a639c2213baa3a66e57cee665d7e17a6\"\n",
    "    }\n",
    "    data = {\n",
    "        \"attributesToRetrieve\": [\"*\"],\n",
    "        \"facets\": [\"subcategory.title\",\"subcategory.slug\",\"base_price\",\"user.first_name\",\"tags\"],\n",
    "        \"filters\":\"(subcategory.slug: {})\".format(subcat_slug),\n",
    "        \"hitsPerPage\":\"100\",\n",
    "        \"page\":\"0\",\n",
    "        \"query\":\"\",\n",
    "    }\n",
    "    response = requests.post(url,params=params,json=data)\n",
    "    return response"
   ]
  },
  {
   "cell_type": "code",
   "execution_count": null,
   "id": "215da666",
   "metadata": {},
   "outputs": [
    {
     "name": "stdout",
     "output_type": "stream",
     "text": [
      "#design-graphic\n",
      "##logo-design - Count : 100\n",
      "##illustration - Count : 100\n",
      "##social-media-banner - Count : 100\n",
      "##character-design - Count : 100\n",
      "##packaging - Count : 100\n",
      "##fanart - Count : 100\n",
      "##illustration-portrait - Count : 100\n",
      "##engineering-structural-design - Count : 100\n",
      "##caricature - Count : 34\n",
      "##architect-and-interior - Count : 100\n",
      "##cartoon-drawing - Count : 100\n",
      "##presentation - Count : 100\n",
      "##vector-illustration - Count : 64\n",
      "##publication - Count : 100\n",
      "##vector - Count : 78\n",
      "##storyboard - Count : 16\n",
      "##fashion-design - Count : 100\n",
      "##tattoo-design - Count : 27\n",
      "##infographics - Count : 100\n",
      "##map-design - Count : 55\n",
      "##photoshop - Count : 100\n",
      "##game-character-bg - Count : 23\n",
      "##sticker - Count : 41\n",
      "##perspective - Count : 100\n",
      "##3d-model - Count : 100\n",
      "##line-sticker - Count : 100\n",
      "##portfolio-resume - Count : 100\n",
      "##corporate-identity - Count : 30\n",
      "##landscape - Count : 37\n",
      "##nft-art - Count : 5\n",
      "##design-graphic-other - Count : 31\n",
      "#marketing-advertising\n"
     ]
    }
   ],
   "source": [
    "df_lists = []\n",
    "for main_cat_url in main_cat_urls:\n",
    "    response = requests.get(BASE_URL+main_cat_url)\n",
    "    soup = BeautifulSoup(response.content, \"html.parser\")\n",
    "    dom = soup.find_all('div',attrs={\"class\":\"category-list\"})\n",
    "    sub_cat_links = dom[0].find_all('a')\n",
    "    print(\"#{}\".format(main_cat_url))\n",
    "    \n",
    "    for link in sub_cat_links:\n",
    "        sub_cat_slug = link.attrs['href'].replace(\"/\",\"\")\n",
    "        \n",
    "        \n",
    "        response = retrieve_products(sub_cat_slug)\n",
    "        data = response.json()['hits']\n",
    "        \n",
    "        print(\"##{} - Count : {}\".format(sub_cat_slug,len(data)))\n",
    "        df = pd.DataFrame(data)\n",
    "        df['category'] = main_cat_url\n",
    "        df['subcategory']= sub_cat_slug\n",
    "        df_lists.append(df)\n",
    "        \n",
    "df_all = pd.concat(df_lists)"
   ]
  },
  {
   "cell_type": "code",
   "execution_count": null,
   "id": "3553534d",
   "metadata": {},
   "outputs": [],
   "source": [
    "labels = [\"{0}\".format(i) for i in range(0, 200000, 500)]"
   ]
  },
  {
   "cell_type": "code",
   "execution_count": null,
   "id": "b596985b",
   "metadata": {},
   "outputs": [],
   "source": []
  },
  {
   "cell_type": "code",
   "execution_count": null,
   "id": "b008ce97",
   "metadata": {},
   "outputs": [],
   "source": [
    "df_all['bin_price'] = pd.cut(df_all['base_price'],bins=range(0,200250,500),right=False,labels=labels)"
   ]
  },
  {
   "cell_type": "code",
   "execution_count": null,
   "id": "6eb0e251",
   "metadata": {},
   "outputs": [],
   "source": []
  },
  {
   "cell_type": "code",
   "execution_count": null,
   "id": "3add82ec",
   "metadata": {},
   "outputs": [],
   "source": [
    "print(df_all.head(30))"
   ]
  },
  {
   "cell_type": "code",
   "execution_count": null,
   "id": "66a26ae7",
   "metadata": {},
   "outputs": [],
   "source": [
    "plt.figure(figsize=(16, 9))\n",
    "plt.xticks(rotation=45)\n",
    "# ax = sns.scatterplot(df_all,x=\"category\",y=\"bin_price\")\n",
    "ax = sns.swarmplot(df_all,x=\"category\",y=\"bin_price\")"
   ]
  },
  {
   "cell_type": "code",
   "execution_count": null,
   "id": "2d6c34ab",
   "metadata": {},
   "outputs": [],
   "source": []
  }
 ],
 "metadata": {
  "kernelspec": {
   "display_name": "Python 3 (ipykernel)",
   "language": "python",
   "name": "python3"
  },
  "language_info": {
   "codemirror_mode": {
    "name": "ipython",
    "version": 3
   },
   "file_extension": ".py",
   "mimetype": "text/x-python",
   "name": "python",
   "nbconvert_exporter": "python",
   "pygments_lexer": "ipython3",
   "version": "3.10.6"
  }
 },
 "nbformat": 4,
 "nbformat_minor": 5
}
