{
 "cells": [
  {
   "cell_type": "code",
   "execution_count": 1,
   "id": "b263b065",
   "metadata": {},
   "outputs": [],
   "source": [
    "import requests\n",
    "from bs4 import BeautifulSoup\n",
    "import pandas as pd\n",
    "import seaborn as sns\n",
    "import matplotlib.pyplot as plt"
   ]
  },
  {
   "cell_type": "code",
   "execution_count": 2,
   "id": "eb594f67",
   "metadata": {},
   "outputs": [],
   "source": [
    "BASE_URL = \"https://fastwork.co\""
   ]
  },
  {
   "cell_type": "code",
   "execution_count": 3,
   "id": "d9b75c60",
   "metadata": {},
   "outputs": [],
   "source": [
    "main_cat_urls = [\n",
    "    'https://fastwork.co/design-graphic',\n",
    "    'https://fastwork.co/marketing-advertising',\n",
    "    'https://fastwork.co/writing-translation',\n",
    "    'https://fastwork.co/photography-video',\n",
    "    'https://fastwork.co/web-programming',\n",
    "    'https://fastwork.co/consultant',\n",
    "    'https://fastwork.co/operation'\n",
    "]"
   ]
  },
  {
   "cell_type": "code",
   "execution_count": 4,
   "id": "c1c173fd",
   "metadata": {},
   "outputs": [],
   "source": [
    "def retrieve_products(subcat_slug):\n",
    "    url = \"https://f24luz3xrm-dsn.algolia.net/1/indexes/th_prod_products/query\"\n",
    "    params = {\n",
    "        \"x-algolia-agent\":\"Algolia for JavaScript (3.35.1); Browser\",\n",
    "        \"x-algolia-application-id\":\"F24LUZ3XRM\",\n",
    "        \"x-algolia-api-key\":\"a639c2213baa3a66e57cee665d7e17a6\"\n",
    "    }\n",
    "    data = {\n",
    "        \"attributesToRetrieve\": [\"*\"],\n",
    "        \"facets\": [\"subcategory.title\",\"subcategory.slug\",\"base_price\",\"user.first_name\",\"tags\"],\n",
    "        \"filters\":\"(subcategory.slug: {})\".format(subcat_slug),\n",
    "        \"hitsPerPage\":\"100\",\n",
    "        \"page\":\"0\",\n",
    "        \"query\":\"\",\n",
    "    }\n",
    "    response = requests.post(url,params=params,json=data)\n",
    "    return response"
   ]
  },
  {
   "cell_type": "code",
   "execution_count": null,
   "id": "215da666",
   "metadata": {},
   "outputs": [
    {
     "name": "stdout",
     "output_type": "stream",
     "text": [
      "https://fastwork.co/design-graphic\n",
      "##logo-design\n",
      "##illustration\n",
      "##social-media-banner\n",
      "##character-design\n",
      "##packaging\n",
      "##fanart\n",
      "##illustration-portrait\n",
      "##engineering-structural-design\n",
      "##caricature\n",
      "##architect-and-interior\n",
      "##cartoon-drawing\n",
      "##presentation\n",
      "##vector-illustration\n",
      "##publication\n",
      "##vector\n",
      "##storyboard\n",
      "##fashion-design\n",
      "##tattoo-design\n",
      "##infographics\n",
      "##map-design\n",
      "##photoshop\n",
      "##game-character-bg\n",
      "##sticker\n",
      "##perspective\n",
      "##3d-model\n",
      "##line-sticker\n",
      "##portfolio-resume\n",
      "##corporate-identity\n",
      "##landscape\n",
      "##nft-art\n",
      "##design-graphic-other\n",
      "https://fastwork.co/marketing-advertising\n",
      "##seo\n",
      "##promote-page\n",
      "##reviews\n",
      "##blogger-netidol\n",
      "##data-analyst\n",
      "##questionnaire\n",
      "##social-media-ads\n",
      "##google-ads\n",
      "##content-marketing\n"
     ]
    }
   ],
   "source": [
    "df_lists = []\n",
    "for main_cat_url in main_cat_urls:\n",
    "    response = requests.get(main_cat_url)\n",
    "    soup = BeautifulSoup(response.content, \"html.parser\")\n",
    "    dom = soup.find_all('div',attrs={\"class\":\"category-list\"})\n",
    "    sub_cat_links = dom[0].find_all('a')\n",
    "    print(main_cat_url)\n",
    "    \n",
    "    for link in sub_cat_links:\n",
    "        sub_cat_slug = link.attrs['href'].replace(\"/\",\"\")\n",
    "        print(\"##{}\".format(sub_cat_slug))\n",
    "        \n",
    "        response = retrieve_products(sub_cat_slug)\n",
    "        data = response.json()['hits']\n",
    "        \n",
    "        df = pd.DataFrame(data)\n",
    "        df['category'] = main_cat_url\n",
    "        df['subcategory']= sub_cat_slug\n",
    "        df_lists.append(df)\n",
    "        \n",
    "df_all = pd.concat(df_lists)"
   ]
  },
  {
   "cell_type": "code",
   "execution_count": null,
   "id": "a4b9180d",
   "metadata": {},
   "outputs": [],
   "source": [
    "print(df_all)"
   ]
  },
  {
   "cell_type": "code",
   "execution_count": null,
   "id": "9417a87b",
   "metadata": {},
   "outputs": [],
   "source": [
    "plt.figure(figsize=(16, 9))\n",
    "df_all.plot.scatter(x=\"subcategory\",y=\"base_price\")"
   ]
  },
  {
   "cell_type": "code",
   "execution_count": null,
   "id": "d3ef0cb0",
   "metadata": {},
   "outputs": [],
   "source": []
  }
 ],
 "metadata": {
  "kernelspec": {
   "display_name": "Python 3 (ipykernel)",
   "language": "python",
   "name": "python3"
  },
  "language_info": {
   "codemirror_mode": {
    "name": "ipython",
    "version": 3
   },
   "file_extension": ".py",
   "mimetype": "text/x-python",
   "name": "python",
   "nbconvert_exporter": "python",
   "pygments_lexer": "ipython3",
   "version": "3.10.6"
  }
 },
 "nbformat": 4,
 "nbformat_minor": 5
}
