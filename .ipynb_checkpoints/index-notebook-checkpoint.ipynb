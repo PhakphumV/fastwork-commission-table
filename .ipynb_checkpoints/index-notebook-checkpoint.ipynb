{
 "cells": [
  {
   "cell_type": "code",
   "execution_count": 1,
   "id": "6322f5d1",
   "metadata": {},
   "outputs": [],
   "source": [
    "import pandas as pd\n",
    "import matplotlib.pyplot as plt"
   ]
  },
  {
   "cell_type": "code",
   "execution_count": 2,
   "id": "454334cd",
   "metadata": {},
   "outputs": [],
   "source": [
    "# Input parameters\n",
    "START_PRICE  = 1000    # Starting price\n",
    "STEP_PRICE   = 500     # Price to increase in each row\n",
    "END_PRICE    = 100000  # Price at the end of the table\n",
    "ORDERS       = 10      #"
   ]
  },
  {
   "cell_type": "code",
   "execution_count": 3,
   "id": "750eee15",
   "metadata": {},
   "outputs": [],
   "source": [
    "def thai_withholding_tax(price):\n",
    "    return price*0.03"
   ]
  },
  {
   "cell_type": "code",
   "execution_count": 4,
   "id": "0f17321b",
   "metadata": {},
   "outputs": [],
   "source": [
    "def fastwork_commission(price):\n",
    "    # Tier 1\n",
    "    tier1 = min(price,10000) * 0.17\n",
    "    # Tier 2\n",
    "    tier2 = min(max(0,price-10000) * 0.12,4800)\n",
    "    # Tier 3\n",
    "    tier3 = max(0,price-50000) * 0.07\n",
    "    \n",
    "    return tier1+tier2+tier3"
   ]
  },
  {
   "cell_type": "code",
   "execution_count": 5,
   "id": "7e617166",
   "metadata": {},
   "outputs": [],
   "source": [
    "df = pd.DataFrame(range(START_PRICE,END_PRICE,STEP_PRICE), columns=['Price'])"
   ]
  },
  {
   "cell_type": "code",
   "execution_count": 6,
   "id": "494bbe93",
   "metadata": {},
   "outputs": [],
   "source": [
    "# df['Fastwork_Fee'] = df['Price'].apply(fastwork_commission)"
   ]
  },
  {
   "cell_type": "code",
   "execution_count": 7,
   "id": "886ca294",
   "metadata": {},
   "outputs": [],
   "source": [
    "# df['Tax'] = df['Price'].apply(thai_withholding_tax)"
   ]
  },
  {
   "cell_type": "code",
   "execution_count": 8,
   "id": "f08d3c83",
   "metadata": {},
   "outputs": [],
   "source": [
    "df['Cost'] = df['Price'].apply(fastwork_commission) + df['Price'].apply(thai_withholding_tax)"
   ]
  },
  {
   "cell_type": "code",
   "execution_count": 10,
   "id": "15fbd92a",
   "metadata": {},
   "outputs": [
    {
     "name": "stdout",
     "output_type": "stream",
     "text": [
      "     Price     Cost\n",
      "0     1000    200.0\n",
      "1     1500    300.0\n",
      "2     2000    400.0\n",
      "3     2500    500.0\n",
      "4     3000    600.0\n",
      "..     ...      ...\n",
      "193  97500  12750.0\n",
      "194  98000  12800.0\n",
      "195  98500  12850.0\n",
      "196  99000  12900.0\n",
      "197  99500  12950.0\n",
      "\n",
      "[198 rows x 2 columns]\n"
     ]
    }
   ],
   "source": [
    "print(df)"
   ]
  },
  {
   "cell_type": "code",
   "execution_count": null,
   "id": "5245c433",
   "metadata": {},
   "outputs": [],
   "source": []
  },
  {
   "cell_type": "code",
   "execution_count": null,
   "id": "22ce682d",
   "metadata": {},
   "outputs": [],
   "source": []
  }
 ],
 "metadata": {
  "kernelspec": {
   "display_name": "Python 3 (ipykernel)",
   "language": "python",
   "name": "python3"
  },
  "language_info": {
   "codemirror_mode": {
    "name": "ipython",
    "version": 3
   },
   "file_extension": ".py",
   "mimetype": "text/x-python",
   "name": "python",
   "nbconvert_exporter": "python",
   "pygments_lexer": "ipython3",
   "version": "3.10.2"
  }
 },
 "nbformat": 4,
 "nbformat_minor": 5
}
