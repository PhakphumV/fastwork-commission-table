{
 "cells": [
  {
   "cell_type": "code",
   "execution_count": 1,
   "id": "6322f5d1",
   "metadata": {},
   "outputs": [],
   "source": [
    "import pandas as pd\n",
    "import matplotlib.pyplot as plt"
   ]
  },
  {
   "cell_type": "code",
   "execution_count": 2,
   "id": "454334cd",
   "metadata": {},
   "outputs": [],
   "source": [
    "# Input parameters\n",
    "START_PRICE  = 1000    # Starting price\n",
    "STEP_PRICE   = 500     # Price to increase in each row\n",
    "END_PRICE    = 100000  # Price at the end of the table"
   ]
  },
  {
   "cell_type": "code",
   "execution_count": 3,
   "id": "750eee15",
   "metadata": {},
   "outputs": [],
   "source": [
    "def thai_withholding_tax(price):\n",
    "    return price*0.03"
   ]
  },
  {
   "cell_type": "code",
   "execution_count": 4,
   "id": "0f17321b",
   "metadata": {},
   "outputs": [],
   "source": [
    "def fastwork_commission(price):\n",
    "    # Tier 1\n",
    "    tier1 = min(price,10000) * 0.17\n",
    "    # Tier 2\n",
    "    tier2 = min(max(0,price-10000) * 0.12,4800)\n",
    "    # Tier 3\n",
    "    tier3 = max(0,price-50000) * 0.07\n",
    "    \n",
    "    return tier1+tier2+tier3"
   ]
  },
  {
   "cell_type": "code",
   "execution_count": 5,
   "id": "7e617166",
   "metadata": {},
   "outputs": [],
   "source": [
    "df = pd.DataFrame(range(START_PRICE,END_PRICE,STEP_PRICE), columns=['Price'])"
   ]
  },
  {
   "cell_type": "code",
   "execution_count": 6,
   "id": "494bbe93",
   "metadata": {},
   "outputs": [],
   "source": [
    "df['Fastwork_Fee'] = df['Price'].apply(fastwork_commission)"
   ]
  },
  {
   "cell_type": "code",
   "execution_count": 7,
   "id": "886ca294",
   "metadata": {},
   "outputs": [],
   "source": [
    "df['Tax'] = df['Price'].apply(thai_withholding_tax)"
   ]
  },
  {
   "cell_type": "code",
   "execution_count": 8,
   "id": "f08d3c83",
   "metadata": {},
   "outputs": [],
   "source": [
    "df['Revenue'] = df['Price']-df['Fastwork_Fee']-df['Tax']"
   ]
  },
  {
   "cell_type": "code",
   "execution_count": 9,
   "id": "15fbd92a",
   "metadata": {},
   "outputs": [],
   "source": [
    "#print(df)"
   ]
  },
  {
   "cell_type": "code",
   "execution_count": 13,
   "id": "5245c433",
   "metadata": {},
   "outputs": [
    {
     "data": {
      "image/png": "[encoded data removed]",
      "text/plain": [
       "<Figure size 640x480 with 1 Axes>"
      ]
     },
     "metadata": {},
     "output_type": "display_data"
    }
   ],
   "source": [
    "df.plot(x='Price',y='Revenue',kind='line')\n",
    "\n",
    "plt.show() "
   ]
  },
  {
   "cell_type": "code",
   "execution_count": null,
   "id": "f04310e8",
   "metadata": {},
   "outputs": [],
   "source": []
  }
 ],
 "metadata": {
  "kernelspec": {
   "display_name": "Python 3 (ipykernel)",
   "language": "python",
   "name": "python3"
  },
  "language_info": {
   "codemirror_mode": {
    "name": "ipython",
    "version": 3
   },
   "file_extension": ".py",
   "mimetype": "text/x-python",
   "name": "python",
   "nbconvert_exporter": "python",
   "pygments_lexer": "ipython3",
   "version": "3.10.2"
  }
 },
 "nbformat": 4,
 "nbformat_minor": 5
}
