{
 "cells": [
  {
   "cell_type": "code",
   "execution_count": null,
   "id": "b263b065",
   "metadata": {},
   "outputs": [],
   "source": [
    "# .subcategories > [data-selenium=nav-subcat]\n",
    "# Source link\n",
    "# https://fastwork.co/logo-design?page=1"
   ]
  },
  {
   "cell_type": "code",
   "execution_count": null,
   "id": "3aa9bac0",
   "metadata": {},
   "outputs": [],
   "source": [
    "# https://fastwork.co/design-graphic\n",
    "# https://fastwork.co/marketing-advertising\n",
    "# https://fastwork.co/writing-translation\n",
    "# https://fastwork.co/photography-video\n",
    "# https://fastwork.co/web-programming\n",
    "# https://fastwork.co/consultant\n",
    "# https://fastwork.co/operation"
   ]
  },
  {
   "cell_type": "code",
   "execution_count": null,
   "id": "d9b75c60",
   "metadata": {},
   "outputs": [],
   "source": []
  },
  {
   "cell_type": "code",
   "execution_count": null,
   "id": "215da666",
   "metadata": {},
   "outputs": [],
   "source": []
  }
 ],
 "metadata": {
  "kernelspec": {
   "display_name": "Python 3 (ipykernel)",
   "language": "python",
   "name": "python3"
  },
  "language_info": {
   "codemirror_mode": {
    "name": "ipython",
    "version": 3
   },
   "file_extension": ".py",
   "mimetype": "text/x-python",
   "name": "python",
   "nbconvert_exporter": "python",
   "pygments_lexer": "ipython3",
   "version": "3.10.6"
  }
 },
 "nbformat": 4,
 "nbformat_minor": 5
}
