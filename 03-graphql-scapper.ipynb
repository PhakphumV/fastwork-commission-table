{
 "cells": [
  {
   "cell_type": "code",
   "execution_count": 1,
   "id": "b263b065",
   "metadata": {},
   "outputs": [],
   "source": [
    "from gql import gql, Client\n",
    "from gql.transport.aiohttp import AIOHTTPTransport\n",
    "# import pandas as pd\n",
    "# import seaborn as sns\n",
    "# import matplotlib.pyplot as plt"
   ]
  },
  {
   "cell_type": "code",
   "execution_count": 73,
   "id": "f1f6766c",
   "metadata": {},
   "outputs": [],
   "source": [
    "BASE_URL = \"https://gateway.fastwork.co/graphql\"\n",
    "API_URL = \"https://api.fastwork.co/graphql\""
   ]
  },
  {
   "cell_type": "code",
   "execution_count": 74,
   "id": "d9b75c60",
   "metadata": {},
   "outputs": [],
   "source": [
    "transport_gateway = AIOHTTPTransport(url=BASE_URL)    \n",
    "transport_api = AIOHTTPTransport(url=API_URL)    "
   ]
  },
  {
   "cell_type": "code",
   "execution_count": 75,
   "id": "321e26b3",
   "metadata": {},
   "outputs": [],
   "source": [
    "client_gateway = Client(transport=transport_gateway, fetch_schema_from_transport=True)\n",
    "client_api = Client(transport=transport_api, fetch_schema_from_transport=True)"
   ]
  },
  {
   "cell_type": "code",
   "execution_count": 31,
   "id": "3cdf600a",
   "metadata": {},
   "outputs": [],
   "source": [
    "# Provide a GraphQL query\n",
    "query = gql(\n",
    "    \"\"\"\n",
    "    query {\n",
    "    categories{\n",
    "\t\t\tid\n",
    "\t\t\tslug\n",
    "\t\t\tsubcategory_groups{\n",
    "\t\t\t\ttitle\n",
    "\t\t\t\tsubcategories{\n",
    "\t\t\t\t\tid\n",
    "\t\t\t\t\tslug\n",
    "\t\t\t\t\ttitle\n",
    "\t\t\t\t}\n",
    "\t\t\t}\n",
    "\t\t}\n",
    "\t}\n",
    "\n",
    "\"\"\"\n",
    ")"
   ]
  },
  {
   "cell_type": "code",
   "execution_count": 148,
   "id": "27d3193f",
   "metadata": {},
   "outputs": [],
   "source": [
    "# Provide a GraphQL query\n",
    "query = gql(\n",
    "    \"\"\"\n",
    "query {\n",
    "    categories{\n",
    "        id\n",
    "        slug\n",
    "        subcategory_groups{\n",
    "            id\n",
    "            title\n",
    "            subcategories{\n",
    "                id\n",
    "                slug\n",
    "            }\n",
    "        }\n",
    "    }\n",
    "}\n",
    "\n",
    "\"\"\"\n",
    ")"
   ]
  },
  {
   "cell_type": "code",
   "execution_count": 149,
   "id": "215da666",
   "metadata": {},
   "outputs": [
    {
     "name": "stdout",
     "output_type": "stream",
     "text": [
      "{'categories': [{'id': 'f4d22516-d963-4a18-ab1e-ee8ec835f352', 'slug': 'design-graphic', 'subcategory_groups': [{'id': '87903a1e-0dd5-425a-a0d1-ffd2cce0e1d3', 'subcategories': [{'id': '8a6f479b-905a-47d4-9106-9d92d43e2677', 'slug': 'logo-design'}, {'id': '2bd65cf0-18b2-415f-94c5-a33c86c793a4', 'slug': 'social-media-banner'}, {'id': '34788f71-c319-4f83-9dff-8e18d43db4b4', 'slug': 'packaging'}, {'id': '4e8a1262-f0b1-4cf1-9ba4-59642bc95024', 'slug': 'presentation'}, {'id': 'dc435ab4-c96e-4632-b5b4-567232d01dd0', 'slug': 'publication'}, {'id': '44b19c55-09ea-4c49-b1f2-f7d228064bf6', 'slug': 'infographics'}, {'id': 'b3588b0c-2fe8-43f0-9f6b-a546d0c253a7', 'slug': 'photoshop'}, {'id': 'ad5163e9-1bd8-4dc6-bd41-7df57c9414cb', 'slug': '3d-model'}, {'id': '9374337f-9a56-4db4-996c-e2accb2f0436', 'slug': 'portfolio-resume'}, {'id': '93ed82e1-b532-48cd-a33c-8c4fc37faae1', 'slug': 'corporate-identity'}], 'title': 'Graphic Design'}, {'id': '82714e21-0d1f-4e25-9855-f7515684f053', 'subcategories': [{'id': 'ea3fc27b-eaa7-4254-a175-8935852fb90f', 'slug': 'illustration'}, {'id': '58d542a8-4592-451e-bd66-5184ae46fd96', 'slug': 'character-design'}, {'id': '14f7a360-dfe4-4fc4-99ce-ebc5ab2d0978', 'slug': 'fanart'}, {'id': 'c8c178a4-545c-4ce6-85fe-fcf0c6f6eced', 'slug': 'illustration-portrait'}, {'id': '524583dd-b85b-41ff-b0a4-b0a3bcd55e40', 'slug': 'caricature'}, {'id': '079ad594-a1e9-4f5e-b5ef-1d7e72bcf898', 'slug': 'cartoon-drawing'}, {'id': 'aa47a2da-ef39-4637-932c-bfc4670c5633', 'slug': 'vector-illustration'}, {'id': '5cc14bbe-970e-4cb1-8af2-b6ad4921b209', 'slug': 'vector'}, {'id': 'ac4e6f8b-6508-499f-a193-0c0c13e73309', 'slug': 'storyboard'}, {'id': '7e4ab261-f909-427a-bf4c-029cc7f53518', 'slug': 'fashion-design'}, {'id': '61bee525-7b1d-4436-9e9d-e43856973700', 'slug': 'tattoo-design'}, {'id': '28e57955-8498-473f-a265-ff8383bd2063', 'slug': 'map-design'}, {'id': 'df7b6a58-34f1-4f38-8d2b-7f8376994a0d', 'slug': 'game-character-bg'}, {'id': '4406a7d0-3e97-444b-8148-ff8f2e00dfbe', 'slug': 'sticker'}, {'id': '9fde5731-fcb1-4031-bb09-209a4a3cb19b', 'slug': 'line-sticker'}, {'id': '98e9a697-7991-4d38-9ed6-21ac81fcb333', 'slug': 'nft-art'}], 'title': 'Art & Drawing'}, {'id': 'd0b48fdc-8af2-404b-a44b-7abae1d59ce4', 'subcategories': [{'id': '92bb3417-5db6-4aec-b96b-ac91f57b57cd', 'slug': 'engineering-structural-design'}, {'id': '0875d212-8a52-4bdb-aa85-60326f9049a1', 'slug': 'architect-and-interior'}, {'id': '2db5aa33-75ff-432b-a0f7-c2a831b8f249', 'slug': 'perspective'}, {'id': '982aafaa-bcf5-4542-a939-70604b10e51e', 'slug': 'landscape'}], 'title': 'Architecture & interior'}, {'id': '2820445d-d715-4b4b-9e68-9ca4c7159246', 'subcategories': [{'id': '134b0076-2f3d-4245-8c54-beac113d3700', 'slug': 'design-graphic-other'}], 'title': 'Other'}]}, {'id': '6b10c3d4-966d-4d40-b386-b98a70a7ab99', 'slug': 'marketing-advertising', 'subcategory_groups': [{'id': 'c3855ac0-eb3d-4d39-808f-72eec8ee91dd', 'subcategories': [{'id': '4ed96777-33ca-4b25-8961-2683c12d3692', 'slug': 'seo'}, {'id': '89f129fc-1156-4634-9ea3-6b561fabe02f', 'slug': 'promote-page'}, {'id': '03a3536a-21dc-4cb8-9d3e-9a0caea5fbc9', 'slug': 'reviews'}, {'id': '70dc5902-021e-48b9-9519-3b2e9f1f7d1f', 'slug': 'social-media-ads'}, {'id': '94e85ce4-23b5-4561-890a-130d4ed40ad8', 'slug': 'google-ads'}, {'id': 'dc36ffa9-201c-48a5-b327-70c6b1ed807b', 'slug': 'content-marketing'}, {'id': '0e93253c-c4d4-4fd5-92cf-3d43da313100', 'slug': 'google-map'}, {'id': '79f40b9a-0a91-4c28-b9c7-1af250ba5ced', 'slug': 'public-relations'}, {'id': '636666a3-3f2e-4efb-8856-cde25298a79f', 'slug': 'promote-real-estate'}], 'title': 'Online media'}, {'id': '6aceb50c-87d8-48c9-a613-ad49275c1dec', 'subcategories': [{'id': '751f26f7-cdd3-4b7d-b2a6-bd259039a2c4', 'slug': 'blogger-netidol'}, {'id': '5e4da673-ef19-4df6-8034-c1ba1fed1dd1', 'slug': 'gamecaster'}, {'id': '9f9bef91-371b-41ff-94f8-ba6f209e9d29', 'slug': 'influencer-marketing'}], 'title': 'Influencer'}, {'id': '2a863806-9f12-458e-b4b3-39f3e5fd937d', 'subcategories': [{'id': 'd5578166-cf19-4a2d-9cd0-9a3b375ee5fa', 'slug': 'data-analyst'}, {'id': '9c958de3-bc16-4b31-9288-f993f4576103', 'slug': 'questionnaire'}, {'id': 'c6712196-384b-4555-8f5a-81387c08812e', 'slug': 'analytics-tracking'}, {'id': 'acec757f-c43b-4f68-a3e4-efee48af0c50', 'slug': 'focus-group'}], 'title': 'Marketing insight'}, {'id': '71716b70-1a47-4b53-8c4f-4d147d9f0722', 'subcategories': [{'id': 'a2a3422c-6e68-480e-85e6-717636da84a3', 'slug': 'marketing-project-management'}, {'id': '2b09df33-598c-4b89-8588-8bd58d836278', 'slug': 'marketing'}, {'id': 'b09ac5a2-e5dd-423d-8aaf-ba409759e418', 'slug': 'branding'}], 'title': 'Marketing Strategy'}, {'id': 'b0b0c2c4-d26e-4f31-87f4-3cc77e7943ba', 'subcategories': [{'id': '2cb5c1f5-e9ed-4149-8ed9-31c6bf60bdbd', 'slug': 'marketing-advertising-other'}], 'title': 'Other'}]}, {'id': 'e9a7dfc7-4066-48bc-9c78-de683c743260', 'slug': 'writing-translation', 'subcategory_groups': [{'id': 'e865af55-e2e0-4de0-958a-2ccc7b2e9650', 'subcategories': [{'id': 'cb5ec54f-5c52-49dd-9aee-a2370b346be3', 'slug': 'content-writing'}, {'id': '20ae7feb-e8e7-4fe2-a63b-b8dbcf3035ee', 'slug': 'typing-and-data-entry'}, {'id': '7c810a06-9910-4419-98a3-06677dec04cb', 'slug': 'transcription'}, {'id': '963f3d5d-0f27-4190-b47d-890d3e30d912', 'slug': 'story-writing'}], 'title': 'Content & Writing'}, {'id': 'e4b2c6d6-f38f-4072-b88c-c462a1973401', 'subcategories': [{'id': '61702345-bb25-4f02-ab0b-405395a86ce2', 'slug': 'translation'}, {'id': 'b7bcf052-75f9-44ab-849f-189ff0161cab', 'slug': 'proofreading'}, {'id': '9a751167-5ae5-4a29-be94-f4e28112d658', 'slug': 'translator'}], 'title': 'Language'}, {'id': '08b9c38d-56e3-427c-8f86-8244cee8d0c8', 'subcategories': [{'id': 'db4bbcb2-1c2a-4915-b35d-1d1c2b53b0a6', 'slug': 'writing-translation-other'}], 'title': 'Other'}]}, {'id': '073b202c-54e6-4a50-984d-08739895ba16', 'slug': 'photography-video', 'subcategory_groups': [{'id': 'b261ba12-b493-4650-a7ca-3809e7ced444', 'subcategories': [{'id': '961debb1-8f7d-4f3a-84ab-a8e780acd068', 'slug': 'videography'}, {'id': '6e2cda6c-6541-4895-bbae-ebcf2eb7c5ba', 'slug': 'photography'}, {'id': '2a56a259-6a2f-46ff-af89-54d383a015ea', 'slug': 'animations'}, {'id': 'bb2a7760-5150-4c17-8423-fb0a60bfe19c', 'slug': 'motion-graphics'}, {'id': '6d9f817e-658e-441a-a8c1-ad779aff3fff', 'slug': 'subtitle'}], 'title': ' Photo & Video'}, {'id': '7961654f-9677-435f-a44d-9dee25c24cf0', 'subcategories': [{'id': '0f517671-f8ee-4a8d-b851-c3eac99b73cf', 'slug': 'voice-over'}, {'id': 'b3f7339d-6398-41b7-a716-e70a4d69959c', 'slug': 'sound-engineering'}, {'id': '89988035-e162-4ce9-ae23-284afef9e459', 'slug': 'podcast'}, {'id': '87ccfd8b-dacf-4760-bed0-87d5d231ee33', 'slug': 'singer-band'}, {'id': '1ee0caf0-5917-4c58-b5fc-efd45987b7ff', 'slug': 'mc'}], 'title': 'Voice & Sound'}, {'id': '1024ec72-6647-45ed-b60c-00588171a3f1', 'subcategories': [{'id': '1e2fd8d1-6451-45da-a824-5315c2ddea61', 'slug': 'makeup'}, {'id': '836274f0-459b-4082-bb7e-0e81e079fd0d', 'slug': 'prop-stylist'}, {'id': 'fcf7938d-3540-42c0-a48a-a3aae9204e42', 'slug': 'stand-up-comedy'}, {'id': 'f161acd7-43cb-40d8-8fe2-7f5058c84a0d', 'slug': 'acting-modeling'}], 'title': 'Artist'}, {'id': '523d7952-9a10-49f5-9c8b-6da8785a6527', 'subcategories': [{'id': '00924aca-354b-4f95-a701-2fcd83668f78', 'slug': 'project-management-production'}], 'title': 'Event & Organizer'}, {'id': '751f2cdc-cd0b-4715-bad4-7ba3c8ef329b', 'subcategories': [{'id': '15f862f9-4d15-4271-9fe1-c491f7aa9f97', 'slug': 'photography-video-other'}], 'title': 'Other'}]}, {'id': '0856f9bb-b968-4ea1-8462-33cbedbf8372', 'slug': 'web-programming', 'subcategory_groups': [{'id': 'fddb72d1-baf8-4459-bcff-a48dbd197acd', 'subcategories': [{'id': '4594bcfe-8ad1-4e62-95ce-446347826fb9', 'slug': 'web-development'}, {'id': '9e13f987-465f-4b29-b00f-1a421c8acb62', 'slug': 'wordpress'}, {'id': 'd577610a-baf9-4473-a45c-8c3a4e47e658', 'slug': 'chatbot'}], 'title': 'Website Development'}, {'id': 'd74bdc07-8989-4edd-83a5-e07141f1183c', 'subcategories': [{'id': 'cf113b86-94aa-46a4-ae84-c742b394844d', 'slug': 'ux-ui-design-web-app'}], 'title': 'Design'}, {'id': '484a99ac-0239-4a07-a4b1-764feb013811', 'subcategories': [{'id': 'dd69da0f-2f98-4b91-8e51-fa5e76e22131', 'slug': 'mobile-application'}, {'id': '34b60608-6968-4b59-8148-43bcf846d040', 'slug': 'desktop-application'}], 'title': 'Application'}, {'id': '4c1c5cb1-ba21-4b8a-bcc2-4f433a99b202', 'subcategories': [{'id': '71ca6075-fb9e-4143-a855-edbef5a6f851', 'slug': 'it-project-management'}, {'id': '617339d5-bbfe-497a-a3dc-c0aca06659fb', 'slug': 'it-solution-and-support'}, {'id': 'e56220eb-1d89-4793-b2a2-31663afe3589', 'slug': 'iot'}, {'id': '4259c1fd-2270-4593-b0ee-b71a57a40bf1', 'slug': 'web-scraping'}, {'id': 'd3958c38-7ad8-4eb6-b86c-3e101a4fa16d', 'slug': 'quality-assurance'}], 'title': 'Technical'}, {'id': '2610dd40-636d-4319-afb1-552ebbeb10dd', 'subcategories': [{'id': '72c8f944-03ae-4690-97a8-377107365982', 'slug': 'web-programming-other'}], 'title': 'Other'}]}, {'id': '438d47c9-525b-467d-99df-b602ee90c35f', 'slug': 'consultant', 'subcategory_groups': [{'id': '2bf16f98-50c2-4b93-b3a9-46cd167892ba', 'subcategories': [{'id': '41faf2a9-f556-460e-a448-3d941275962c', 'slug': 'tutoring'}, {'id': '07070aaa-5df9-4c0d-b3b5-3f6946ca5e79', 'slug': 'self-improvement'}, {'id': 'fd25fd9f-9e3e-4e7a-b969-b9559fe043e6', 'slug': 'psychologist'}, {'id': '25540c55-a8fd-4d42-a463-7800ea1417ea', 'slug': 'counseling'}], 'title': 'Self improvement'}, {'id': '155e5f24-2f4c-4cd1-b67b-494e64bf1bb7', 'subcategories': [{'id': '3b489711-8d08-4d76-bf92-03f7ebe5db10', 'slug': 'investing-course'}, {'id': 'ae2aec13-47db-4aac-9e02-fd1e5394afdd', 'slug': 'legal'}, {'id': '5c90080c-0ec5-414e-bc60-d23fc63e1fd6', 'slug': 'business'}, {'id': '69609cba-1a5c-4ba0-a0b9-44641a973e71', 'slug': 'commercial-registration'}, {'id': '269c05a8-e23b-4ada-a861-f0c420344b52', 'slug': 'accounting-and-finance'}, {'id': 'b2031093-20b3-4117-968e-b686ccb8c0a5', 'slug': 'financial-planning'}, {'id': '4f6c14d4-7b03-4db8-9af6-4c00197d0714', 'slug': 'secretary'}, {'id': 'b46f3bcf-f658-4206-a120-b187e7be1f7c', 'slug': 'order-from-china'}], 'title': 'Business&Finance'}, {'id': 'fad4d549-0e02-4540-b721-f0319547130f', 'subcategories': [{'id': 'aede3ffc-3df2-4e15-89b1-c56364375d2e', 'slug': 'car-inspection'}, {'id': '845e8d5b-004c-4625-9eb8-a353e0b1a055', 'slug': 'home-inspection'}, {'id': '2f5de78e-ce9e-41ca-a2bf-eb3ad146c905', 'slug': 'horoscope'}, {'id': 'daf3d543-5a04-45f1-957b-4a651ee5b02d', 'slug': 'art-and-craft'}, {'id': '6c01f914-55b8-4de2-9f77-2e6f70216582', 'slug': 'feng-shui'}, {'id': '1b8c5505-1c3a-4837-a2fe-1a659ec7454c', 'slug': 'gaming'}, {'id': 'e30a6cd9-b490-4556-bf53-1ef1bf77eb4a', 'slug': 'trip-planner'}], 'title': 'Lifestyle'}, {'id': 'df907890-3558-4788-890e-48fe0bdb6e79', 'subcategories': [{'id': 'bc1e8506-feea-4724-86f0-30e95ee8e663', 'slug': 'consultant-other'}], 'title': 'Other'}]}, {'id': '366dfea7-b6d5-4482-83db-5a4306ad82aa', 'slug': 'operation', 'subcategory_groups': [{'id': '30ce95f4-bdb3-4239-9f0e-85cf562e0345', 'subcategories': [{'id': '51e129da-08b9-4894-8eb8-fde40900fe47', 'slug': 'shop-and-page-admin'}, {'id': '2fc104fb-4bc8-4886-be4d-60235eb92f9b', 'slug': 'shop-registration-and-listing'}, {'id': 'bab61bee-5c11-4d51-85a0-39b28c01c341', 'slug': 'callcenter-telesale'}, {'id': '4e1808b6-002c-4ef7-9e05-19e1187286ef', 'slug': 'sales'}, {'id': '9c7a4f06-bf78-47d4-aa07-03ef11e66d33', 'slug': 'operation-other'}], 'title': 'All'}]}]}\n"
     ]
    }
   ],
   "source": [
    "# Execute the query on the transport\n",
    "result = await client_gateway.execute_async(query)\n",
    "print(result)"
   ]
  },
  {
   "cell_type": "code",
   "execution_count": 162,
   "id": "75356610",
   "metadata": {},
   "outputs": [],
   "source": [
    "# Provide a GraphQL query\n",
    "query = gql(\n",
    "    \"\"\"\n",
    "query {\n",
    "    getProductByAdmin{\n",
    "        id\n",
    "        title\n",
    "        slug\n",
    "    }\n",
    "}\n",
    "\n",
    "\"\"\"\n",
    ")"
   ]
  },
  {
   "cell_type": "code",
   "execution_count": null,
   "id": "06d17b95",
   "metadata": {
    "scrolled": true
   },
   "outputs": [],
   "source": [
    "# Execute the query on the transport\n",
    "result = await client_gateway.execute_async(query)\n",
    "print(result)"
   ]
  },
  {
   "cell_type": "code",
   "execution_count": 165,
   "id": "0d43080d",
   "metadata": {},
   "outputs": [],
   "source": [
    "# Provide a GraphQL query\n",
    "# Introspection \n",
    "# https://graphql.org/learn/introspection/\n",
    "query = gql(\n",
    "\"\"\"\n",
    "query {\n",
    "    __schema {\n",
    "    types {\n",
    "      name\n",
    "      fields {\n",
    "        name\n",
    "        description\n",
    "      }\n",
    "    }\n",
    "  }\n",
    "}\n",
    "\n",
    "\"\"\"\n",
    ")\n"
   ]
  },
  {
   "cell_type": "code",
   "execution_count": 166,
   "id": "a670400d",
   "metadata": {
    "scrolled": true
   },
   "outputs": [
    {
     "name": "stdout",
     "output_type": "stream",
     "text": [
      "{'__schema': {'types': [{'fields': [{'description': '', 'name': 'icon_url'}, {'description': '', 'name': 'id'}, {'description': '', 'name': 'parent_id'}, {'description': '', 'name': 'slug'}, {'description': '', 'name': 'sort_order'}, {'description': '', 'name': 'subtitle'}, {'description': '', 'name': 'title'}, {'description': '', 'name': 'type'}], 'name': 'BuyerOnboardFilter'}, {'fields': [{'description': '', 'name': 'description'}, {'description': '', 'name': 'footer_description'}, {'description': '', 'name': 'has_alternate_locale'}, {'description': '', 'name': 'id'}, {'description': '', 'name': 'meta_description'}, {'description': '', 'name': 'meta_image'}, {'description': '', 'name': 'meta_title'}, {'description': '', 'name': 'subcategory_id'}, {'description': '', 'name': 'tag_id'}, {'description': '', 'name': 'title'}], 'name': 'ProductTagSEOType'}, {'fields': [{'description': '', 'name': 'icon'}, {'description': '', 'name': 'is_default'}, {'description': '', 'name': 'label'}, {'description': '', 'name': 'tag'}, {'description': '', 'name': 'value'}], 'name': 'ProductFilterChoice'}, {'fields': [{'description': '', 'name': 'product_ids'}], 'name': 'PersonalizePopularProducts'}, {'fields': [{'description': '', 'name': 'description'}, {'description': '', 'name': 'enumValues'}, {'description': '', 'name': 'fields'}, {'description': '', 'name': 'inputFields'}, {'description': '', 'name': 'interfaces'}, {'description': '', 'name': 'kind'}, {'description': '', 'name': 'name'}, {'description': '', 'name': 'ofType'}, {'description': '', 'name': 'possibleTypes'}], 'name': '__Type'}, {'fields': [{'description': '', 'name': 'hex_color'}, {'description': '', 'name': 'name'}], 'name': 'ProductBadgeType'}, {'fields': [{'description': '', 'name': 'approved'}, {'description': '', 'name': 'approved_at'}, {'description': '', 'name': 'base_amount'}, {'description': '', 'name': 'bonus_amount'}, {'description': '', 'name': 'coin_payment_code'}, {'description': '', 'name': 'coin_payment_slip_image'}, {'description': '', 'name': 'coin_payment_slip_image_updated_at'}, {'description': '', 'name': 'created_at'}, {'description': '', 'name': 'id'}, {'description': '', 'name': 'note'}, {'description': '', 'name': 'reason'}, {'description': '', 'name': 'sms'}, {'description': '', 'name': 'sms_timestamp'}, {'description': '', 'name': 'status'}, {'description': '', 'name': 'type'}, {'description': '', 'name': 'updated_at'}, {'description': '', 'name': 'user_id'}], 'name': 'Wallet'}, {'fields': [{'description': '', 'name': 'active'}, {'description': '', 'name': 'badge_text'}, {'description': '', 'name': 'base_package'}, {'description': '', 'name': 'bonus_rate'}, {'description': '', 'name': 'bonus_type'}, {'description': '', 'name': 'bonus_unit'}, {'description': '', 'name': 'created_at'}, {'description': '', 'name': 'hex_color'}, {'description': '', 'name': 'id'}, {'description': '', 'name': 'title'}, {'description': '', 'name': 'updated_at'}], 'name': 'WalletPackage'}, {'fields': [{'description': '', 'name': 'count'}, {'description': '', 'name': 'coupons'}], 'name': 'CouponListType'}, {'fields': [{'description': '', 'name': 'conditions'}, {'description': '', 'name': 'count'}], 'name': 'CouponConditionListType'}, {'fields': None, 'name': 'AuthLoginInputType'}, {'fields': [{'description': '', 'name': 'created_at'}, {'description': '', 'name': 'event'}, {'description': '', 'name': 'id'}, {'description': '', 'name': 'note'}, {'description': '', 'name': 'product_id'}, {'description': '', 'name': 'status'}], 'name': 'ProductHistoryType'}, {'fields': [{'description': '', 'name': 'provider'}, {'description': '', 'name': 'uid'}, {'description': '', 'name': 'user_id'}], 'name': 'UserOauthProfile'}, {'fields': [{'description': '', 'name': 'content'}, {'description': '', 'name': 'created_at'}, {'description': '', 'name': 'event'}, {'description': '', 'name': 'header'}, {'description': '', 'name': 'id'}, {'description': '', 'name': 'image'}, {'description': '', 'name': 'reference_id'}, {'description': '', 'name': 'reference_type'}, {'description': '', 'name': 'seen'}, {'description': '', 'name': 'seen_at'}, {'description': '', 'name': 'updated_at'}, {'description': '', 'name': 'url'}, {'description': '', 'name': 'user_id'}], 'name': 'Notification'}, {'fields': [{'description': '', 'name': 'products_sync_count'}, {'description': '', 'name': 'version'}], 'name': 'ProductSyncType'}, {'fields': [{'description': '', 'name': 'category_id'}, {'description': '', 'name': 'icon_name'}, {'description': '', 'name': 'id'}, {'description': '', 'name': 'sitemap_anchor'}, {'description': '', 'name': 'sort_order'}, {'description': '', 'name': 'subcategories'}, {'description': '', 'name': 'subcategory_id'}, {'description': '', 'name': 'title'}], 'name': 'ProductSubcategoryGroupType'}, {'fields': [{'description': '', 'name': 'attribute_values'}, {'description': '', 'name': 'delivery_time'}, {'description': '', 'name': 'description'}, {'description': '', 'name': 'id'}, {'description': '', 'name': 'is_new_onboard'}, {'description': '', 'name': 'price'}, {'description': '', 'name': 'price_max'}, {'description': '', 'name': 'product_attribute_value_ids'}, {'description': '', 'name': 'product_id'}, {'description': '', 'name': 'revenue'}, {'description': '', 'name': 'show'}, {'description': '', 'name': 'sort_order'}, {'description': '', 'name': 'system_attributes'}, {'description': '', 'name': 'title'}], 'name': 'ProductPackage'}, {'fields': [{'description': '', 'name': 'about_me'}, {'description': '', 'name': 'created_at'}, {'description': '', 'name': 'experience'}, {'description': '', 'name': 'experiences'}, {'description': '', 'name': 'first_name'}, {'description': '', 'name': 'id'}, {'description': '', 'name': 'image'}, {'description': '', 'name': 'last_online_at'}, {'description': '', 'name': 'phone_number'}, {'description': '', 'name': 'stats'}, {'description': '', 'name': 'username'}], 'name': 'LiveProductUser'}, {'fields': [{'description': '', 'name': 'choices'}, {'description': '', 'name': 'description'}, {'description': '', 'name': 'display_inside'}, {'description': '', 'name': 'display_outside'}, {'description': '', 'name': 'field'}, {'description': '', 'name': 'name'}, {'description': '', 'name': 'type'}], 'name': 'ProductFilter'}, {'fields': [{'description': '', 'name': 'content'}, {'description': '', 'name': 'id'}, {'description': '', 'name': 'type'}, {'description': '', 'name': 'version'}], 'name': 'Privacy'}, {'fields': [{'description': '', 'name': 'product_ids'}], 'name': 'PersonalizeRecentlyViewedProducts'}, {'fields': [{'description': '', 'name': 'args'}, {'description': '', 'name': 'deprecationReason'}, {'description': '', 'name': 'description'}, {'description': '', 'name': 'isDeprecated'}, {'description': '', 'name': 'name'}, {'description': '', 'name': 'type'}], 'name': '__Field'}, {'fields': [{'description': '', 'name': 'id'}, {'description': '', 'name': 'slug'}, {'description': '', 'name': 'title'}], 'name': 'ProductSubcategoryCategory'}, {'fields': [{'description': '', 'name': 'badge_image'}, {'description': '', 'name': 'info_link'}, {'description': '', 'name': 'main'}, {'description': '', 'name': 'name'}, {'description': '', 'name': 'sub'}, {'description': '', 'name': 'tooltip'}], 'name': 'ProductDetailDecorBadge'}, {'fields': [{'description': '', 'name': 'responses'}], 'name': 'MessageResponseRatesType'}, {'fields': [{'description': '', 'name': 'orderId'}, {'description': '', 'name': 'response'}], 'name': 'MessageResponseRateType'}, {'fields': [{'description': '', 'name': 'about_seller'}, {'description': '', 'name': 'algolia_status'}, {'description': '', 'name': 'attribute_values'}, {'description': '', 'name': 'auto_message'}, {'description': '', 'name': 'badges'}, {'description': '', 'name': 'badges_new'}, {'description': '', 'name': 'ban_days'}, {'description': '', 'name': 'banned_at'}, {'description': '', 'name': 'base_delivery_time'}, {'description': '', 'name': 'base_price'}, {'description': '', 'name': 'base_price_description'}, {'description': '', 'name': 'base_price_max'}, {'description': '', 'name': 'bio'}, {'description': '', 'name': 'category'}, {'description': '', 'name': 'category_id'}, {'description': '', 'name': 'completion_rate'}, {'description': '', 'name': 'created_at'}, {'description': '', 'name': 'description'}, {'description': '', 'name': 'detail_decor'}, {'description': '', 'name': 'enable_auto_message'}, {'description': '', 'name': 'enable_auto_message_offline'}, {'description': '', 'name': 'enable_translation'}, {'description': '', 'name': 'extra_description'}, {'description': '', 'name': 'extras'}, {'description': '', 'name': 'favorites'}, {'description': '', 'name': 'featured'}, {'description': '', 'name': 'fw_score'}, {'description': '', 'name': 'fw_score_1'}, {'description': '', 'name': 'fw_score_2'}, {'description': '', 'name': 'fw_score_3'}, {'description': '', 'name': 'fw_score_4'}, {'description': '', 'name': 'has_seller_coupon'}, {'description': '', 'name': 'hide_at'}, {'description': '', 'name': 'id'}, {'description': '', 'name': 'images'}, {'description': '', 'name': 'inquiries_count'}, {'description': '', 'name': 'is_hot'}, {'description': '', 'name': 'is_instant_hire'}, {'description': '', 'name': 'is_new'}, {'description': '', 'name': 'is_new_onboard'}, {'description': '', 'name': 'is_pro'}, {'description': '', 'name': 'is_standard_verified'}, {'description': '', 'name': 'last_approved_at'}, {'description': '', 'name': 'option_images'}, {'description': '', 'name': 'overall_rating'}, {'description': '', 'name': 'packages'}, {'description': '', 'name': 'price_before_discount'}, {'description': '', 'name': 'purchase'}, {'description': '', 'name': 'purchase_count'}, {'description': '', 'name': 'rating'}, {'description': '', 'name': 'ready_to_work_at'}, {'description': '', 'name': 'rehire_orders_count'}, {'description': '', 'name': 'reviews'}, {'description': '', 'name': 'reviews_count'}, {'description': '', 'name': 'revision_policy'}, {'description': '', 'name': 'show'}, {'description': '', 'name': 'show_phone_number'}, {'description': '', 'name': 'slug'}, {'description': '', 'name': 'socials'}, {'description': '', 'name': 'status'}, {'description': '', 'name': 'subcategory'}, {'description': '', 'name': 'subcategory_id'}, {'description': '', 'name': 'tags'}, {'description': '', 'name': 'title'}, {'description': '', 'name': 'updated_at'}, {'description': '', 'name': 'user'}, {'description': '', 'name': 'user_id'}, {'description': '', 'name': 'views'}, {'description': '', 'name': 'websites'}, {'description': '', 'name': 'work_steps'}], 'name': 'Product'}, {'fields': [{'description': '', 'name': 'id'}, {'description': '', 'name': 'user_id'}], 'name': 'ProductUserFavorite'}, {'fields': [{'description': '', 'name': 'completion_rate'}, {'description': '', 'name': 'conversion_rate'}, {'description': '', 'name': 'id'}, {'description': '', 'name': 'response_rate'}, {'description': '', 'name': 'response_time'}], 'name': 'ProductUserStat'}, {'fields': [{'description': '', 'name': 'active'}, {'description': '', 'name': 'allow_fast'}, {'description': '', 'name': 'allow_new_product'}, {'description': '', 'name': 'attributes'}, {'description': '', 'name': 'avg_rating'}, {'description': '', 'name': 'bottom_page_description'}, {'description': '', 'name': 'category'}, {'description': '', 'name': 'category_id'}, {'description': '', 'name': 'description'}, {'description': '', 'name': 'filters'}, {'description': '', 'name': 'h1'}, {'description': '', 'name': 'has_alternate_locale'}, {'description': '', 'name': 'has_social'}, {'description': '', 'name': 'hot'}, {'description': '', 'name': 'icon'}, {'description': '', 'name': 'id'}, {'description': '', 'name': 'image'}, {'description': '', 'name': 'intention_list'}, {'description': '', 'name': 'is_new'}, {'description': '', 'name': 'listing_seo'}, {'description': '', 'name': 'minimum_price'}, {'description': '', 'name': 'reviews_count'}, {'description': '', 'name': 'sitemap_anchor'}, {'description': '', 'name': 'slug'}, {'description': '', 'name': 'sort_order'}, {'description': '', 'name': 'subcategory_group_icon_name'}, {'description': '', 'name': 'subsubcategories'}, {'description': '', 'name': 'subtitle'}, {'description': '', 'name': 'suggested_tags'}, {'description': '', 'name': 'system_attributes'}, {'description': '', 'name': 'title'}, {'description': '', 'name': 'title_seo'}, {'description': '', 'name': 'top_page_description'}], 'name': 'ProductSubcategory'}, {'fields': [{'description': '', 'name': 'active'}, {'description': '', 'name': 'amount'}, {'description': '', 'name': 'condition'}, {'description': '', 'name': 'condition_id'}, {'description': '', 'name': 'coupon_code'}, {'description': '', 'name': 'created_at'}, {'description': '', 'name': 'description'}, {'description': '', 'name': 'expiry_date'}, {'description': '', 'name': 'id'}, {'description': '', 'name': 'is_percent'}, {'description': '', 'name': 'is_public'}, {'description': '', 'name': 'maximum'}, {'description': '', 'name': 'minimum'}, {'description': '', 'name': 'reusable'}, {'description': '', 'name': 'start_date'}, {'description': '', 'name': 'total_limit'}, {'description': '', 'name': 'type'}, {'description': '', 'name': 'updated_at'}, {'description': '', 'name': 'use_with_promotion'}, {'description': '', 'name': 'value'}], 'name': 'Coupon'}, {'fields': [{'description': 'A GraphQL-formatted string representing the default value for this input value.', 'name': 'defaultValue'}, {'description': '', 'name': 'description'}, {'description': '', 'name': 'name'}, {'description': '', 'name': 'type'}], 'name': '__InputValue'}, {'fields': [{'description': '', 'name': 'claimed_at'}, {'description': '', 'name': 'coupon'}, {'description': '', 'name': 'coupon_code'}, {'description': '', 'name': 'coupon_id'}, {'description': '', 'name': 'coupon_user_id'}, {'description': '', 'name': 'created_at'}, {'description': '', 'name': 'id'}, {'description': '', 'name': 'is_claimed'}, {'description': '', 'name': 'updated_at'}, {'description': '', 'name': 'user_id'}], 'name': 'CouponClaimCode'}, {'fields': [{'description': '', 'name': 'active'}, {'description': '', 'name': 'allow_fast'}, {'description': '', 'name': 'allow_new_product'}, {'description': '', 'name': 'attributes'}, {'description': '', 'name': 'avg_rating'}, {'description': '', 'name': 'bottom_page_description'}, {'description': '', 'name': 'category'}, {'description': '', 'name': 'category_id'}, {'description': '', 'name': 'description'}, {'description': '', 'name': 'filters'}, {'description': '', 'name': 'h1'}, {'description': '', 'name': 'has_alternate_locale'}, {'description': '', 'name': 'has_social'}, {'description': '', 'name': 'hot'}, {'description': '', 'name': 'icon'}, {'description': '', 'name': 'id'}, {'description': '', 'name': 'image'}, {'description': '', 'name': 'is_new'}, {'description': '', 'name': 'listing_seo'}, {'description': '', 'name': 'minimum_price'}, {'description': '', 'name': 'reviews_count'}, {'description': '', 'name': 'sitemap_anchor'}, {'description': '', 'name': 'slug'}, {'description': '', 'name': 'sort_order'}, {'description': '', 'name': 'subcategory_group_icon_name'}, {'description': '', 'name': 'subsubcategories'}, {'description': '', 'name': 'subtitle'}, {'description': '', 'name': 'suggested_tags'}, {'description': '', 'name': 'system_attributes'}, {'description': '', 'name': 'title'}, {'description': '', 'name': 'title_seo'}, {'description': '', 'name': 'top_page_description'}], 'name': 'LiveProductSubcategory'}, {'fields': None, 'name': 'AuthGetUserInputType'}, {'fields': [{'description': '', 'name': 'message'}], 'name': 'EmptyType'}, {'fields': [{'description': '', 'name': 'star_1'}, {'description': '', 'name': 'star_2'}, {'description': '', 'name': 'star_3'}, {'description': '', 'name': 'star_4'}, {'description': '', 'name': 'star_5'}], 'name': 'ProductReviewCount'}, {'fields': [{'description': '', 'name': 'data'}, {'description': '', 'name': 'icon_url'}, {'description': '', 'name': 'type'}], 'name': 'ProductUserExperience'}, {'fields': [{'description': '', 'name': 'badges'}], 'name': 'ProductDetailDecor'}, {'fields': [{'description': '', 'name': 'description'}, {'description': '', 'name': 'id'}, {'description': '', 'name': 'name'}, {'description': '', 'name': 'seo'}, {'description': '', 'name': 'slug'}, {'description': '', 'name': 'title'}], 'name': 'ProductTag'}, {'fields': [{'description': '', 'name': 'id'}, {'description': '', 'name': 'message'}, {'description': '', 'name': 'title'}], 'name': 'UserPreMessage'}, {'fields': [{'description': '', 'name': 'subcategory_id'}, {'description': '', 'name': 'subcategory_slug'}, {'description': '', 'name': 'subcategory_title'}, {'description': '', 'name': 'subsubcategories'}], 'name': 'SubcategoryTag'}, {'fields': None, 'name': 'AuthRefreshInputType'}, {'fields': None, 'name': 'AuthSignupInputType'}, {'fields': [{'description': '', 'name': 'id'}, {'description': '', 'name': 'image_medium'}, {'description': '', 'name': 'image_thumbnail'}, {'description': '', 'name': 'is_cover_photo'}, {'description': '', 'name': 'product_id'}, {'description': '', 'name': 'sort_order'}, {'description': '', 'name': 'source'}, {'description': '', 'name': 'type'}, {'description': '', 'name': 'video_id'}], 'name': 'ProductImage'}, {'fields': [{'description': '', 'name': 'description'}, {'description': '', 'name': 'id'}, {'description': '', 'name': 'is_contained'}, {'description': '', 'name': 'name'}, {'description': '', 'name': 'sort_order'}], 'name': 'ProductPackageAttributeValue'}, {'fields': [{'description': '', 'name': 'address'}, {'description': '', 'name': 'branch'}, {'description': '', 'name': 'company_image'}, {'description': '', 'name': 'disapprove_reason'}, {'description': '', 'name': 'id'}, {'description': '', 'name': 'industry'}, {'description': '', 'name': 'is_verified'}, {'description': '', 'name': 'name'}, {'description': '', 'name': 'phone_number'}, {'description': '', 'name': 'status'}, {'description': '', 'name': 'tax_id'}, {'description': '', 'name': 'user_id'}, {'description': '', 'name': 'verified_at'}, {'description': '', 'name': 'website'}], 'name': 'UserCompany'}, {'fields': [{'description': '', 'name': 'count'}, {'description': '', 'name': 'coupon_claim_codes'}], 'name': 'CouponClaimCodeListType'}, {'fields': [{'description': '', 'name': 'deprecationReason'}, {'description': '', 'name': 'description'}, {'description': '', 'name': 'isDeprecated'}, {'description': '', 'name': 'name'}], 'name': '__EnumValue'}, {'fields': [{'description': '', 'name': 'description'}, {'description': '', 'name': 'id'}, {'description': '', 'name': 'name'}, {'description': '', 'name': 'unit'}, {'description': '', 'name': 'value'}], 'name': 'ProductPackageSystemAttribute'}, {'fields': [{'description': '', 'name': 'access_token'}, {'description': '', 'name': 'id'}, {'description': '', 'name': 'provider'}, {'description': '', 'name': 'provider_reference_id'}, {'description': '', 'name': 'user_id'}], 'name': 'UserThirdPartyToken'}, {'fields': [{'description': '', 'name': 'order_code'}], 'name': 'Order'}, {'fields': [{'description': '', 'name': 'count'}, {'description': '', 'name': 'five_star'}, {'description': '', 'name': 'four_star'}, {'description': '', 'name': 'one_star'}, {'description': '', 'name': 'overall_rating'}, {'description': '', 'name': 'three_star'}, {'description': '', 'name': 'two_star'}], 'name': 'ProductRating'}, {'fields': [{'description': '', 'name': 'description'}, {'description': '', 'name': 'id'}, {'description': '', 'name': 'is_in_package'}, {'description': '', 'name': 'max_value_count'}, {'description': '', 'name': 'name'}, {'description': '', 'name': 'slug'}, {'description': '', 'name': 'values'}], 'name': 'ProductSubcategoryAttribute'}, {'fields': [{'description': '', 'name': 'created_at'}, {'description': '', 'name': 'first_name'}, {'description': '', 'name': 'id'}, {'description': '', 'name': 'image'}, {'description': '', 'name': 'last_online_at'}, {'description': '', 'name': 'username'}], 'name': 'ProductReviewer'}, {'fields': [{'description': '', 'name': 'about_seller'}, {'description': '', 'name': 'algolia_status'}, {'description': '', 'name': 'attribute_values'}, {'description': '', 'name': 'auto_message'}, {'description': '', 'name': 'badges'}, {'description': '', 'name': 'badges_new'}, {'description': '', 'name': 'ban_days'}, {'description': '', 'name': 'banned_at'}, {'description': '', 'name': 'base_delivery_time'}, {'description': '', 'name': 'base_price'}, {'description': '', 'name': 'base_price_description'}, {'description': '', 'name': 'base_price_max'}, {'description': '', 'name': 'bio'}, {'description': '', 'name': 'category'}, {'description': '', 'name': 'category_id'}, {'description': '', 'name': 'completion_rate'}, {'description': '', 'name': 'created_at'}, {'description': '', 'name': 'description'}, {'description': '', 'name': 'detail_decor'}, {'description': '', 'name': 'enable_auto_message'}, {'description': '', 'name': 'enable_auto_message_offline'}, {'description': '', 'name': 'enable_translation'}, {'description': '', 'name': 'extra_description'}, {'description': '', 'name': 'extras'}, {'description': '', 'name': 'favorites'}, {'description': '', 'name': 'featured'}, {'description': '', 'name': 'fw_score'}, {'description': '', 'name': 'fw_score_1'}, {'description': '', 'name': 'fw_score_2'}, {'description': '', 'name': 'fw_score_3'}, {'description': '', 'name': 'fw_score_4'}, {'description': '', 'name': 'has_seller_coupon'}, {'description': '', 'name': 'hide_at'}, {'description': '', 'name': 'id'}, {'description': '', 'name': 'images'}, {'description': '', 'name': 'inquiries_count'}, {'description': '', 'name': 'is_hot'}, {'description': '', 'name': 'is_instant_hire'}, {'description': '', 'name': 'is_new'}, {'description': '', 'name': 'is_new_onboard'}, {'description': '', 'name': 'is_pro'}, {'description': '', 'name': 'is_standard_verified'}, {'description': '', 'name': 'last_approved_at'}, {'description': '', 'name': 'option_images'}, {'description': '', 'name': 'overall_rating'}, {'description': '', 'name': 'packages'}, {'description': '', 'name': 'price_before_discount'}, {'description': '', 'name': 'purchase'}, {'description': '', 'name': 'purchase_count'}, {'description': '', 'name': 'rating'}, {'description': '', 'name': 'ready_to_work_at'}, {'description': '', 'name': 'rehire_orders_count'}, {'description': '', 'name': 'reviews'}, {'description': '', 'name': 'reviews_count'}, {'description': '', 'name': 'revision_policy'}, {'description': '', 'name': 'show'}, {'description': '', 'name': 'show_phone_number'}, {'description': '', 'name': 'slug'}, {'description': '', 'name': 'socials'}, {'description': '', 'name': 'status'}, {'description': '', 'name': 'subcategory'}, {'description': '', 'name': 'subcategory_id'}, {'description': '', 'name': 'tags'}, {'description': '', 'name': 'title'}, {'description': '', 'name': 'updated_at'}, {'description': '', 'name': 'user'}, {'description': '', 'name': 'user_id'}, {'description': '', 'name': 'views'}, {'description': '', 'name': 'websites'}, {'description': '', 'name': 'work_steps'}], 'name': 'LiveProductSnapshot'}, {'fields': [{'description': '', 'name': 'categories'}, {'description': '', 'name': 'description'}, {'description': '', 'name': 'id'}, {'description': '', 'name': 'image'}, {'description': '', 'name': 'image_mobile'}, {'description': '', 'name': 'products'}, {'description': '', 'name': 'subcategories'}, {'description': '', 'name': 'title'}], 'name': 'SpecialCampaign'}, {'fields': [{'description': '', 'name': 'field_name'}, {'description': '', 'name': 'is_valid'}, {'description': '', 'name': 'message'}], 'name': 'FieldValidation'}, {'fields': None, 'name': 'Int'}, {'fields': [{'description': '', 'name': 'attachmentURL'}, {'description': '', 'name': 'content'}, {'description': '', 'name': 'createdAt'}, {'description': '', 'name': 'datastore_sync'}, {'description': '', 'name': 'id'}, {'description': '', 'name': 'orderId'}, {'description': '', 'name': 'senderId'}, {'description': '', 'name': 'type'}, {'description': '', 'name': 'updatedAt'}], 'name': 'MessageType'}, {'fields': [{'description': '', 'name': 'full_name'}, {'description': '', 'name': 'id'}, {'description': '', 'name': 'image'}], 'name': 'ProductReviewerV2'}, {'fields': [{'description': '', 'name': 'attribute_values'}, {'description': '', 'name': 'delivery_time'}, {'description': '', 'name': 'description'}, {'description': '', 'name': 'id'}, {'description': '', 'name': 'is_new_onboard'}, {'description': '', 'name': 'price'}, {'description': '', 'name': 'price_max'}, {'description': '', 'name': 'product_attribute_value_ids'}, {'description': '', 'name': 'product_id'}, {'description': '', 'name': 'revenue'}, {'description': '', 'name': 'show'}, {'description': '', 'name': 'sort_order'}, {'description': '', 'name': 'system_attributes'}, {'description': '', 'name': 'title'}], 'name': 'LiveProductPackage'}, {'fields': [{'description': '', 'name': 'access_token'}, {'description': '', 'name': 'refresh_token'}], 'name': 'AuthLoginToken'}, {'fields': None, 'name': '__DirectiveLocation'}, {'fields': None, 'name': 'GetResponseRatesRequest'}, {'fields': [{'description': 'A list of all directives supported by this server.', 'name': 'directives'}, {'description': 'If this server supports mutation, the type that mutation operations will be rooted at.', 'name': 'mutationType'}, {'description': 'The type that query operations will be rooted at.', 'name': 'queryType'}, {'description': 'If this server supports subscription, the type that subscription operations will be rooted at.', 'name': 'subscriptionType'}, {'description': 'A list of all types supported by this server.', 'name': 'types'}], 'name': '__Schema'}, {'fields': [{'description': '', 'name': 'description'}, {'description': '', 'name': 'id'}, {'description': '', 'name': 'product_id'}, {'description': '', 'name': 'sort_order'}], 'name': 'ProductWorkstep'}, {'fields': [{'description': '', 'name': 'comment'}, {'description': '', 'name': 'created_at'}, {'description': '', 'name': 'id'}, {'description': '', 'name': 'is_anonymous'}, {'description': '', 'name': 'is_cancelled'}, {'description': '', 'name': 'order_id'}, {'description': '', 'name': 'product_usage'}, {'description': '', 'name': 'rating'}, {'description': '', 'name': 'review_reply'}, {'description': '', 'name': 'reviewer'}], 'name': 'ProductReviewV2'}, {'fields': [{'description': '', 'name': 'category'}, {'description': '', 'name': 'product_ids'}], 'name': 'SpecialProductByCategory'}, {'fields': None, 'name': 'AuthLoginGoogleInputType'}, {'fields': [{'description': '', 'name': 'category'}, {'description': '', 'name': 'description'}, {'description': '', 'name': 'images'}, {'description': '', 'name': 'packages'}, {'description': '', 'name': 'work_steps'}], 'name': 'ProductValidate'}, {'fields': [{'description': '', 'name': 'description'}, {'description': '', 'name': 'followers'}, {'description': '', 'name': 'id'}, {'description': '', 'name': 'link'}, {'description': '', 'name': 'product_id'}, {'description': '', 'name': 'reference_id'}, {'description': '', 'name': 'social_name'}, {'description': '', 'name': 'user_id'}, {'description': '', 'name': 'username'}], 'name': 'ProductSocial'}, {'fields': [{'description': '', 'name': 'amount'}, {'description': '', 'name': 'color'}, {'description': '', 'name': 'is_rating'}, {'description': '', 'name': 'name'}, {'description': '', 'name': 'url'}], 'name': 'ProductFilterChoiceIcon'}, {'fields': [{'description': '', 'name': 'description'}, {'description': '', 'name': 'id'}, {'description': '', 'name': 'name'}, {'description': '', 'name': 'slug'}, {'description': '', 'name': 'sort_order'}], 'name': 'ProductSubcategoryAttributeValue'}, {'fields': [{'description': '', 'name': 'image'}, {'description': '', 'name': 'link'}, {'description': '', 'name': 'sort_order'}, {'description': '', 'name': 'title'}], 'name': 'IntentionList'}, {'fields': [{'description': '', 'name': 'id'}, {'description': '', 'name': 'messages'}, {'description': '', 'name': 'role'}, {'description': '', 'name': 'title'}], 'name': 'UserPreMessageCollection'}, {'fields': [{'description': '', 'name': 'amount'}, {'description': '', 'name': 'title'}, {'description': '', 'name': 'type'}], 'name': 'ValidateBonus'}, {'fields': [{'description': '', 'name': 'acceptUserPrivacy'}, {'description': '', 'name': 'adminBulkdUpdateProductTags'}, {'description': '', 'name': 'approveWallet'}, {'description': '', 'name': 'authProxy'}, {'description': '', 'name': 'auth_get_user'}, {'description': '', 'name': 'auth_login'}, {'description': '', 'name': 'auth_login_facebook'}, {'description': '', 'name': 'auth_login_google'}, {'description': '', 'name': 'auth_refresh'}, {'description': '', 'name': 'calculateScore'}, {'description': '', 'name': 'cancelWallet'}, {'description': '', 'name': 'convertImageToBase64'}, {'description': '', 'name': 'createChatChannel'}, {'description': '', 'name': 'createCoupon'}, {'description': '', 'name': 'createCouponClaimCodes'}, {'description': '', 'name': 'createOrderInquiry'}, {'description': '', 'name': 'createUserOauthProfile'}, {'description': '', 'name': 'createWebNotification'}, {'description': '', 'name': 'disapproveWallet'}, {'description': '', 'name': 'markAllMessagesAsRead'}, {'description': '', 'name': 'product_ban'}, {'description': '', 'name': 'product_create'}, {'description': '', 'name': 'product_submit_for_approval'}, {'description': '', 'name': 'product_update_auto_message'}, {'description': '', 'name': 'product_update_show_status'}, {'description': '', 'name': 'product_validate'}, {'description': '', 'name': 'randomUserSegment'}, {'description': '', 'name': 'redeem'}, {'description': '', 'name': 'sendChatMessage'}, {'description': '', 'name': 'setReadyToWorkAt'}, {'description': '', 'name': 'setSeenAllNotification'}, {'description': '', 'name': 'setSeenListNotification'}, {'description': '', 'name': 'setSeenNotification'}, {'description': '', 'name': 'setSeenNotificationByReference'}, {'description': '', 'name': 'syncProducts'}, {'description': '', 'name': 'topupWallet'}, {'description': '', 'name': 'updateCoupon'}, {'description': '', 'name': 'updateNoteWallet'}, {'description': '', 'name': 'updateProductTags'}, {'description': '', 'name': 'uploadPaymentSlipImageWallet'}, {'description': '', 'name': 'userSignup'}, {'description': '', 'name': 'userSignupValidate'}], 'name': 'RootMutation'}, {'fields': None, 'name': 'UserSignupInput'}, {'fields': [{'description': '', 'name': 'adminListUserOauthProfiles'}, {'description': '', 'name': 'categories'}, {'description': '', 'name': 'getLastMessage'}, {'description': '', 'name': 'getLastMessages'}, {'description': '', 'name': 'getListCouponClaimCodes'}, {'description': '', 'name': 'getListCouponConditions'}, {'description': '', 'name': 'getListCoupons'}, {'description': '', 'name': 'getOauthUserProfile'}, {'description': '', 'name': 'getProductByAdmin'}, {'description': '', 'name': 'getProductHistoryByAdmin'}, {'description': '', 'name': 'getProductNotesByAdmin'}, {'description': '', 'name': 'getResponseRates'}, {'description': '', 'name': 'getResponseTimes'}, {'description': '', 'name': 'getSellerRating'}, {'description': '', 'name': 'getSellerReviews'}, {'description': '', 'name': 'getWalletByID'}, {'description': '', 'name': 'getWalletPaginate'}, {'description': '', 'name': 'listBuyerOnboardFilter'}, {'description': '', 'name': 'listMessages'}, {'description': '', 'name': 'listProductFilter'}, {'description': '', 'name': 'list_recently_viewed_products'}, {'description': '', 'name': 'list_special_product'}, {'description': '', 'name': 'liveProduct'}, {'description': '', 'name': 'locales'}, {'description': '', 'name': 'notifications'}, {'description': '', 'name': 'package'}, {'description': '', 'name': 'personalize_popular_products'}, {'description': '', 'name': 'personalize_recently_viewed_products'}, {'description': '', 'name': 'privacy'}, {'description': '', 'name': 'product'}, {'description': '', 'name': 'productOnboardValidate'}, {'description': '', 'name': 'random_pro_products'}, {'description': '', 'name': 'relatedProduct'}, {'description': '', 'name': 'sme_product'}, {'description': '', 'name': 'sme_products'}, {'description': '', 'name': 'special_campaign'}, {'description': '', 'name': 'subcategories'}, {'description': '', 'name': 'subcategory'}, {'description': '', 'name': 'subcategoryTag'}, {'description': '', 'name': 'tag'}, {'description': '', 'name': 'user'}, {'description': '', 'name': 'validateWallet'}, {'description': '', 'name': 'walletHistories'}, {'description': '', 'name': 'walletPackages'}], 'name': 'RootQuery'}, {'fields': [{'description': '', 'name': 'id'}, {'description': '', 'name': 'product_id'}, {'description': '', 'name': 'user_id'}], 'name': 'UserFavoriteProduct'}, {'fields': [{'description': '', 'name': 'product_ids'}], 'name': 'RandomProProducts'}, {'fields': None, 'name': 'AuthLoginFacebookInputType'}, {'fields': [{'description': '', 'name': 'bg_color'}, {'description': '', 'name': 'text_color'}, {'description': '', 'name': 'title'}, {'description': '', 'name': 'tooltip'}], 'name': 'ProductDetailDecorBadgeDetail'}, {'fields': [{'description': '', 'name': 'id'}, {'description': '', 'name': 'show'}, {'description': '', 'name': 'snapshot'}, {'description': '', 'name': 'status'}], 'name': 'LiveProduct'}, {'fields': [{'description': '', 'name': 'discount'}, {'description': '', 'name': 'id'}], 'name': 'SpecialCampaignProduct'}, {'fields': None, 'name': 'NotificationInput'}, {'fields': [{'description': '', 'name': 'base_price'}, {'description': '', 'name': 'check_list'}, {'description': '', 'name': 'description'}, {'description': '', 'name': 'id'}, {'description': '', 'name': 'images'}, {'description': '', 'name': 'product_id'}, {'description': '', 'name': 'results'}, {'description': '', 'name': 'slug'}, {'description': '', 'name': 'title'}, {'description': '', 'name': 'work_steps'}], 'name': 'SMEProduct'}, {'fields': None, 'name': 'Float'}, {'fields': [{'description': '', 'name': 'followers'}, {'description': '', 'name': 'id'}, {'description': '', 'name': 'link'}, {'description': '', 'name': 'name'}, {'description': '', 'name': 'product_id'}, {'description': '', 'name': 'sort_order'}], 'name': 'ProductWebsite'}, {'fields': [{'description': '', 'name': 'messages'}], 'name': 'MessagesListType'}, {'fields': [{'description': '', 'name': 'fields'}], 'name': 'FieldsValidation'}, {'fields': None, 'name': '__TypeKind'}, {'fields': None, 'name': 'String'}, {'fields': [{'description': '', 'name': 'average_responsiveness_rating'}, {'description': '', 'name': 'average_service_rating'}, {'description': '', 'name': 'average_skill_rating'}, {'description': '', 'name': 'average_worth_rating'}, {'description': '', 'name': 'count'}, {'description': '', 'name': 'obsoleted_product_rating'}, {'description': '', 'name': 'overall_rating'}], 'name': 'ProductRatingV2'}, {'fields': [{'description': '', 'name': 'count'}, {'description': '', 'name': 'percentage'}], 'name': 'ProductReviewStarType'}, {'fields': [{'description': '', 'name': 'id'}, {'description': '', 'name': 'locale'}, {'description': '', 'name': 'locale_id'}, {'description': '', 'name': 'user_id'}], 'name': 'UserLocaleSetting'}, {'fields': [{'description': '', 'name': 'active'}, {'description': '', 'name': 'code'}, {'description': '', 'name': 'created_at'}, {'description': '', 'name': 'deleted_at'}, {'description': '', 'name': 'id'}, {'description': '', 'name': 'image'}, {'description': '', 'name': 'title'}, {'description': '', 'name': 'updated_at'}], 'name': 'Locale'}, {'fields': None, 'name': 'CouponInput'}, {'fields': None, 'name': 'Boolean'}, {'fields': [{'description': '', 'name': 'applied_at'}, {'description': '', 'name': 'coupon_claim_code_id'}, {'description': '', 'name': 'coupon_code'}, {'description': '', 'name': 'coupon_id'}, {'description': '', 'name': 'description'}, {'description': '', 'name': 'discount'}, {'description': '', 'name': 'expire_date'}, {'description': '', 'name': 'id'}, {'description': '', 'name': 'is_applied'}, {'description': '', 'name': 'user_id'}], 'name': 'UserCoupon'}, {'fields': [{'description': '', 'name': 'image_base64'}], 'name': 'ConvertImageToBase64Type'}, {'fields': [{'description': '', 'name': 'bottom_page_description'}, {'description': '', 'name': 'description'}, {'description': '', 'name': 'h1'}, {'description': '', 'name': 'keyword'}, {'description': '', 'name': 'listing_seo'}, {'description': '', 'name': 'sitemap_anchor'}, {'description': '', 'name': 'sort_order'}, {'description': '', 'name': 'taxonomy_slug'}, {'description': '', 'name': 'taxonomy_title'}, {'description': '', 'name': 'title_seo'}, {'description': '', 'name': 'top_page_description'}], 'name': 'Subsubcategory'}, {'fields': [{'description': '', 'name': 'responses'}], 'name': 'MessageResponseTimesType'}, {'fields': [{'description': '', 'name': 'count'}, {'description': '', 'name': 'dir'}, {'description': '', 'name': 'limit'}, {'description': '', 'name': 'models'}, {'description': '', 'name': 'orderBy'}, {'description': '', 'name': 'page'}], 'name': 'WalletPaginate'}, {'fields': [{'description': '', 'name': 'product_id'}], 'name': 'ProductCreateType'}, {'fields': [{'description': '', 'name': 'args'}, {'description': '', 'name': 'description'}, {'description': '', 'name': 'locations'}, {'description': '', 'name': 'name'}], 'name': '__Directive'}, {'fields': [{'description': '', 'name': 'active'}, {'description': '', 'name': 'allow_new_product'}, {'description': '', 'name': 'bottom_page_description'}, {'description': '', 'name': 'description'}, {'description': '', 'name': 'h1'}, {'description': '', 'name': 'has_alternate_locale'}, {'description': '', 'name': 'icon'}, {'description': '', 'name': 'icon_description'}, {'description': '', 'name': 'icon_image'}, {'description': '', 'name': 'icon_name'}, {'description': '', 'name': 'id'}, {'description': '', 'name': 'image'}, {'description': '', 'name': 'navbar_image'}, {'description': '', 'name': 'sitemap_anchor'}, {'description': '', 'name': 'slug'}, {'description': '', 'name': 'sort_order'}, {'description': '', 'name': 'subcategory_groups'}, {'description': '', 'name': 'title'}, {'description': '', 'name': 'title_seo'}, {'description': '', 'name': 'top_page_description'}], 'name': 'ProductCategory'}, {'fields': [{'description': '', 'name': 'active'}, {'description': '', 'name': 'allow_new_product'}, {'description': '', 'name': 'bottom_page_description'}, {'description': '', 'name': 'description'}, {'description': '', 'name': 'h1'}, {'description': '', 'name': 'has_alternate_locale'}, {'description': '', 'name': 'icon'}, {'description': '', 'name': 'icon_description'}, {'description': '', 'name': 'icon_image'}, {'description': '', 'name': 'icon_name'}, {'description': '', 'name': 'id'}, {'description': '', 'name': 'image'}, {'description': '', 'name': 'navbar_image'}, {'description': '', 'name': 'sitemap_anchor'}, {'description': '', 'name': 'slug'}, {'description': '', 'name': 'sort_order'}, {'description': '', 'name': 'title'}, {'description': '', 'name': 'title_seo'}, {'description': '', 'name': 'top_page_description'}], 'name': 'LiveProductCategory'}, {'fields': [{'description': '', 'name': 'hex_color'}, {'description': '', 'name': 'name'}], 'name': 'LiveProductBadgeType'}, {'fields': None, 'name': 'GetResponseTimesRequest'}, {'fields': [{'description': '', 'name': 'created_at'}, {'description': '', 'name': 'description'}, {'description': '', 'name': 'id'}, {'description': '', 'name': 'order_id'}, {'description': '', 'name': 'product_id'}, {'description': '', 'name': 'product_reviewer'}, {'description': '', 'name': 'rating'}], 'name': 'ProductReview'}, {'fields': [{'description': '', 'name': 'account_status'}, {'description': '', 'name': 'account_status_note'}, {'description': '', 'name': 'allow_new_onboard'}, {'description': '', 'name': 'ban_days'}, {'description': '', 'name': 'banned_at'}, {'description': '', 'name': 'company'}, {'description': '', 'name': 'created_at'}, {'description': '', 'name': 'display_name'}, {'description': '', 'name': 'email'}, {'description': '', 'name': 'email_verified'}, {'description': '', 'name': 'favorite_products'}, {'description': '', 'name': 'firstName'}, {'description': '', 'name': 'has_password'}, {'description': '', 'name': 'id'}, {'description': '', 'name': 'image'}, {'description': '', 'name': 'is_new_buyer'}, {'description': '', 'name': 'is_selling'}, {'description': '', 'name': 'lastName'}, {'description': '', 'name': 'phone_number'}, {'description': '', 'name': 'phone_number_verified'}, {'description': '', 'name': 'phone_number_verified_at'}, {'description': '', 'name': 'products'}, {'description': '', 'name': 'role'}, {'description': '', 'name': 'segments'}, {'description': '', 'name': 'seller_verification_status'}, {'description': '', 'name': 'third_party_tokens'}, {'description': '', 'name': 'total_orders'}, {'description': '', 'name': 'user_coupons'}, {'description': '', 'name': 'user_locale_setting'}, {'description': '', 'name': 'username'}, {'description': '', 'name': 'wallet'}], 'name': 'User'}, {'fields': [{'description': '', 'name': 'conflict_coupon_id'}, {'description': '', 'name': 'created_at'}, {'description': '', 'name': 'id'}, {'description': '', 'name': 'is_first_order'}, {'description': '', 'name': 'is_limit_per_freelancer'}, {'description': '', 'name': 'is_limit_per_month'}, {'description': '', 'name': 'is_limit_per_user'}, {'description': '', 'name': 'limit_amount'}, {'description': '', 'name': 'name'}, {'description': '', 'name': 'updated_at'}, {'description': '', 'name': 'with_subcategories'}], 'name': 'CouponCondition'}, {'fields': [{'description': '', 'name': 'avg'}, {'description': '', 'name': 'orderId'}, {'description': '', 'name': 'total'}, {'description': '', 'name': 'weight'}], 'name': 'MessageResponseTimeType'}, {'fields': [{'description': '', 'name': 'base_amount'}, {'description': '', 'name': 'bonus_amount'}, {'description': '', 'name': 'omisePublicKey'}, {'description': '', 'name': 'status'}, {'description': '', 'name': 'type'}, {'description': '', 'name': 'user_id'}], 'name': 'ValidateWallet'}, {'fields': [{'description': '', 'name': 'description'}, {'description': '', 'name': 'id'}, {'description': '', 'name': 'name'}, {'description': '', 'name': 'unit'}], 'name': 'ProductSubcategorySystemAttribute'}, {'fields': [{'description': '', 'name': 'experiment_name'}, {'description': '', 'name': 'segment_name'}], 'name': 'UserSegment'}, {'fields': [{'description': '', 'name': 'attribute_slug'}, {'description': '', 'name': 'id'}, {'description': '', 'name': 'is_contained'}, {'description': '', 'name': 'name'}, {'description': '', 'name': 'slug'}, {'description': '', 'name': 'sort_order'}], 'name': 'ProductAttributeValue'}, {'fields': [{'description': '', 'name': 'about_me'}, {'description': '', 'name': 'allow_new_onboard'}, {'description': '', 'name': 'created_at'}, {'description': '', 'name': 'experience'}, {'description': '', 'name': 'experiences'}, {'description': '', 'name': 'first_name'}, {'description': '', 'name': 'id'}, {'description': '', 'name': 'image'}, {'description': '', 'name': 'last_online_at'}, {'description': '', 'name': 'phone_number'}, {'description': '', 'name': 'stats'}, {'description': '', 'name': 'username'}], 'name': 'ProductUser'}, {'fields': [{'description': '', 'name': 'step1'}, {'description': '', 'name': 'step2'}, {'description': '', 'name': 'step3'}, {'description': '', 'name': 'step4'}, {'description': '', 'name': 'step5'}, {'description': '', 'name': 'step6'}], 'name': 'ProductOnboardValidate'}, {'fields': [{'description': '', 'name': 'id'}, {'description': '', 'name': 'role'}], 'name': 'AuthUserType'}]}}\n"
     ]
    }
   ],
   "source": [
    "result = await client_gateway.execute_async(query)\n",
    "print(result)"
   ]
  },
  {
   "cell_type": "code",
   "execution_count": 167,
   "id": "8563ccdc",
   "metadata": {},
   "outputs": [
    {
     "name": "stdout",
     "output_type": "stream",
     "text": [
      "{'__schema': {'types': [{'name': 'Any', 'fields': []}, {'name': 'Boolean', 'fields': []}, {'name': 'BuyerReview', 'fields': [{'name': 'created_at', 'description': ''}, {'name': 'description', 'description': ''}, {'name': 'rating', 'description': ''}, {'name': 'username', 'description': ''}, {'name': 'image', 'description': ''}]}, {'name': 'BuyerReviewsResponse', 'fields': [{'name': 'buyer_reviews', 'description': ''}, {'name': 'total_items', 'description': ''}, {'name': 'total_pages', 'description': ''}, {'name': 'page', 'description': ''}, {'name': 'limit', 'description': ''}]}, {'name': 'ChatChannel', 'fields': [{'name': 'custom_type', 'description': ''}, {'name': 'last_message', 'description': ''}, {'name': 'channel_url', 'description': ''}, {'name': 'channel', 'description': ''}, {'name': 'name', 'description': ''}, {'name': 'metadata', 'description': ''}, {'name': 'members', 'description': ''}, {'name': 'product', 'description': ''}, {'name': 'created_at', 'description': ''}]}, {'name': 'ChatChannelObj', 'fields': [{'name': 'name', 'description': ''}, {'name': 'custom_type', 'description': ''}, {'name': 'channel_url', 'description': ''}, {'name': 'created_at', 'description': ''}]}, {'name': 'ChatChannelsMetaDataParamsInput', 'fields': []}, {'name': 'ChatChannelsOrderParamsInput', 'fields': []}, {'name': 'ChatChannelsResponse', 'fields': [{'name': 'channels', 'description': ''}, {'name': 'page', 'description': ''}, {'name': 'limit', 'description': ''}, {'name': 'total_pages', 'description': ''}, {'name': 'total_items', 'description': ''}]}, {'name': 'ChatMember', 'fields': [{'name': 'nickname', 'description': ''}, {'name': 'profile_url', 'description': ''}, {'name': 'user_id', 'description': ''}]}, {'name': 'ChatMessage', 'fields': [{'name': 'custom_type', 'description': ''}, {'name': 'message', 'description': ''}, {'name': 'type', 'description': ''}, {'name': 'user_type', 'description': ''}, {'name': 'created_at', 'description': ''}, {'name': 'deleted_at', 'description': ''}, {'name': 'channel_url', 'description': ''}, {'name': 'user', 'description': ''}, {'name': 'id', 'description': ''}, {'name': 'message_id', 'description': ''}, {'name': 'data', 'description': ''}]}, {'name': 'ChatMessagesResponse', 'fields': [{'name': 'messages', 'description': ''}, {'name': 'page', 'description': ''}, {'name': 'limit', 'description': ''}, {'name': 'total_pages', 'description': ''}, {'name': 'total_items', 'description': ''}]}, {'name': 'ChatMetadata', 'fields': [{'name': 'buyer', 'description': ''}, {'name': 'order_type', 'description': ''}, {'name': 'badge_status', 'description': ''}, {'name': 'seller', 'description': ''}]}, {'name': 'ChatProduct', 'fields': [{'name': 'title', 'description': ''}]}, {'name': 'ChatUser', 'fields': [{'name': 'user_id', 'description': ''}, {'name': 'role', 'description': ''}, {'name': 'nickname', 'description': ''}, {'name': 'profile_url', 'description': ''}]}, {'name': 'CoinTopUp', 'fields': [{'name': 'id', 'description': ''}, {'name': 'created_at', 'description': ''}, {'name': 'updated_at', 'description': ''}, {'name': 'user_id', 'description': ''}, {'name': 'type', 'description': ''}, {'name': 'coin_payment_code', 'description': ''}, {'name': 'amount', 'description': ''}, {'name': 'approved', 'description': ''}, {'name': 'approved_at', 'description': ''}, {'name': 'status', 'description': ''}, {'name': 'promptpay_reference_id', 'description': ''}, {'name': 'promptpay_transaction_id', 'description': ''}, {'name': 'promptpay_confirm_id', 'description': ''}, {'name': 'qr_image', 'description': ''}]}, {'name': 'CreateProductActionLogRequest', 'fields': []}, {'name': 'Date', 'fields': []}, {'name': 'Decimal', 'fields': []}, {'name': 'Float', 'fields': []}, {'name': 'GetRelatedProductResponse', 'fields': [{'name': 'related_products', 'description': ''}]}, {'name': 'ID', 'fields': []}, {'name': 'Int', 'fields': []}, {'name': 'Map', 'fields': []}, {'name': 'Meet', 'fields': [{'name': 'id', 'description': ''}, {'name': 'order_id', 'description': ''}, {'name': 'record_status', 'description': ''}, {'name': 'created_at', 'description': ''}, {'name': 'updated_at', 'description': ''}]}, {'name': 'MeetRecordObject', 'fields': [{'name': 'object_key', 'description': ''}, {'name': 'object_size', 'description': ''}, {'name': 'updated_at', 'description': ''}, {'name': 'start_record_at', 'description': ''}]}, {'name': 'MeetReview', 'fields': [{'name': 'id', 'description': ''}]}, {'name': 'MeetTokenResponse', 'fields': [{'name': 'id', 'description': ''}, {'name': 'meet_id', 'description': ''}, {'name': 'app_id', 'description': ''}, {'name': 'order_id', 'description': ''}, {'name': 'uid', 'description': ''}, {'name': 'access_token', 'description': ''}, {'name': 'expire_at', 'description': ''}]}, {'name': 'Mutation', 'fields': [{'name': 'startMeetRecord', 'description': ''}, {'name': 'saveMeetReview', 'description': ''}, {'name': 'sendMeetBubbleMessage', 'description': ''}, {'name': 'updateUser', 'description': ''}, {'name': 'verifyEmail', 'description': ''}, {'name': 'coinTopUp', 'description': ''}, {'name': 'createUserPreMessage', 'description': ''}, {'name': 'updateUserPreMessage', 'description': ''}, {'name': 'deleteUserPreMessage', 'description': ''}, {'name': 'createProductActionLog', 'description': ''}, {'name': 'updateUserExperiences', 'description': ''}, {'name': 'updateUserUniversities', 'description': ''}, {'name': 'updateUserSkills', 'description': ''}, {'name': 'updateUserCertifications', 'description': ''}, {'name': 'updateUserLanguages', 'description': ''}, {'name': 'unsendChatMessage', 'description': ''}]}, {'name': 'OrderAllowedFeatures', 'fields': [{'name': 'instant_meeting', 'description': ''}]}, {'name': 'Product', 'fields': [{'name': 'id', 'description': ''}, {'name': 'title', 'description': ''}, {'name': 'slug', 'description': ''}, {'name': 'description', 'description': ''}, {'name': 'base_price', 'description': ''}, {'name': 'banned_at', 'description': ''}, {'name': 'ban_days', 'description': ''}, {'name': 'price_before_discount', 'description': ''}, {'name': 'base_delivery_time', 'description': ''}, {'name': 'status', 'description': ''}, {'name': 'algolia_status', 'description': ''}, {'name': 'show', 'description': ''}, {'name': 'auto_message', 'description': ''}, {'name': 'enable_auto_message', 'description': ''}, {'name': 'enable_auto_message_offline', 'description': ''}, {'name': 'user_id', 'description': ''}, {'name': 'category_id', 'description': ''}, {'name': 'subcategory_id', 'description': ''}, {'name': 'is_hot', 'description': ''}, {'name': 'is_pro', 'description': ''}, {'name': 'ready_to_work_at', 'description': ''}, {'name': 'is_instant_hire', 'description': ''}, {'name': 'is_standard_verified', 'description': ''}, {'name': 'enable_translation', 'description': ''}, {'name': 'last_approved_at', 'description': ''}, {'name': 'show_phone_number', 'description': ''}, {'name': 'extra_description', 'description': ''}, {'name': 'is_live', 'description': ''}, {'name': 'disapprove_reason', 'description': ''}, {'name': 'images', 'description': ''}]}, {'name': 'ProductImage', 'fields': [{'name': 'id', 'description': ''}, {'name': 'product_id', 'description': ''}, {'name': 'image_thumbnail', 'description': ''}, {'name': 'image_medium', 'description': ''}, {'name': 'is_cover_photo', 'description': ''}, {'name': 'sort_order', 'description': ''}, {'name': 'type', 'description': ''}, {'name': 'source', 'description': ''}, {'name': 'video_id', 'description': ''}]}, {'name': 'Query', 'fields': [{'name': 'user', 'description': ''}, {'name': 'users', 'description': ''}, {'name': 'userPublicProfile', 'description': ''}, {'name': 'chatChannels', 'description': ''}, {'name': 'chatMessages', 'description': ''}, {'name': 'meetToken', 'description': ''}, {'name': 'lastChatMessage', 'description': ''}, {'name': 'withdrawals', 'description': ''}, {'name': 'coinTopUpHistory', 'description': ''}, {'name': 'adminMeetRecordObjects', 'description': ''}, {'name': 'adminSignedMeetRecordObject', 'description': ''}, {'name': 'getCoinTopUp', 'description': ''}, {'name': 'orderAllowedFeatures', 'description': ''}, {'name': 'getBuyerReviews', 'description': ''}, {'name': 'getSellerReviews', 'description': ''}, {'name': 'getRelatedProducts', 'description': ''}, {'name': 'sellerGuideChecklist', 'description': ''}, {'name': 'sellerGetSellingOrders', 'description': ''}]}, {'name': 'Reviewer', 'fields': [{'name': 'id', 'description': ''}, {'name': 'full_name', 'description': ''}, {'name': 'image', 'description': ''}]}, {'name': 'SellerGetSellingOrderData', 'fields': [{'name': 'id', 'description': ''}, {'name': 'image', 'description': ''}, {'name': 'title', 'description': ''}, {'name': 'order_code', 'description': ''}, {'name': 'price', 'description': ''}, {'name': 'ending_date', 'description': ''}]}, {'name': 'SellerGetSellingOrderMetadata', 'fields': [{'name': 'page', 'description': ''}, {'name': 'limit', 'description': ''}, {'name': 'total', 'description': ''}, {'name': 'total_pages', 'description': ''}]}, {'name': 'SellerGetSellingOrdersResponse', 'fields': [{'name': 'data', 'description': ''}, {'name': 'metadata', 'description': ''}]}, {'name': 'SellerGuideChecklist', 'fields': [{'name': 'id', 'description': ''}, {'name': 'submit_profile', 'description': ''}, {'name': 'submit_product', 'description': ''}, {'name': 'has_experiences', 'description': ''}]}, {'name': 'SellerReview', 'fields': [{'name': 'created_at', 'description': ''}, {'name': 'description', 'description': ''}, {'name': 'id', 'description': ''}, {'name': 'is_anonymous', 'description': ''}, {'name': 'is_cancelled', 'description': ''}, {'name': 'order_id', 'description': ''}, {'name': 'rating', 'description': ''}, {'name': 'reply_review', 'description': ''}, {'name': 'reviewer', 'description': ''}]}, {'name': 'SellerReviewsResponse', 'fields': [{'name': 'seller_reviews', 'description': ''}, {'name': 'total_items', 'description': ''}, {'name': 'total_pages', 'description': ''}, {'name': 'page', 'description': ''}, {'name': 'limit', 'description': ''}]}, {'name': 'SendMeetBubbleMessageResponse', 'fields': [{'name': 'Message', 'description': ''}]}, {'name': 'SignedMeetRecordObject', 'fields': [{'name': 'signed_url', 'description': ''}]}, {'name': 'String', 'fields': []}, {'name': 'Time', 'fields': []}, {'name': 'UUID', 'fields': []}, {'name': 'UpdateUserRequest', 'fields': []}, {'name': 'UpdateUserResponse', 'fields': [{'name': 'id', 'description': ''}, {'name': 'updated_at', 'description': ''}]}, {'name': 'User', 'fields': [{'name': 'id', 'description': ''}, {'name': 'id_mongo', 'description': ''}, {'name': 'created_at', 'description': ''}, {'name': 'updated_at', 'description': ''}, {'name': 'first_name', 'description': ''}, {'name': 'last_name', 'description': ''}, {'name': 'display_name', 'description': ''}, {'name': 'email', 'description': ''}, {'name': 'email_verified', 'description': ''}, {'name': 'email_verified_at', 'description': ''}, {'name': 'level', 'description': ''}, {'name': 'gender', 'description': ''}, {'name': 'image', 'description': ''}, {'name': 'account_status', 'description': ''}, {'name': 'product_slots', 'description': ''}, {'name': 'is_selling', 'description': ''}, {'name': 'username', 'description': ''}, {'name': 'phone_number', 'description': ''}, {'name': 'last_online_at', 'description': ''}, {'name': 'affiliation_id', 'description': ''}, {'name': 'date_of_birth', 'description': ''}, {'name': 'website', 'description': ''}, {'name': 'role', 'description': ''}, {'name': 'phone_number_verified', 'description': ''}, {'name': 'phone_number_verified_at', 'description': ''}, {'name': 'is_flagged', 'description': ''}, {'name': 'flag_reason', 'description': ''}, {'name': 'account_status_note', 'description': ''}, {'name': 'is_affiliating', 'description': ''}, {'name': 'affiliate_code', 'description': ''}, {'name': 'about_me', 'description': ''}, {'name': 'rating', 'description': ''}, {'name': 'source', 'description': ''}, {'name': 'address', 'description': ''}, {'name': 'postal_code', 'description': ''}, {'name': 'current_income', 'description': ''}, {'name': 'desired_income', 'description': ''}, {'name': 'lifestyle', 'description': ''}, {'name': 'video_url', 'description': ''}, {'name': 'seller_verification_status', 'description': ''}, {'name': 'seller_verified_at', 'description': ''}, {'name': 'province', 'description': ''}, {'name': 'country', 'description': ''}, {'name': 'freelance_type', 'description': ''}, {'name': 'show_phone_number', 'description': ''}, {'name': 'banned_at', 'description': ''}, {'name': 'ban_days', 'description': ''}, {'name': 'app_platform', 'description': ''}, {'name': 'app_version', 'description': ''}, {'name': 'survey_score', 'description': ''}, {'name': 'is_deleted', 'description': ''}, {'name': 'deleted_at', 'description': ''}, {'name': 'is_standard_verified', 'description': ''}, {'name': 'allow_new_onboard', 'description': ''}, {'name': 'third_party_tokens', 'description': ''}, {'name': 'pre_messages', 'description': ''}, {'name': 'allowed_features', 'description': ''}, {'name': 'withdrawal_tax_summary', 'description': ''}, {'name': 'credits', 'description': ''}, {'name': 'pending_withdrawal_credits', 'description': ''}, {'name': 'bank_accounts', 'description': ''}, {'name': 'coin', 'description': ''}, {'name': 'experiences', 'description': ''}, {'name': 'products', 'description': ''}, {'name': 'is_new_buyer', 'description': ''}, {'name': 'seller_profile', 'description': ''}]}, {'name': 'UserAllowedFeature', 'fields': [{'name': 'id', 'description': ''}, {'name': 'user_id', 'description': ''}, {'name': 'milestone', 'description': ''}]}, {'name': 'UserBankAccount', 'fields': [{'name': 'id', 'description': ''}, {'name': 'user_id', 'description': ''}, {'name': 'uid', 'description': ''}, {'name': 'bank_name', 'description': ''}, {'name': 'bank_full_name', 'description': ''}, {'name': 'bank_branch', 'description': ''}, {'name': 'image', 'description': ''}]}, {'name': 'UserCertification', 'fields': [{'name': 'title', 'description': ''}, {'name': 'image', 'description': ''}]}, {'name': 'UserCertificationRequest', 'fields': []}, {'name': 'UserCertifications', 'fields': [{'name': 'certifications', 'description': ''}]}, {'name': 'UserCoinPayment', 'fields': [{'name': 'id', 'description': ''}, {'name': 'created_at', 'description': ''}, {'name': 'updated_at', 'description': ''}, {'name': 'user_id', 'description': ''}, {'name': 'coin_payment_code', 'description': ''}, {'name': 'type', 'description': ''}, {'name': 'base_amount', 'description': ''}, {'name': 'bonus_amount', 'description': ''}, {'name': 'approved', 'description': ''}, {'name': 'approved_at', 'description': ''}, {'name': 'status', 'description': ''}, {'name': 'promptpay_reference_id', 'description': ''}, {'name': 'promptpay_transaction_id', 'description': ''}, {'name': 'promptpay_confirm_id', 'description': ''}, {'name': 'qr_image', 'description': ''}]}, {'name': 'UserCoinTopUpHistoryResponse', 'fields': [{'name': 'payments', 'description': ''}, {'name': 'total_count', 'description': ''}, {'name': 'page', 'description': ''}, {'name': 'limit', 'description': ''}, {'name': 'order_by', 'description': ''}, {'name': 'dir', 'description': ''}]}, {'name': 'UserExperiences', 'fields': [{'name': 'experiences', 'description': ''}, {'name': 'universities', 'description': ''}, {'name': 'skills', 'description': ''}, {'name': 'certifications', 'description': ''}, {'name': 'languages', 'description': ''}]}, {'name': 'UserLanguage', 'fields': [{'name': 'language_name', 'description': ''}, {'name': 'level', 'description': ''}]}, {'name': 'UserLanguageRequest', 'fields': []}, {'name': 'UserLanguages', 'fields': [{'name': 'languages', 'description': ''}]}, {'name': 'UserPreMessage', 'fields': [{'name': 'id', 'description': ''}, {'name': 'user_pre_message_collection_id', 'description': ''}, {'name': 'user_id', 'description': ''}, {'name': 'title', 'description': ''}, {'name': 'message', 'description': ''}]}, {'name': 'UserPreMessageCollection', 'fields': [{'name': 'id', 'description': ''}, {'name': 'user_id', 'description': ''}, {'name': 'title', 'description': ''}, {'name': 'role', 'description': ''}, {'name': 'is_active', 'description': ''}, {'name': 'messages', 'description': ''}]}, {'name': 'UserPublicProfile', 'fields': [{'name': 'id', 'description': ''}, {'name': 'created_at', 'description': ''}, {'name': 'first_name', 'description': ''}, {'name': 'last_name', 'description': ''}, {'name': 'display_name', 'description': ''}, {'name': 'image', 'description': ''}, {'name': 'username', 'description': ''}, {'name': 'about_me', 'description': ''}, {'name': 'rating', 'description': ''}, {'name': 'experiences', 'description': ''}, {'name': 'products', 'description': ''}, {'name': 'verifications', 'description': ''}, {'name': 'stats', 'description': ''}]}, {'name': 'UserPublicProfileStats', 'fields': [{'name': 'sold_orders_count', 'description': ''}, {'name': 'response_time', 'description': ''}, {'name': 'completion_rate', 'description': ''}]}, {'name': 'UserPublicProfileVerifications', 'fields': [{'name': 'google', 'description': ''}, {'name': 'facebook', 'description': ''}, {'name': 'national_card', 'description': ''}, {'name': 'phone_number', 'description': ''}, {'name': 'email', 'description': ''}]}, {'name': 'UserSellerProfile', 'fields': [{'name': 'id', 'description': ''}, {'name': 'user_id', 'description': ''}, {'name': 'type', 'description': ''}, {'name': 'has_vat', 'description': ''}, {'name': 'first_approved_at', 'description': ''}, {'name': 'last_approved_at', 'description': ''}]}, {'name': 'UserSkill', 'fields': [{'name': 'skill_name', 'description': ''}, {'name': 'level', 'description': ''}]}, {'name': 'UserSkillRequest', 'fields': []}, {'name': 'UserSkills', 'fields': [{'name': 'skills', 'description': ''}]}, {'name': 'UserThirdPartyToken', 'fields': [{'name': 'id', 'description': ''}, {'name': 'user_id', 'description': ''}, {'name': 'provider_reference_id', 'description': ''}, {'name': 'provider', 'description': ''}, {'name': 'access_token', 'description': ''}]}, {'name': 'UserUniversities', 'fields': [{'name': 'universities', 'description': ''}]}, {'name': 'UserUniversity', 'fields': [{'name': 'university_name', 'description': ''}, {'name': 'degree', 'description': ''}, {'name': 'image', 'description': ''}]}, {'name': 'UserUniversityRequest', 'fields': []}, {'name': 'UserWithdrawal', 'fields': [{'name': 'id', 'description': ''}, {'name': 'user_id', 'description': ''}, {'name': 'created_at', 'description': ''}, {'name': 'updated_at', 'description': ''}, {'name': 'requested_amount', 'description': ''}, {'name': 'type', 'description': ''}, {'name': 'fastwork_fee', 'description': ''}, {'name': 'withholding_tax_rate', 'description': ''}, {'name': 'received_amount', 'description': ''}, {'name': 'withdrawal_code', 'description': ''}, {'name': 'approved', 'description': ''}, {'name': 'approved_at', 'description': ''}, {'name': 'bank_name', 'description': ''}, {'name': 'bank_full_name', 'description': ''}, {'name': 'bank_branch', 'description': ''}, {'name': 'bank_account', 'description': ''}]}, {'name': 'UserWithdrawalTax', 'fields': [{'name': 'created_at', 'description': ''}, {'name': 'updated_at', 'description': ''}, {'name': 'deleted_at', 'description': ''}, {'name': 'id', 'description': ''}, {'name': 'user_id', 'description': ''}, {'name': 'year', 'description': ''}, {'name': 'gmv', 'description': ''}, {'name': 'wht', 'description': ''}, {'name': 'gmv_without_wht', 'description': ''}, {'name': 'gmv_wht', 'description': ''}]}, {'name': 'UserWorkExperience', 'fields': [{'name': 'company_name', 'description': ''}, {'name': 'position', 'description': ''}, {'name': 'work_start_month', 'description': ''}, {'name': 'work_start_year', 'description': ''}, {'name': 'work_end_month', 'description': ''}, {'name': 'work_end_year', 'description': ''}, {'name': 'is_current', 'description': ''}]}, {'name': 'UserWorkExperienceRequest', 'fields': []}, {'name': 'UserWorkExperiences', 'fields': [{'name': 'experiences', 'description': ''}]}, {'name': 'VerifyEmailRequest', 'fields': []}, {'name': 'VerifyEmailResponse', 'fields': [{'name': 'email', 'description': ''}]}]}}\n"
     ]
    }
   ],
   "source": [
    "result = await client_api.execute_async(query)\n",
    "print(result)"
   ]
  },
  {
   "cell_type": "code",
   "execution_count": 168,
   "id": "b0dd6a63",
   "metadata": {},
   "outputs": [],
   "source": [
    "# Provide a GraphQL query\n",
    "# Introspection \n",
    "# https://graphql.org/learn/introspection/\n",
    "query = gql(\n",
    "\"\"\"\n",
    "query {\n",
    "  __schema {\n",
    "    queryType {\n",
    "      name\n",
    "    }\n",
    "  }\n",
    "}\n",
    "\n",
    "\"\"\"\n",
    ")\n"
   ]
  },
  {
   "cell_type": "code",
   "execution_count": 169,
   "id": "3d74df45",
   "metadata": {},
   "outputs": [
    {
     "name": "stdout",
     "output_type": "stream",
     "text": [
      "{'__schema': {'queryType': {'name': 'RootQuery'}}}\n"
     ]
    }
   ],
   "source": [
    "result = await client_gateway.execute_async(query)\n",
    "print(result)"
   ]
  },
  {
   "cell_type": "code",
   "execution_count": 170,
   "id": "7df56bf2",
   "metadata": {},
   "outputs": [
    {
     "name": "stdout",
     "output_type": "stream",
     "text": [
      "{'__schema': {'queryType': {'name': 'Query'}}}\n"
     ]
    }
   ],
   "source": [
    "result = await client_api.execute_async(query)\n",
    "print(result)"
   ]
  },
  {
   "cell_type": "code",
   "execution_count": 186,
   "id": "a92f1fcf",
   "metadata": {},
   "outputs": [],
   "source": [
    "# Provide a GraphQL query\n",
    "# Introspection \n",
    "# https://graphql.org/learn/introspection/\n",
    "query = gql(\n",
    "\"\"\"\n",
    "query {\n",
    "  __type(name: \"RootQuery\") {\n",
    "    name\n",
    "    description\n",
    "    kind\n",
    "    fields {\n",
    "        name\n",
    "        description\n",
    "        type {\n",
    "            name\n",
    "            description\n",
    "            kind\n",
    "        }\n",
    "    }\n",
    "  }\n",
    "}\n",
    "\n",
    "\"\"\"\n",
    ")"
   ]
  },
  {
   "cell_type": "code",
   "execution_count": 187,
   "id": "259c2406",
   "metadata": {},
   "outputs": [
    {
     "name": "stdout",
     "output_type": "stream",
     "text": [
      "{'__type': {'description': '', 'fields': [{'description': '', 'name': 'adminListUserOauthProfiles', 'type': {'description': None, 'kind': 'LIST', 'name': None}}, {'description': '', 'name': 'categories', 'type': {'description': None, 'kind': 'LIST', 'name': None}}, {'description': '', 'name': 'getLastMessage', 'type': {'description': 'MessageType', 'kind': 'OBJECT', 'name': 'MessageType'}}, {'description': '', 'name': 'getLastMessages', 'type': {'description': 'MessagesListType', 'kind': 'OBJECT', 'name': 'MessagesListType'}}, {'description': '', 'name': 'getListCouponClaimCodes', 'type': {'description': 'CouponClaimCodeListType', 'kind': 'OBJECT', 'name': 'CouponClaimCodeListType'}}, {'description': '', 'name': 'getListCouponConditions', 'type': {'description': 'CouponConditionListType', 'kind': 'OBJECT', 'name': 'CouponConditionListType'}}, {'description': '', 'name': 'getListCoupons', 'type': {'description': 'CouponListType', 'kind': 'OBJECT', 'name': 'CouponListType'}}, {'description': '', 'name': 'getOauthUserProfile', 'type': {'description': 'UserOauthProfile', 'kind': 'OBJECT', 'name': 'UserOauthProfile'}}, {'description': '', 'name': 'getProductByAdmin', 'type': {'description': 'Product', 'kind': 'OBJECT', 'name': 'Product'}}, {'description': '', 'name': 'getProductHistoryByAdmin', 'type': {'description': None, 'kind': 'LIST', 'name': None}}, {'description': '', 'name': 'getProductNotesByAdmin', 'type': {'description': None, 'kind': 'LIST', 'name': None}}, {'description': '', 'name': 'getResponseRates', 'type': {'description': 'MessageResponseRatesType', 'kind': 'OBJECT', 'name': 'MessageResponseRatesType'}}, {'description': '', 'name': 'getResponseTimes', 'type': {'description': 'MessageResponseTimesType', 'kind': 'OBJECT', 'name': 'MessageResponseTimesType'}}, {'description': '', 'name': 'getSellerRating', 'type': {'description': 'ProductRatingV2', 'kind': 'OBJECT', 'name': 'ProductRatingV2'}}, {'description': '', 'name': 'getSellerReviews', 'type': {'description': None, 'kind': 'LIST', 'name': None}}, {'description': '', 'name': 'getWalletByID', 'type': {'description': 'Wallet', 'kind': 'OBJECT', 'name': 'Wallet'}}, {'description': '', 'name': 'getWalletPaginate', 'type': {'description': 'WalletPaginate', 'kind': 'OBJECT', 'name': 'WalletPaginate'}}, {'description': '', 'name': 'listBuyerOnboardFilter', 'type': {'description': None, 'kind': 'LIST', 'name': None}}, {'description': '', 'name': 'listMessages', 'type': {'description': 'MessagesListType', 'kind': 'OBJECT', 'name': 'MessagesListType'}}, {'description': '', 'name': 'listProductFilter', 'type': {'description': None, 'kind': 'LIST', 'name': None}}, {'description': '', 'name': 'list_recently_viewed_products', 'type': {'description': None, 'kind': 'LIST', 'name': None}}, {'description': '', 'name': 'list_special_product', 'type': {'description': None, 'kind': 'LIST', 'name': None}}, {'description': '', 'name': 'liveProduct', 'type': {'description': 'LiveProduct', 'kind': 'OBJECT', 'name': 'LiveProduct'}}, {'description': '', 'name': 'locales', 'type': {'description': None, 'kind': 'LIST', 'name': None}}, {'description': '', 'name': 'notifications', 'type': {'description': None, 'kind': 'LIST', 'name': None}}, {'description': '', 'name': 'package', 'type': {'description': 'ProductPackage', 'kind': 'OBJECT', 'name': 'ProductPackage'}}, {'description': '', 'name': 'personalize_popular_products', 'type': {'description': 'PersonalizePopularProducts', 'kind': 'OBJECT', 'name': 'PersonalizePopularProducts'}}, {'description': '', 'name': 'personalize_recently_viewed_products', 'type': {'description': 'PersonalizeRecentlyViewedProducts', 'kind': 'OBJECT', 'name': 'PersonalizeRecentlyViewedProducts'}}, {'description': '', 'name': 'privacy', 'type': {'description': 'Privacy', 'kind': 'OBJECT', 'name': 'Privacy'}}, {'description': '', 'name': 'product', 'type': {'description': 'Product', 'kind': 'OBJECT', 'name': 'Product'}}, {'description': '', 'name': 'productOnboardValidate', 'type': {'description': 'ProductOnboardValidate', 'kind': 'OBJECT', 'name': 'ProductOnboardValidate'}}, {'description': '', 'name': 'random_pro_products', 'type': {'description': 'RandomProProducts', 'kind': 'OBJECT', 'name': 'RandomProProducts'}}, {'description': '', 'name': 'relatedProduct', 'type': {'description': None, 'kind': 'LIST', 'name': None}}, {'description': '', 'name': 'sme_product', 'type': {'description': 'SMEProduct', 'kind': 'OBJECT', 'name': 'SMEProduct'}}, {'description': '', 'name': 'sme_products', 'type': {'description': None, 'kind': 'LIST', 'name': None}}, {'description': '', 'name': 'special_campaign', 'type': {'description': 'SpecialCampaign', 'kind': 'OBJECT', 'name': 'SpecialCampaign'}}, {'description': '', 'name': 'subcategories', 'type': {'description': None, 'kind': 'LIST', 'name': None}}, {'description': '', 'name': 'subcategory', 'type': {'description': 'ProductSubcategory', 'kind': 'OBJECT', 'name': 'ProductSubcategory'}}, {'description': '', 'name': 'subcategoryTag', 'type': {'description': 'SubcategoryTag', 'kind': 'OBJECT', 'name': 'SubcategoryTag'}}, {'description': '', 'name': 'tag', 'type': {'description': 'ProductTag', 'kind': 'OBJECT', 'name': 'ProductTag'}}, {'description': '', 'name': 'user', 'type': {'description': 'User', 'kind': 'OBJECT', 'name': 'User'}}, {'description': '', 'name': 'validateWallet', 'type': {'description': 'ValidateWallet', 'kind': 'OBJECT', 'name': 'ValidateWallet'}}, {'description': '', 'name': 'walletHistories', 'type': {'description': None, 'kind': 'LIST', 'name': None}}, {'description': '', 'name': 'walletPackages', 'type': {'description': None, 'kind': 'LIST', 'name': None}}], 'kind': 'OBJECT', 'name': 'RootQuery'}}\n"
     ]
    }
   ],
   "source": [
    "result = await client_gateway.execute_async(query)\n",
    "print(result)"
   ]
  },
  {
   "cell_type": "code",
   "execution_count": 172,
   "id": "dab61f47",
   "metadata": {
    "scrolled": true
   },
   "outputs": [
    {
     "name": "stdout",
     "output_type": "stream",
     "text": [
      "{'__type': {'name': 'Query', 'description': '', 'kind': 'OBJECT', 'fields': [{'name': 'user', 'description': '', 'type': {'name': None, 'description': '', 'kind': 'NON_NULL'}}, {'name': 'users', 'description': '', 'type': {'name': None, 'description': '', 'kind': 'LIST'}}, {'name': 'userPublicProfile', 'description': '', 'type': {'name': None, 'description': '', 'kind': 'NON_NULL'}}, {'name': 'chatChannels', 'description': '', 'type': {'name': None, 'description': '', 'kind': 'NON_NULL'}}, {'name': 'chatMessages', 'description': '', 'type': {'name': None, 'description': '', 'kind': 'NON_NULL'}}, {'name': 'meetToken', 'description': '', 'type': {'name': None, 'description': '', 'kind': 'NON_NULL'}}, {'name': 'lastChatMessage', 'description': '', 'type': {'name': 'ChatMessage', 'description': '', 'kind': 'OBJECT'}}, {'name': 'withdrawals', 'description': '', 'type': {'name': None, 'description': '', 'kind': 'LIST'}}, {'name': 'coinTopUpHistory', 'description': '', 'type': {'name': 'UserCoinTopUpHistoryResponse', 'description': '', 'kind': 'OBJECT'}}, {'name': 'adminMeetRecordObjects', 'description': '', 'type': {'name': None, 'description': '', 'kind': 'LIST'}}, {'name': 'adminSignedMeetRecordObject', 'description': '', 'type': {'name': 'SignedMeetRecordObject', 'description': '', 'kind': 'OBJECT'}}, {'name': 'getCoinTopUp', 'description': '', 'type': {'name': None, 'description': '', 'kind': 'NON_NULL'}}, {'name': 'orderAllowedFeatures', 'description': '', 'type': {'name': 'OrderAllowedFeatures', 'description': '', 'kind': 'OBJECT'}}, {'name': 'getBuyerReviews', 'description': '', 'type': {'name': 'BuyerReviewsResponse', 'description': '', 'kind': 'OBJECT'}}, {'name': 'getSellerReviews', 'description': '', 'type': {'name': 'SellerReviewsResponse', 'description': '', 'kind': 'OBJECT'}}, {'name': 'getRelatedProducts', 'description': '', 'type': {'name': 'GetRelatedProductResponse', 'description': '', 'kind': 'OBJECT'}}, {'name': 'sellerGuideChecklist', 'description': '', 'type': {'name': 'SellerGuideChecklist', 'description': '', 'kind': 'OBJECT'}}, {'name': 'sellerGetSellingOrders', 'description': '', 'type': {'name': 'SellerGetSellingOrdersResponse', 'description': '', 'kind': 'OBJECT'}}]}}\n"
     ]
    }
   ],
   "source": [
    "result = await client_api.execute_async(query)\n",
    "print(result)"
   ]
  },
  {
   "cell_type": "code",
   "execution_count": 198,
   "id": "4be1ffcd",
   "metadata": {},
   "outputs": [],
   "source": [
    "# Provide a GraphQL query\n",
    "# Introspection \n",
    "# https://graphql.org/learn/introspection/\n",
    "query = gql(\n",
    "\"\"\"\n",
    "query {\n",
    "  __type(name: \"RootQuery\") {\n",
    "    name\n",
    "    description\n",
    "    kind\n",
    "    fields {\n",
    "        name\n",
    "        description\n",
    "        type {\n",
    "            name\n",
    "            description\n",
    "            kind\n",
    "            ofType{\n",
    "                name\n",
    "                kind\n",
    "            }\n",
    "        }\n",
    "        \n",
    "    }\n",
    "  }\n",
    "}\n",
    "\n",
    "\"\"\"\n",
    ")"
   ]
  },
  {
   "cell_type": "code",
   "execution_count": 199,
   "id": "fb0d6e0e",
   "metadata": {},
   "outputs": [
    {
     "name": "stdout",
     "output_type": "stream",
     "text": [
      "{'__type': {'description': '', 'fields': [{'description': '', 'name': 'adminListUserOauthProfiles', 'type': {'description': None, 'kind': 'LIST', 'name': None, 'ofType': {'kind': 'OBJECT', 'name': 'UserOauthProfile'}}}, {'description': '', 'name': 'categories', 'type': {'description': None, 'kind': 'LIST', 'name': None, 'ofType': {'kind': 'OBJECT', 'name': 'ProductCategory'}}}, {'description': '', 'name': 'getLastMessage', 'type': {'description': 'MessageType', 'kind': 'OBJECT', 'name': 'MessageType', 'ofType': None}}, {'description': '', 'name': 'getLastMessages', 'type': {'description': 'MessagesListType', 'kind': 'OBJECT', 'name': 'MessagesListType', 'ofType': None}}, {'description': '', 'name': 'getListCouponClaimCodes', 'type': {'description': 'CouponClaimCodeListType', 'kind': 'OBJECT', 'name': 'CouponClaimCodeListType', 'ofType': None}}, {'description': '', 'name': 'getListCouponConditions', 'type': {'description': 'CouponConditionListType', 'kind': 'OBJECT', 'name': 'CouponConditionListType', 'ofType': None}}, {'description': '', 'name': 'getListCoupons', 'type': {'description': 'CouponListType', 'kind': 'OBJECT', 'name': 'CouponListType', 'ofType': None}}, {'description': '', 'name': 'getOauthUserProfile', 'type': {'description': 'UserOauthProfile', 'kind': 'OBJECT', 'name': 'UserOauthProfile', 'ofType': None}}, {'description': '', 'name': 'getProductByAdmin', 'type': {'description': 'Product', 'kind': 'OBJECT', 'name': 'Product', 'ofType': None}}, {'description': '', 'name': 'getProductHistoryByAdmin', 'type': {'description': None, 'kind': 'LIST', 'name': None, 'ofType': {'kind': 'OBJECT', 'name': 'ProductHistoryType'}}}, {'description': '', 'name': 'getProductNotesByAdmin', 'type': {'description': None, 'kind': 'LIST', 'name': None, 'ofType': {'kind': 'OBJECT', 'name': 'ProductHistoryType'}}}, {'description': '', 'name': 'getResponseRates', 'type': {'description': 'MessageResponseRatesType', 'kind': 'OBJECT', 'name': 'MessageResponseRatesType', 'ofType': None}}, {'description': '', 'name': 'getResponseTimes', 'type': {'description': 'MessageResponseTimesType', 'kind': 'OBJECT', 'name': 'MessageResponseTimesType', 'ofType': None}}, {'description': '', 'name': 'getSellerRating', 'type': {'description': 'ProductRatingV2', 'kind': 'OBJECT', 'name': 'ProductRatingV2', 'ofType': None}}, {'description': '', 'name': 'getSellerReviews', 'type': {'description': None, 'kind': 'LIST', 'name': None, 'ofType': {'kind': 'OBJECT', 'name': 'ProductReviewV2'}}}, {'description': '', 'name': 'getWalletByID', 'type': {'description': 'Wallet', 'kind': 'OBJECT', 'name': 'Wallet', 'ofType': None}}, {'description': '', 'name': 'getWalletPaginate', 'type': {'description': 'WalletPaginate', 'kind': 'OBJECT', 'name': 'WalletPaginate', 'ofType': None}}, {'description': '', 'name': 'listBuyerOnboardFilter', 'type': {'description': None, 'kind': 'LIST', 'name': None, 'ofType': {'kind': 'OBJECT', 'name': 'BuyerOnboardFilter'}}}, {'description': '', 'name': 'listMessages', 'type': {'description': 'MessagesListType', 'kind': 'OBJECT', 'name': 'MessagesListType', 'ofType': None}}, {'description': '', 'name': 'listProductFilter', 'type': {'description': None, 'kind': 'LIST', 'name': None, 'ofType': {'kind': 'OBJECT', 'name': 'ProductFilter'}}}, {'description': '', 'name': 'list_recently_viewed_products', 'type': {'description': None, 'kind': 'LIST', 'name': None, 'ofType': {'kind': 'SCALAR', 'name': 'String'}}}, {'description': '', 'name': 'list_special_product', 'type': {'description': None, 'kind': 'LIST', 'name': None, 'ofType': {'kind': 'OBJECT', 'name': 'SpecialProductByCategory'}}}, {'description': '', 'name': 'liveProduct', 'type': {'description': 'LiveProduct', 'kind': 'OBJECT', 'name': 'LiveProduct', 'ofType': None}}, {'description': '', 'name': 'locales', 'type': {'description': None, 'kind': 'LIST', 'name': None, 'ofType': {'kind': 'OBJECT', 'name': 'Locale'}}}, {'description': '', 'name': 'notifications', 'type': {'description': None, 'kind': 'LIST', 'name': None, 'ofType': {'kind': 'OBJECT', 'name': 'Notification'}}}, {'description': '', 'name': 'package', 'type': {'description': 'ProductPackage', 'kind': 'OBJECT', 'name': 'ProductPackage', 'ofType': None}}, {'description': '', 'name': 'personalize_popular_products', 'type': {'description': 'PersonalizePopularProducts', 'kind': 'OBJECT', 'name': 'PersonalizePopularProducts', 'ofType': None}}, {'description': '', 'name': 'personalize_recently_viewed_products', 'type': {'description': 'PersonalizeRecentlyViewedProducts', 'kind': 'OBJECT', 'name': 'PersonalizeRecentlyViewedProducts', 'ofType': None}}, {'description': '', 'name': 'privacy', 'type': {'description': 'Privacy', 'kind': 'OBJECT', 'name': 'Privacy', 'ofType': None}}, {'description': '', 'name': 'product', 'type': {'description': 'Product', 'kind': 'OBJECT', 'name': 'Product', 'ofType': None}}, {'description': '', 'name': 'productOnboardValidate', 'type': {'description': 'ProductOnboardValidate', 'kind': 'OBJECT', 'name': 'ProductOnboardValidate', 'ofType': None}}, {'description': '', 'name': 'random_pro_products', 'type': {'description': 'RandomProProducts', 'kind': 'OBJECT', 'name': 'RandomProProducts', 'ofType': None}}, {'description': '', 'name': 'relatedProduct', 'type': {'description': None, 'kind': 'LIST', 'name': None, 'ofType': {'kind': 'SCALAR', 'name': 'String'}}}, {'description': '', 'name': 'sme_product', 'type': {'description': 'SMEProduct', 'kind': 'OBJECT', 'name': 'SMEProduct', 'ofType': None}}, {'description': '', 'name': 'sme_products', 'type': {'description': None, 'kind': 'LIST', 'name': None, 'ofType': {'kind': 'OBJECT', 'name': 'SMEProduct'}}}, {'description': '', 'name': 'special_campaign', 'type': {'description': 'SpecialCampaign', 'kind': 'OBJECT', 'name': 'SpecialCampaign', 'ofType': None}}, {'description': '', 'name': 'subcategories', 'type': {'description': None, 'kind': 'LIST', 'name': None, 'ofType': {'kind': 'OBJECT', 'name': 'ProductSubcategory'}}}, {'description': '', 'name': 'subcategory', 'type': {'description': 'ProductSubcategory', 'kind': 'OBJECT', 'name': 'ProductSubcategory', 'ofType': None}}, {'description': '', 'name': 'subcategoryTag', 'type': {'description': 'SubcategoryTag', 'kind': 'OBJECT', 'name': 'SubcategoryTag', 'ofType': None}}, {'description': '', 'name': 'tag', 'type': {'description': 'ProductTag', 'kind': 'OBJECT', 'name': 'ProductTag', 'ofType': None}}, {'description': '', 'name': 'user', 'type': {'description': 'User', 'kind': 'OBJECT', 'name': 'User', 'ofType': None}}, {'description': '', 'name': 'validateWallet', 'type': {'description': 'ValidateWallet', 'kind': 'OBJECT', 'name': 'ValidateWallet', 'ofType': None}}, {'description': '', 'name': 'walletHistories', 'type': {'description': None, 'kind': 'LIST', 'name': None, 'ofType': {'kind': 'OBJECT', 'name': 'Wallet'}}}, {'description': '', 'name': 'walletPackages', 'type': {'description': None, 'kind': 'LIST', 'name': None, 'ofType': {'kind': 'OBJECT', 'name': 'WalletPackage'}}}], 'kind': 'OBJECT', 'name': 'RootQuery'}}\n"
     ]
    }
   ],
   "source": [
    "result = await client_gateway.execute_async(query)\n",
    "print(result)"
   ]
  },
  {
   "cell_type": "code",
   "execution_count": 188,
   "id": "90553147",
   "metadata": {},
   "outputs": [],
   "source": [
    "# Provide a GraphQL query\n",
    "# Introspection \n",
    "# https://graphql.org/learn/introspection/\n",
    "query = gql(\n",
    "\"\"\"\n",
    "query {\n",
    "  getListCoupons {\n",
    "    id\n",
    "  }\n",
    "}\n",
    "\n",
    "\"\"\"\n",
    ")"
   ]
  },
  {
   "cell_type": "code",
   "execution_count": 189,
   "id": "dfba90e1",
   "metadata": {},
   "outputs": [
    {
     "ename": "GraphQLError",
     "evalue": "Cannot query field 'id' on type 'CouponListType'.\n\nGraphQL request:4:5\n3 |   getListCoupons {\n4 |     id\n  |     ^\n5 |   }",
     "output_type": "error",
     "traceback": [
      "\u001b[1;31m---------------------------------------------------------------------------\u001b[0m",
      "\u001b[1;31mGraphQLError\u001b[0m                              Traceback (most recent call last)",
      "Cell \u001b[1;32mIn[189], line 1\u001b[0m\n\u001b[1;32m----> 1\u001b[0m result \u001b[38;5;241m=\u001b[39m \u001b[38;5;28;01mawait\u001b[39;00m client_gateway\u001b[38;5;241m.\u001b[39mexecute_async(query)\n\u001b[0;32m      2\u001b[0m \u001b[38;5;28mprint\u001b[39m(result)\n",
      "File \u001b[1;32m~\\source\\repos\\PhakphumV\\fastwork-commission-table\\venv\\lib\\site-packages\\gql\\client.py:285\u001b[0m, in \u001b[0;36mClient.execute_async\u001b[1;34m(self, document, variable_values, operation_name, serialize_variables, parse_result, get_execution_result, **kwargs)\u001b[0m\n\u001b[0;32m    283\u001b[0m \u001b[38;5;250m\u001b[39m\u001b[38;5;124;03m\"\"\":meta private:\"\"\"\u001b[39;00m\n\u001b[0;32m    284\u001b[0m \u001b[38;5;28;01masync\u001b[39;00m \u001b[38;5;28;01mwith\u001b[39;00m \u001b[38;5;28mself\u001b[39m \u001b[38;5;28;01mas\u001b[39;00m session:\n\u001b[1;32m--> 285\u001b[0m     \u001b[38;5;28;01mreturn\u001b[39;00m \u001b[38;5;28;01mawait\u001b[39;00m session\u001b[38;5;241m.\u001b[39mexecute(\n\u001b[0;32m    286\u001b[0m         document,\n\u001b[0;32m    287\u001b[0m         variable_values\u001b[38;5;241m=\u001b[39mvariable_values,\n\u001b[0;32m    288\u001b[0m         operation_name\u001b[38;5;241m=\u001b[39moperation_name,\n\u001b[0;32m    289\u001b[0m         serialize_variables\u001b[38;5;241m=\u001b[39mserialize_variables,\n\u001b[0;32m    290\u001b[0m         parse_result\u001b[38;5;241m=\u001b[39mparse_result,\n\u001b[0;32m    291\u001b[0m         get_execution_result\u001b[38;5;241m=\u001b[39mget_execution_result,\n\u001b[0;32m    292\u001b[0m         \u001b[38;5;241m*\u001b[39m\u001b[38;5;241m*\u001b[39mkwargs,\n\u001b[0;32m    293\u001b[0m     )\n",
      "File \u001b[1;32m~\\source\\repos\\PhakphumV\\fastwork-commission-table\\venv\\lib\\site-packages\\gql\\client.py:1220\u001b[0m, in \u001b[0;36mAsyncClientSession.execute\u001b[1;34m(self, document, variable_values, operation_name, serialize_variables, parse_result, get_execution_result, **kwargs)\u001b[0m\n\u001b[0;32m   1200\u001b[0m \u001b[38;5;250m\u001b[39m\u001b[38;5;124;03m\"\"\"Coroutine to execute the provided document AST asynchronously using\u001b[39;00m\n\u001b[0;32m   1201\u001b[0m \u001b[38;5;124;03mthe async transport.\u001b[39;00m\n\u001b[0;32m   1202\u001b[0m \n\u001b[1;32m   (...)\u001b[0m\n\u001b[0;32m   1216\u001b[0m \n\u001b[0;32m   1217\u001b[0m \u001b[38;5;124;03mThe extra arguments are passed to the transport execute method.\"\"\"\u001b[39;00m\n\u001b[0;32m   1219\u001b[0m \u001b[38;5;66;03m# Validate and execute on the transport\u001b[39;00m\n\u001b[1;32m-> 1220\u001b[0m result \u001b[38;5;241m=\u001b[39m \u001b[38;5;28;01mawait\u001b[39;00m \u001b[38;5;28mself\u001b[39m\u001b[38;5;241m.\u001b[39m_execute(\n\u001b[0;32m   1221\u001b[0m     document,\n\u001b[0;32m   1222\u001b[0m     variable_values\u001b[38;5;241m=\u001b[39mvariable_values,\n\u001b[0;32m   1223\u001b[0m     operation_name\u001b[38;5;241m=\u001b[39moperation_name,\n\u001b[0;32m   1224\u001b[0m     serialize_variables\u001b[38;5;241m=\u001b[39mserialize_variables,\n\u001b[0;32m   1225\u001b[0m     parse_result\u001b[38;5;241m=\u001b[39mparse_result,\n\u001b[0;32m   1226\u001b[0m     \u001b[38;5;241m*\u001b[39m\u001b[38;5;241m*\u001b[39mkwargs,\n\u001b[0;32m   1227\u001b[0m )\n\u001b[0;32m   1229\u001b[0m \u001b[38;5;66;03m# Raise an error if an error is returned in the ExecutionResult object\u001b[39;00m\n\u001b[0;32m   1230\u001b[0m \u001b[38;5;28;01mif\u001b[39;00m result\u001b[38;5;241m.\u001b[39merrors:\n",
      "File \u001b[1;32m~\\source\\repos\\PhakphumV\\fastwork-commission-table\\venv\\lib\\site-packages\\gql\\client.py:1111\u001b[0m, in \u001b[0;36mAsyncClientSession._execute\u001b[1;34m(self, document, variable_values, operation_name, serialize_variables, parse_result, **kwargs)\u001b[0m\n\u001b[0;32m   1109\u001b[0m \u001b[38;5;66;03m# Validate document\u001b[39;00m\n\u001b[0;32m   1110\u001b[0m \u001b[38;5;28;01mif\u001b[39;00m \u001b[38;5;28mself\u001b[39m\u001b[38;5;241m.\u001b[39mclient\u001b[38;5;241m.\u001b[39mschema:\n\u001b[1;32m-> 1111\u001b[0m     \u001b[38;5;28;43mself\u001b[39;49m\u001b[38;5;241;43m.\u001b[39;49m\u001b[43mclient\u001b[49m\u001b[38;5;241;43m.\u001b[39;49m\u001b[43mvalidate\u001b[49m\u001b[43m(\u001b[49m\u001b[43mdocument\u001b[49m\u001b[43m)\u001b[49m\n\u001b[0;32m   1113\u001b[0m     \u001b[38;5;66;03m# Parse variable values for custom scalars if requested\u001b[39;00m\n\u001b[0;32m   1114\u001b[0m     \u001b[38;5;28;01mif\u001b[39;00m variable_values \u001b[38;5;129;01mis\u001b[39;00m \u001b[38;5;129;01mnot\u001b[39;00m \u001b[38;5;28;01mNone\u001b[39;00m:\n",
      "File \u001b[1;32m~\\source\\repos\\PhakphumV\\fastwork-commission-table\\venv\\lib\\site-packages\\gql\\client.py:149\u001b[0m, in \u001b[0;36mClient.validate\u001b[1;34m(self, document)\u001b[0m\n\u001b[0;32m    147\u001b[0m validation_errors \u001b[38;5;241m=\u001b[39m validate(\u001b[38;5;28mself\u001b[39m\u001b[38;5;241m.\u001b[39mschema, document)\n\u001b[0;32m    148\u001b[0m \u001b[38;5;28;01mif\u001b[39;00m validation_errors:\n\u001b[1;32m--> 149\u001b[0m     \u001b[38;5;28;01mraise\u001b[39;00m validation_errors[\u001b[38;5;241m0\u001b[39m]\n",
      "\u001b[1;31mGraphQLError\u001b[0m: Cannot query field 'id' on type 'CouponListType'.\n\nGraphQL request:4:5\n3 |   getListCoupons {\n4 |     id\n  |     ^\n5 |   }"
     ]
    }
   ],
   "source": [
    "result = await client_gateway.execute_async(query)\n",
    "print(result)"
   ]
  },
  {
   "cell_type": "code",
   "execution_count": null,
   "id": "f60fe5f4",
   "metadata": {},
   "outputs": [],
   "source": []
  },
  {
   "cell_type": "code",
   "execution_count": null,
   "id": "80650330",
   "metadata": {},
   "outputs": [],
   "source": []
  },
  {
   "cell_type": "code",
   "execution_count": null,
   "id": "b11155df",
   "metadata": {},
   "outputs": [],
   "source": []
  },
  {
   "cell_type": "code",
   "execution_count": 143,
   "id": "1922bb07",
   "metadata": {},
   "outputs": [],
   "source": [
    "# Input : Seller ID\n",
    "# Page limit : 20 items per page\n",
    "\n",
    "query = gql(\n",
    "    \"\"\"\n",
    "query ($id: String!){\n",
    "    getSellerReviews (id: $id, page: 1, limit: 20) {\n",
    "        seller_reviews {\n",
    "            created_at\n",
    "            description\n",
    "            id\n",
    "            is_anonymous\n",
    "            is_cancelled\n",
    "            order_id\n",
    "            rating\n",
    "            reply_review\n",
    "            reviewer {\n",
    "                    full_name\n",
    "                    id\n",
    "            }\n",
    "        }\n",
    "        total_items\n",
    "        total_pages\n",
    "        page\n",
    "        limit\n",
    "    }\n",
    "}\n",
    "\"\"\"\n",
    ")\n",
    "params = {\"id\":\"fa632fa3-e878-4d9d-9605-18ae2285ab54\"}"
   ]
  },
  {
   "cell_type": "code",
   "execution_count": 144,
   "id": "ca7a742e",
   "metadata": {
    "scrolled": true
   },
   "outputs": [
    {
     "name": "stdout",
     "output_type": "stream",
     "text": [
      "{'getSellerReviews': {'seller_reviews': [{'created_at': '2023-05-27T02:16:29.358Z', 'description': '', 'id': 'c095584a-65b9-491d-8b6e-5866994e956c', 'is_anonymous': False, 'is_cancelled': False, 'order_id': 'b8539e1a-0ac3-4006-a8f7-9a2d2688aa5d', 'rating': 5, 'reply_review': '', 'reviewer': {'full_name': 'calapas ช.', 'id': '0e2204bf-2f4c-4253-b3bb-f3f781c205d2'}}, {'created_at': '2023-04-29T12:27:30.234Z', 'description': '', 'id': '75b02035-1507-4ca7-be27-f11b56909451', 'is_anonymous': False, 'is_cancelled': False, 'order_id': '0ec7ba02-bc14-435c-96b7-a8e41abcc754', 'rating': 5, 'reply_review': '', 'reviewer': {'full_name': 'Thunpisit S.', 'id': '42f53940-db87-45f0-afa3-a6d3713a5874'}}, {'created_at': '2023-04-26T16:35:53.312Z', 'description': 'กลับมาจ้างสามครั้งค่ะ ทำเว็บไซส์ดีมากๆ ตอบเร็ว แนะนำดีมากค่ะ ', 'id': '72a0b96d-ffa8-460b-83d6-2b3709068d47', 'is_anonymous': False, 'is_cancelled': False, 'order_id': '5fb2ee2a-1de1-4d5e-a5d4-3f0eb10062d3', 'rating': 5, 'reply_review': '', 'reviewer': {'full_name': 'Freya J.', 'id': 'b2893421-6f70-4809-9df1-b345761ebca7'}}, {'created_at': '2023-04-18T20:19:35.338Z', 'description': 'ทำงานรวดเร็ว ดีไซน์สวย recommend ค่ะ ', 'id': '766c380e-d16f-405e-b74f-b59c87255c5d', 'is_anonymous': False, 'is_cancelled': False, 'order_id': '44222a5a-a442-40f8-ab6f-745896ad22a3', 'rating': 5, 'reply_review': '', 'reviewer': {'full_name': 'Freya J.', 'id': 'b2893421-6f70-4809-9df1-b345761ebca7'}}, {'created_at': '2023-04-17T01:22:47.02Z', 'description': 'บริการดีมากค่ะ ตอบคำถามและให้คำแนะนำ, เว็บไซส์สวยถูกใจ 5/5 ค่ะ ', 'id': '128b3aa3-702c-4039-89ea-72efacab5dea', 'is_anonymous': False, 'is_cancelled': False, 'order_id': '9db844d5-19f8-4da1-b012-abe000b93e9e', 'rating': 5, 'reply_review': '', 'reviewer': {'full_name': 'Freya J.', 'id': 'b2893421-6f70-4809-9df1-b345761ebca7'}}, {'created_at': '2023-04-10T15:36:36.997Z', 'description': 'เก่งมากครับ', 'id': '3c98f151-9e9c-4cf7-949e-b40f7444d454', 'is_anonymous': True, 'is_cancelled': False, 'order_id': 'c5512e54-549a-4bdc-b503-557e581a18ad', 'rating': 5, 'reply_review': '', 'reviewer': {'full_name': '***** (ผู้ว่าจ้างไม่เปิดเผยชื่อ)', 'id': 'e8f8266d-5ebe-4034-9718-46c9b8b60203'}}, {'created_at': '2022-12-19T11:00:44.343Z', 'description': 'โจทย์ที่ให้งานคือย้าย website จากแบบเขียนโค้ดมา wordpress ซึ่งก็สามารถทำได้เกิน 95% แล้วก็มีอัพเดทงานให้ตลอด โดยรวมถือว่าโอเคมากๆ คุ้มค่ากับเงินที่จ้างงาน', 'id': '821cf78b-fb9a-48d9-b499-9b9d469ddb28', 'is_anonymous': False, 'is_cancelled': False, 'order_id': 'af9f1227-bb38-43c2-8f4d-3d0ed2613609', 'rating': 4.8, 'reply_review': '', 'reviewer': {'full_name': 'Napat S.', 'id': 'b45a85c9-b1c5-43c0-87c4-06d7fdf668ce'}}, {'created_at': '2022-12-08T02:51:43.031Z', 'description': '', 'id': 'bc2b420f-8b72-44ec-8cdc-f307436ee769', 'is_anonymous': False, 'is_cancelled': False, 'order_id': '219e652f-a8c7-47b5-9c9f-4726dd5b00ea', 'rating': 5, 'reply_review': '', 'reviewer': {'full_name': 'ธนพล ร.', 'id': '2c534af9-c598-4169-a5ee-137f0df24176'}}, {'created_at': '2022-11-29T17:41:19.483Z', 'description': 'แนะนำครับ', 'id': 'c6009882-1142-41b2-8c53-5853589ce00d', 'is_anonymous': False, 'is_cancelled': False, 'order_id': '5d269ec2-d041-4e4f-895f-e873cef5f524', 'rating': 5, 'reply_review': '', 'reviewer': {'full_name': 'pongsapak J.', 'id': '18ea7b06-0aca-4ca5-9e1e-ec07debeef8d'}}, {'created_at': '2022-11-16T05:14:44.759Z', 'description': 'งานโอเค แต่คุยค่อนข้างยากหน่อย พอกดรับงานแล้วมีปัญหา', 'id': '6f223cc9-de01-4c1e-8685-fa1c6612abfe', 'is_anonymous': True, 'is_cancelled': False, 'order_id': 'ca18f793-e577-411e-9c45-070464a0ea55', 'rating': 2.3, 'reply_review': 'ไม่ทราบว่ากดรับงานแล้วมีปัญหาอย่างไรครับผม จนงานเสร็จไปนานแล้วนะครับ ไม่เห็นมีปัญหาอะไรเลย แจ้งไปแล้วว่าไลน์มีปัญหาให้ติดต่อผ่าน fast work chat แทนครับ และมีการทักมาถามวิธีใช้งาน ซึ่งผมก็แจ้งกลับไปแล้ว แต่ทางลูกค้าต้องการให้ผมเป็นคนทำ ซึ่งผมปฏิเสธไป เพราะส่วนนี้มันไม่ได้อยู่ใน terms ของการดูแลอยู่แล้วนะครับ\\n', 'reviewer': {'full_name': '***** (ผู้ว่าจ้างไม่เปิดเผยชื่อ)', 'id': '346032d6-1fc6-42a4-8290-0d8b0796c32e'}}, {'created_at': '2022-09-28T02:48:30.928Z', 'description': '', 'id': '392dba46-adc2-4054-944a-89711142beb2', 'is_anonymous': False, 'is_cancelled': False, 'order_id': 'b47365de-7aa6-4aed-a9b5-a3caca5b50bb', 'rating': 5, 'reply_review': '', 'reviewer': {'full_name': 'Jeerapat N.', 'id': '39845b69-ea10-44d9-a0aa-427b2ef01ff6'}}, {'created_at': '2022-08-25T09:12:26.338Z', 'description': '', 'id': 'ce593d61-d06e-429b-900c-a0b18f3b096c', 'is_anonymous': False, 'is_cancelled': False, 'order_id': 'cd72faff-5bef-4da6-803a-6e2fe804651d', 'rating': 5, 'reply_review': '', 'reviewer': {'full_name': 'Thaweewat S.', 'id': 'a39924e3-7e0e-45db-88b6-52251790bbf5'}}, {'created_at': '2022-08-17T09:05:19.643Z', 'description': '', 'id': '8857321b-5675-41e5-906f-ca1a49c868eb', 'is_anonymous': False, 'is_cancelled': False, 'order_id': 'f3ed0bd2-7314-4ad2-9292-3ef2146edef2', 'rating': 4.5, 'reply_review': '', 'reviewer': {'full_name': 'พีระศิลป์ ก.', 'id': '0a47982e-d1b3-4ad3-94a8-e1f24b40d27a'}}, {'created_at': '2022-08-10T13:12:59.131Z', 'description': 'บริการดีมาก ให้คำปรึกษา ช่วยเหลือและตอบคำถามทุกอย่าง ดีมากๆค่ะ', 'id': '49f09d4d-dc13-4d0c-a0ea-b4a81046aa8f', 'is_anonymous': False, 'is_cancelled': False, 'order_id': '5c912633-6a8a-4b0e-a549-1844fda894bc', 'rating': 5, 'reply_review': '', 'reviewer': {'full_name': 'anin S.', 'id': 'aaabe27b-e7a3-4e6e-937e-96012b375b75'}}, {'created_at': '2022-06-08T06:36:45.699Z', 'description': '', 'id': '14e7b029-86a7-4daf-bac0-15f7e7b29309', 'is_anonymous': False, 'is_cancelled': False, 'order_id': 'ff4ad0d0-4fbb-4853-a9c9-69a314b1f486', 'rating': 4.8, 'reply_review': '', 'reviewer': {'full_name': 'Gift O.', 'id': 'ec169532-edd4-4198-9220-e89ac7fe32f9'}}, {'created_at': '2022-05-08T08:27:22.921Z', 'description': '', 'id': '4ba53b1b-6aae-4d1b-8ad0-0647bf7a3dfa', 'is_anonymous': False, 'is_cancelled': False, 'order_id': 'dc93dd43-f294-4a04-9858-7ace9874a271', 'rating': 4.8, 'reply_review': '', 'reviewer': {'full_name': 'Interbolt F.', 'id': 'a10407e1-ce7b-465c-b684-4c83b270c4e0'}}, {'created_at': '2022-05-02T16:38:02.88Z', 'description': 'งานดีมากครับ แนะนำได้ดี', 'id': 'af429dba-7393-4d3f-aa3c-0f716ae7b2f5', 'is_anonymous': False, 'is_cancelled': False, 'order_id': '921f267b-c951-4e6b-bd1b-8d8c82dc2b1f', 'rating': 5, 'reply_review': '', 'reviewer': {'full_name': 'Thanwit S.', 'id': 'c19659c0-b32e-4a51-b2f9-e78e08b6d406'}}, {'created_at': '2022-01-16T13:25:18.052Z', 'description': 'ออกแบบดี บริการหลังการขายดี อธิบายทุกเรื่องที่ไม่เข้าใจดี แนะนำดี', 'id': '1d77c581-b5dc-4588-8a5c-76f0b83f4694', 'is_anonymous': False, 'is_cancelled': False, 'order_id': '6bd72249-5821-47ec-9a4e-32b0269adf54', 'rating': 5, 'reply_review': '', 'reviewer': {'full_name': 'Piyawat C.', 'id': '6fa03c4e-3be4-4ae3-9190-b88705b880a3'}}, {'created_at': '2021-11-19T02:43:32.932Z', 'description': 'ออกแบบให้สวยครับ', 'id': '2f8f7594-aed8-4abb-9754-92cc748c040c', 'is_anonymous': False, 'is_cancelled': False, 'order_id': '5adfdcc3-8d0e-4729-ad18-ea417f1db95b', 'rating': 4, 'reply_review': '', 'reviewer': {'full_name': 'Close C.', 'id': '20714aa4-c84c-4e23-bd3c-968245d5b4bf'}}, {'created_at': '2021-11-17T17:05:23.878Z', 'description': 'ติดตามงานดีค่ะ', 'id': 'b5c25226-5700-4fdf-8f05-b6cff38c0d99', 'is_anonymous': False, 'is_cancelled': False, 'order_id': '268d8fe4-f032-40f2-a9f7-8810e1939f9e', 'rating': 5, 'reply_review': '', 'reviewer': {'full_name': 'Raya B.', 'id': '3fc727d4-1bef-4000-bcf7-e6b3ece2890a'}}], 'total_items': 40, 'total_pages': 2, 'page': 1, 'limit': 20}}\n"
     ]
    }
   ],
   "source": [
    "# Execute the query on the transport\n",
    "result = await client_api.execute_async(query,params)\n",
    "print(result)"
   ]
  },
  {
   "cell_type": "code",
   "execution_count": null,
   "id": "233d6d7a",
   "metadata": {},
   "outputs": [],
   "source": []
  }
 ],
 "metadata": {
  "kernelspec": {
   "display_name": "Python 3 (ipykernel)",
   "language": "python",
   "name": "python3"
  },
  "language_info": {
   "codemirror_mode": {
    "name": "ipython",
    "version": 3
   },
   "file_extension": ".py",
   "mimetype": "text/x-python",
   "name": "python",
   "nbconvert_exporter": "python",
   "pygments_lexer": "ipython3",
   "version": "3.10.11"
  }
 },
 "nbformat": 4,
 "nbformat_minor": 5
}
