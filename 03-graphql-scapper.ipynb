{
 "cells": [
  {
   "cell_type": "code",
   "execution_count": 1,
   "id": "b263b065",
   "metadata": {},
   "outputs": [],
   "source": [
    "from gql import gql, Client\n",
    "from gql.transport.aiohttp import AIOHTTPTransport\n",
    "# import pandas as pd\n",
    "# import seaborn as sns\n",
    "# import matplotlib.pyplot as plt"
   ]
  },
  {
   "cell_type": "code",
   "execution_count": 73,
   "id": "f1f6766c",
   "metadata": {},
   "outputs": [],
   "source": [
    "BASE_URL = \"https://gateway.fastwork.co/graphql\"\n",
    "API_URL = \"https://api.fastwork.co/graphql\""
   ]
  },
  {
   "cell_type": "code",
   "execution_count": 74,
   "id": "d9b75c60",
   "metadata": {},
   "outputs": [],
   "source": [
    "transport_gateway = AIOHTTPTransport(url=BASE_URL)    \n",
    "transport_api = AIOHTTPTransport(url=API_URL)    "
   ]
  },
  {
   "cell_type": "code",
   "execution_count": 75,
   "id": "321e26b3",
   "metadata": {},
   "outputs": [],
   "source": [
    "client_gateway = Client(transport=transport_gateway, fetch_schema_from_transport=True)\n",
    "client_api = Client(transport=transport_api, fetch_schema_from_transport=True)"
   ]
  },
  {
   "cell_type": "code",
   "execution_count": 31,
   "id": "3cdf600a",
   "metadata": {},
   "outputs": [],
   "source": [
    "# Provide a GraphQL query\n",
    "query = gql(\n",
    "    \"\"\"\n",
    "    query {\n",
    "    categories{\n",
    "\t\t\tid\n",
    "\t\t\tslug\n",
    "\t\t\tsubcategory_groups{\n",
    "\t\t\t\ttitle\n",
    "\t\t\t\tsubcategories{\n",
    "\t\t\t\t\tid\n",
    "\t\t\t\t\tslug\n",
    "\t\t\t\t\ttitle\n",
    "\t\t\t\t}\n",
    "\t\t\t}\n",
    "\t\t}\n",
    "\t}\n",
    "\n",
    "\"\"\"\n",
    ")"
   ]
  },
  {
   "cell_type": "code",
   "execution_count": 65,
   "id": "566bcbf6",
   "metadata": {},
   "outputs": [],
   "source": [
    "# Provide a GraphQL query\n",
    "query = gql(\n",
    "    \"\"\"\n",
    "query {\n",
    "    categories{\n",
    "        id\n",
    "        slug\n",
    "        subcategory_groups{\n",
    "            id\n",
    "            title\n",
    "            subcategories{\n",
    "                id\n",
    "                slug\n",
    "            }\n",
    "        }\n",
    "    }\n",
    "}\n",
    "\n",
    "\"\"\"\n",
    ")"
   ]
  },
  {
   "cell_type": "code",
   "execution_count": 66,
   "id": "215da666",
   "metadata": {},
   "outputs": [
    {
     "name": "stdout",
     "output_type": "stream",
     "text": [
      "{'categories': [{'id': 'f4d22516-d963-4a18-ab1e-ee8ec835f352', 'slug': 'design-graphic', 'subcategory_groups': [{'id': '87903a1e-0dd5-425a-a0d1-ffd2cce0e1d3', 'subcategories': [{'id': '8a6f479b-905a-47d4-9106-9d92d43e2677', 'slug': 'logo-design'}, {'id': '2bd65cf0-18b2-415f-94c5-a33c86c793a4', 'slug': 'social-media-banner'}, {'id': '34788f71-c319-4f83-9dff-8e18d43db4b4', 'slug': 'packaging'}, {'id': '4e8a1262-f0b1-4cf1-9ba4-59642bc95024', 'slug': 'presentation'}, {'id': 'dc435ab4-c96e-4632-b5b4-567232d01dd0', 'slug': 'publication'}, {'id': '44b19c55-09ea-4c49-b1f2-f7d228064bf6', 'slug': 'infographics'}, {'id': 'b3588b0c-2fe8-43f0-9f6b-a546d0c253a7', 'slug': 'photoshop'}, {'id': 'ad5163e9-1bd8-4dc6-bd41-7df57c9414cb', 'slug': '3d-model'}, {'id': '9374337f-9a56-4db4-996c-e2accb2f0436', 'slug': 'portfolio-resume'}, {'id': '93ed82e1-b532-48cd-a33c-8c4fc37faae1', 'slug': 'corporate-identity'}], 'title': 'Graphic Design'}, {'id': '82714e21-0d1f-4e25-9855-f7515684f053', 'subcategories': [{'id': 'ea3fc27b-eaa7-4254-a175-8935852fb90f', 'slug': 'illustration'}, {'id': '58d542a8-4592-451e-bd66-5184ae46fd96', 'slug': 'character-design'}, {'id': '14f7a360-dfe4-4fc4-99ce-ebc5ab2d0978', 'slug': 'fanart'}, {'id': 'c8c178a4-545c-4ce6-85fe-fcf0c6f6eced', 'slug': 'illustration-portrait'}, {'id': '524583dd-b85b-41ff-b0a4-b0a3bcd55e40', 'slug': 'caricature'}, {'id': '079ad594-a1e9-4f5e-b5ef-1d7e72bcf898', 'slug': 'cartoon-drawing'}, {'id': 'aa47a2da-ef39-4637-932c-bfc4670c5633', 'slug': 'vector-illustration'}, {'id': '5cc14bbe-970e-4cb1-8af2-b6ad4921b209', 'slug': 'vector'}, {'id': 'ac4e6f8b-6508-499f-a193-0c0c13e73309', 'slug': 'storyboard'}, {'id': '7e4ab261-f909-427a-bf4c-029cc7f53518', 'slug': 'fashion-design'}, {'id': '61bee525-7b1d-4436-9e9d-e43856973700', 'slug': 'tattoo-design'}, {'id': '28e57955-8498-473f-a265-ff8383bd2063', 'slug': 'map-design'}, {'id': 'df7b6a58-34f1-4f38-8d2b-7f8376994a0d', 'slug': 'game-character-bg'}, {'id': '4406a7d0-3e97-444b-8148-ff8f2e00dfbe', 'slug': 'sticker'}, {'id': '9fde5731-fcb1-4031-bb09-209a4a3cb19b', 'slug': 'line-sticker'}, {'id': '98e9a697-7991-4d38-9ed6-21ac81fcb333', 'slug': 'nft-art'}], 'title': 'Art & Drawing'}, {'id': 'd0b48fdc-8af2-404b-a44b-7abae1d59ce4', 'subcategories': [{'id': '92bb3417-5db6-4aec-b96b-ac91f57b57cd', 'slug': 'engineering-structural-design'}, {'id': '0875d212-8a52-4bdb-aa85-60326f9049a1', 'slug': 'architect-and-interior'}, {'id': '2db5aa33-75ff-432b-a0f7-c2a831b8f249', 'slug': 'perspective'}, {'id': '982aafaa-bcf5-4542-a939-70604b10e51e', 'slug': 'landscape'}], 'title': 'Architecture & interior'}, {'id': '2820445d-d715-4b4b-9e68-9ca4c7159246', 'subcategories': [{'id': '134b0076-2f3d-4245-8c54-beac113d3700', 'slug': 'design-graphic-other'}], 'title': 'Other'}]}, {'id': '6b10c3d4-966d-4d40-b386-b98a70a7ab99', 'slug': 'marketing-advertising', 'subcategory_groups': [{'id': 'c3855ac0-eb3d-4d39-808f-72eec8ee91dd', 'subcategories': [{'id': '4ed96777-33ca-4b25-8961-2683c12d3692', 'slug': 'seo'}, {'id': '89f129fc-1156-4634-9ea3-6b561fabe02f', 'slug': 'promote-page'}, {'id': '03a3536a-21dc-4cb8-9d3e-9a0caea5fbc9', 'slug': 'reviews'}, {'id': '70dc5902-021e-48b9-9519-3b2e9f1f7d1f', 'slug': 'social-media-ads'}, {'id': '94e85ce4-23b5-4561-890a-130d4ed40ad8', 'slug': 'google-ads'}, {'id': 'dc36ffa9-201c-48a5-b327-70c6b1ed807b', 'slug': 'content-marketing'}, {'id': '0e93253c-c4d4-4fd5-92cf-3d43da313100', 'slug': 'google-map'}, {'id': '79f40b9a-0a91-4c28-b9c7-1af250ba5ced', 'slug': 'public-relations'}, {'id': '636666a3-3f2e-4efb-8856-cde25298a79f', 'slug': 'promote-real-estate'}], 'title': 'Online media'}, {'id': '6aceb50c-87d8-48c9-a613-ad49275c1dec', 'subcategories': [{'id': '751f26f7-cdd3-4b7d-b2a6-bd259039a2c4', 'slug': 'blogger-netidol'}, {'id': '5e4da673-ef19-4df6-8034-c1ba1fed1dd1', 'slug': 'gamecaster'}, {'id': '9f9bef91-371b-41ff-94f8-ba6f209e9d29', 'slug': 'influencer-marketing'}], 'title': 'Influencer'}, {'id': '2a863806-9f12-458e-b4b3-39f3e5fd937d', 'subcategories': [{'id': 'd5578166-cf19-4a2d-9cd0-9a3b375ee5fa', 'slug': 'data-analyst'}, {'id': '9c958de3-bc16-4b31-9288-f993f4576103', 'slug': 'questionnaire'}, {'id': 'c6712196-384b-4555-8f5a-81387c08812e', 'slug': 'analytics-tracking'}, {'id': 'acec757f-c43b-4f68-a3e4-efee48af0c50', 'slug': 'focus-group'}], 'title': 'Marketing insight'}, {'id': '71716b70-1a47-4b53-8c4f-4d147d9f0722', 'subcategories': [{'id': 'a2a3422c-6e68-480e-85e6-717636da84a3', 'slug': 'marketing-project-management'}, {'id': '2b09df33-598c-4b89-8588-8bd58d836278', 'slug': 'marketing'}, {'id': 'b09ac5a2-e5dd-423d-8aaf-ba409759e418', 'slug': 'branding'}], 'title': 'Marketing Strategy'}, {'id': 'b0b0c2c4-d26e-4f31-87f4-3cc77e7943ba', 'subcategories': [{'id': '2cb5c1f5-e9ed-4149-8ed9-31c6bf60bdbd', 'slug': 'marketing-advertising-other'}], 'title': 'Other'}]}, {'id': 'e9a7dfc7-4066-48bc-9c78-de683c743260', 'slug': 'writing-translation', 'subcategory_groups': [{'id': 'e865af55-e2e0-4de0-958a-2ccc7b2e9650', 'subcategories': [{'id': 'cb5ec54f-5c52-49dd-9aee-a2370b346be3', 'slug': 'content-writing'}, {'id': '20ae7feb-e8e7-4fe2-a63b-b8dbcf3035ee', 'slug': 'typing-and-data-entry'}, {'id': '7c810a06-9910-4419-98a3-06677dec04cb', 'slug': 'transcription'}, {'id': '963f3d5d-0f27-4190-b47d-890d3e30d912', 'slug': 'story-writing'}], 'title': 'Content & Writing'}, {'id': 'e4b2c6d6-f38f-4072-b88c-c462a1973401', 'subcategories': [{'id': '61702345-bb25-4f02-ab0b-405395a86ce2', 'slug': 'translation'}, {'id': 'b7bcf052-75f9-44ab-849f-189ff0161cab', 'slug': 'proofreading'}, {'id': '9a751167-5ae5-4a29-be94-f4e28112d658', 'slug': 'translator'}], 'title': 'Language'}, {'id': '08b9c38d-56e3-427c-8f86-8244cee8d0c8', 'subcategories': [{'id': 'db4bbcb2-1c2a-4915-b35d-1d1c2b53b0a6', 'slug': 'writing-translation-other'}], 'title': 'Other'}]}, {'id': '073b202c-54e6-4a50-984d-08739895ba16', 'slug': 'photography-video', 'subcategory_groups': [{'id': 'b261ba12-b493-4650-a7ca-3809e7ced444', 'subcategories': [{'id': '961debb1-8f7d-4f3a-84ab-a8e780acd068', 'slug': 'videography'}, {'id': '6e2cda6c-6541-4895-bbae-ebcf2eb7c5ba', 'slug': 'photography'}, {'id': '2a56a259-6a2f-46ff-af89-54d383a015ea', 'slug': 'animations'}, {'id': 'bb2a7760-5150-4c17-8423-fb0a60bfe19c', 'slug': 'motion-graphics'}, {'id': '6d9f817e-658e-441a-a8c1-ad779aff3fff', 'slug': 'subtitle'}], 'title': ' Photo & Video'}, {'id': '7961654f-9677-435f-a44d-9dee25c24cf0', 'subcategories': [{'id': '0f517671-f8ee-4a8d-b851-c3eac99b73cf', 'slug': 'voice-over'}, {'id': 'b3f7339d-6398-41b7-a716-e70a4d69959c', 'slug': 'sound-engineering'}, {'id': '89988035-e162-4ce9-ae23-284afef9e459', 'slug': 'podcast'}, {'id': '87ccfd8b-dacf-4760-bed0-87d5d231ee33', 'slug': 'singer-band'}, {'id': '1ee0caf0-5917-4c58-b5fc-efd45987b7ff', 'slug': 'mc'}], 'title': 'Voice & Sound'}, {'id': '1024ec72-6647-45ed-b60c-00588171a3f1', 'subcategories': [{'id': '1e2fd8d1-6451-45da-a824-5315c2ddea61', 'slug': 'makeup'}, {'id': '836274f0-459b-4082-bb7e-0e81e079fd0d', 'slug': 'prop-stylist'}, {'id': 'fcf7938d-3540-42c0-a48a-a3aae9204e42', 'slug': 'stand-up-comedy'}, {'id': 'f161acd7-43cb-40d8-8fe2-7f5058c84a0d', 'slug': 'acting-modeling'}], 'title': 'Artist'}, {'id': '523d7952-9a10-49f5-9c8b-6da8785a6527', 'subcategories': [{'id': '00924aca-354b-4f95-a701-2fcd83668f78', 'slug': 'project-management-production'}], 'title': 'Event & Organizer'}, {'id': '751f2cdc-cd0b-4715-bad4-7ba3c8ef329b', 'subcategories': [{'id': '15f862f9-4d15-4271-9fe1-c491f7aa9f97', 'slug': 'photography-video-other'}], 'title': 'Other'}]}, {'id': '0856f9bb-b968-4ea1-8462-33cbedbf8372', 'slug': 'web-programming', 'subcategory_groups': [{'id': 'fddb72d1-baf8-4459-bcff-a48dbd197acd', 'subcategories': [{'id': '4594bcfe-8ad1-4e62-95ce-446347826fb9', 'slug': 'web-development'}, {'id': '9e13f987-465f-4b29-b00f-1a421c8acb62', 'slug': 'wordpress'}, {'id': 'd577610a-baf9-4473-a45c-8c3a4e47e658', 'slug': 'chatbot'}], 'title': 'Website Development'}, {'id': 'd74bdc07-8989-4edd-83a5-e07141f1183c', 'subcategories': [{'id': 'cf113b86-94aa-46a4-ae84-c742b394844d', 'slug': 'ux-ui-design-web-app'}], 'title': 'Design'}, {'id': '484a99ac-0239-4a07-a4b1-764feb013811', 'subcategories': [{'id': 'dd69da0f-2f98-4b91-8e51-fa5e76e22131', 'slug': 'mobile-application'}, {'id': '34b60608-6968-4b59-8148-43bcf846d040', 'slug': 'desktop-application'}], 'title': 'Application'}, {'id': '4c1c5cb1-ba21-4b8a-bcc2-4f433a99b202', 'subcategories': [{'id': '71ca6075-fb9e-4143-a855-edbef5a6f851', 'slug': 'it-project-management'}, {'id': '617339d5-bbfe-497a-a3dc-c0aca06659fb', 'slug': 'it-solution-and-support'}, {'id': 'e56220eb-1d89-4793-b2a2-31663afe3589', 'slug': 'iot'}, {'id': '4259c1fd-2270-4593-b0ee-b71a57a40bf1', 'slug': 'web-scraping'}, {'id': 'd3958c38-7ad8-4eb6-b86c-3e101a4fa16d', 'slug': 'quality-assurance'}], 'title': 'Technical'}, {'id': '2610dd40-636d-4319-afb1-552ebbeb10dd', 'subcategories': [{'id': '72c8f944-03ae-4690-97a8-377107365982', 'slug': 'web-programming-other'}], 'title': 'Other'}]}, {'id': '438d47c9-525b-467d-99df-b602ee90c35f', 'slug': 'consultant', 'subcategory_groups': [{'id': '2bf16f98-50c2-4b93-b3a9-46cd167892ba', 'subcategories': [{'id': '41faf2a9-f556-460e-a448-3d941275962c', 'slug': 'tutoring'}, {'id': '07070aaa-5df9-4c0d-b3b5-3f6946ca5e79', 'slug': 'self-improvement'}, {'id': 'fd25fd9f-9e3e-4e7a-b969-b9559fe043e6', 'slug': 'psychologist'}, {'id': '25540c55-a8fd-4d42-a463-7800ea1417ea', 'slug': 'counseling'}], 'title': 'Self improvement'}, {'id': '155e5f24-2f4c-4cd1-b67b-494e64bf1bb7', 'subcategories': [{'id': '3b489711-8d08-4d76-bf92-03f7ebe5db10', 'slug': 'investing-course'}, {'id': 'ae2aec13-47db-4aac-9e02-fd1e5394afdd', 'slug': 'legal'}, {'id': '5c90080c-0ec5-414e-bc60-d23fc63e1fd6', 'slug': 'business'}, {'id': '69609cba-1a5c-4ba0-a0b9-44641a973e71', 'slug': 'commercial-registration'}, {'id': '269c05a8-e23b-4ada-a861-f0c420344b52', 'slug': 'accounting-and-finance'}, {'id': 'b2031093-20b3-4117-968e-b686ccb8c0a5', 'slug': 'financial-planning'}, {'id': '4f6c14d4-7b03-4db8-9af6-4c00197d0714', 'slug': 'secretary'}, {'id': 'b46f3bcf-f658-4206-a120-b187e7be1f7c', 'slug': 'order-from-china'}], 'title': 'Business&Finance'}, {'id': 'fad4d549-0e02-4540-b721-f0319547130f', 'subcategories': [{'id': 'aede3ffc-3df2-4e15-89b1-c56364375d2e', 'slug': 'car-inspection'}, {'id': '845e8d5b-004c-4625-9eb8-a353e0b1a055', 'slug': 'home-inspection'}, {'id': '2f5de78e-ce9e-41ca-a2bf-eb3ad146c905', 'slug': 'horoscope'}, {'id': 'daf3d543-5a04-45f1-957b-4a651ee5b02d', 'slug': 'art-and-craft'}, {'id': '6c01f914-55b8-4de2-9f77-2e6f70216582', 'slug': 'feng-shui'}, {'id': '1b8c5505-1c3a-4837-a2fe-1a659ec7454c', 'slug': 'gaming'}, {'id': 'e30a6cd9-b490-4556-bf53-1ef1bf77eb4a', 'slug': 'trip-planner'}], 'title': 'Lifestyle'}, {'id': 'df907890-3558-4788-890e-48fe0bdb6e79', 'subcategories': [{'id': 'bc1e8506-feea-4724-86f0-30e95ee8e663', 'slug': 'consultant-other'}], 'title': 'Other'}]}, {'id': '366dfea7-b6d5-4482-83db-5a4306ad82aa', 'slug': 'operation', 'subcategory_groups': [{'id': '30ce95f4-bdb3-4239-9f0e-85cf562e0345', 'subcategories': [{'id': '51e129da-08b9-4894-8eb8-fde40900fe47', 'slug': 'shop-and-page-admin'}, {'id': '2fc104fb-4bc8-4886-be4d-60235eb92f9b', 'slug': 'shop-registration-and-listing'}, {'id': 'bab61bee-5c11-4d51-85a0-39b28c01c341', 'slug': 'callcenter-telesale'}, {'id': '4e1808b6-002c-4ef7-9e05-19e1187286ef', 'slug': 'sales'}, {'id': '9c7a4f06-bf78-47d4-aa07-03ef11e66d33', 'slug': 'operation-other'}], 'title': 'All'}]}]}\n"
     ]
    }
   ],
   "source": [
    "# Execute the query on the transport\n",
    "result = await client_gateway.execute_async(query)\n",
    "print(result)"
   ]
  },
  {
   "cell_type": "code",
   "execution_count": 53,
   "id": "66338fbb",
   "metadata": {},
   "outputs": [],
   "source": [
    "# Provide a GraphQL query\n",
    "# Introspection \n",
    "# https://graphql.org/learn/introspection/\n",
    "query = gql(\n",
    "\"\"\"\n",
    "query {\n",
    "    __schema {\n",
    "    types {\n",
    "      name\n",
    "      fields {\n",
    "        name\n",
    "        description\n",
    "      }\n",
    "    }\n",
    "  }\n",
    "}\n",
    "\n",
    "\"\"\"\n",
    ")\n"
   ]
  },
  {
   "cell_type": "code",
   "execution_count": 87,
   "id": "4e637d67",
   "metadata": {},
   "outputs": [],
   "source": [
    "# Provide a GraphQL query\n",
    "# Introspection \n",
    "# https://graphql.org/learn/introspection/\n",
    "query = gql(\n",
    "\"\"\"\n",
    "query {\n",
    "    __schema {\n",
    "    types {\n",
    "      name\n",
    "    }\n",
    "  }\n",
    "}\n",
    "\n",
    "\"\"\"\n",
    ")\n"
   ]
  },
  {
   "cell_type": "code",
   "execution_count": 85,
   "id": "430c8f8e",
   "metadata": {},
   "outputs": [],
   "source": [
    "# Provide a GraphQL query\n",
    "# Introspection \n",
    "# https://graphql.org/learn/introspection/\n",
    "query = gql(\n",
    "\"\"\"\n",
    "query {\n",
    "  __schema {\n",
    "    queryType {\n",
    "      name\n",
    "    }\n",
    "  }\n",
    "}\n",
    "\n",
    "\"\"\"\n",
    ")\n"
   ]
  },
  {
   "cell_type": "code",
   "execution_count": null,
   "id": "92839018",
   "metadata": {},
   "outputs": [],
   "source": [
    "query = \"\"\"\n",
    "query {\n",
    "    getProductSubscategory (id: \"8a6f479b-905a-47d4-9106-9d92d43e2677\", page: 1, limit: 5) {\n",
    "        __fields\n",
    "    }\n",
    "}\n",
    "\"\"\""
   ]
  },
  {
   "cell_type": "code",
   "execution_count": 88,
   "id": "c0dbe7f9",
   "metadata": {},
   "outputs": [
    {
     "name": "stdout",
     "output_type": "stream",
     "text": [
      "{'__schema': {'types': [{'name': 'Any'}, {'name': 'Boolean'}, {'name': 'BuyerReview'}, {'name': 'BuyerReviewsResponse'}, {'name': 'ChatChannel'}, {'name': 'ChatChannelObj'}, {'name': 'ChatChannelsMetaDataParamsInput'}, {'name': 'ChatChannelsOrderParamsInput'}, {'name': 'ChatChannelsResponse'}, {'name': 'ChatMember'}, {'name': 'ChatMessage'}, {'name': 'ChatMessagesResponse'}, {'name': 'ChatMetadata'}, {'name': 'ChatProduct'}, {'name': 'ChatUser'}, {'name': 'CoinTopUp'}, {'name': 'CreateProductActionLogRequest'}, {'name': 'Date'}, {'name': 'Decimal'}, {'name': 'Float'}, {'name': 'GetRelatedProductResponse'}, {'name': 'ID'}, {'name': 'Int'}, {'name': 'Map'}, {'name': 'Meet'}, {'name': 'MeetRecordObject'}, {'name': 'MeetReview'}, {'name': 'MeetTokenResponse'}, {'name': 'Mutation'}, {'name': 'OrderAllowedFeatures'}, {'name': 'Product'}, {'name': 'ProductImage'}, {'name': 'Query'}, {'name': 'Reviewer'}, {'name': 'SellerGetSellingOrderData'}, {'name': 'SellerGetSellingOrderMetadata'}, {'name': 'SellerGetSellingOrdersResponse'}, {'name': 'SellerGuideChecklist'}, {'name': 'SellerReview'}, {'name': 'SellerReviewsResponse'}, {'name': 'SendMeetBubbleMessageResponse'}, {'name': 'SignedMeetRecordObject'}, {'name': 'String'}, {'name': 'Time'}, {'name': 'UUID'}, {'name': 'UpdateUserRequest'}, {'name': 'UpdateUserResponse'}, {'name': 'User'}, {'name': 'UserAllowedFeature'}, {'name': 'UserBankAccount'}, {'name': 'UserCertification'}, {'name': 'UserCertificationRequest'}, {'name': 'UserCertifications'}, {'name': 'UserCoinPayment'}, {'name': 'UserCoinTopUpHistoryResponse'}, {'name': 'UserExperiences'}, {'name': 'UserLanguage'}, {'name': 'UserLanguageRequest'}, {'name': 'UserLanguages'}, {'name': 'UserPreMessage'}, {'name': 'UserPreMessageCollection'}, {'name': 'UserPublicProfile'}, {'name': 'UserPublicProfileStats'}, {'name': 'UserPublicProfileVerifications'}, {'name': 'UserSellerProfile'}, {'name': 'UserSkill'}, {'name': 'UserSkillRequest'}, {'name': 'UserSkills'}, {'name': 'UserThirdPartyToken'}, {'name': 'UserUniversities'}, {'name': 'UserUniversity'}, {'name': 'UserUniversityRequest'}, {'name': 'UserWithdrawal'}, {'name': 'UserWithdrawalTax'}, {'name': 'UserWorkExperience'}, {'name': 'UserWorkExperienceRequest'}, {'name': 'UserWorkExperiences'}, {'name': 'VerifyEmailRequest'}, {'name': 'VerifyEmailResponse'}]}}\n"
     ]
    }
   ],
   "source": [
    "result = await client_api.execute_async(query)\n",
    "print(result)"
   ]
  },
  {
   "cell_type": "code",
   "execution_count": 83,
   "id": "1922bb07",
   "metadata": {},
   "outputs": [],
   "source": [
    "query = gql(\n",
    "    \"\"\"\n",
    "query ($id: String!){\n",
    "    getSellerReviews (id: $id, page: 1, limit: 1000) {\n",
    "        seller_reviews {\n",
    "            created_at\n",
    "            description\n",
    "            id\n",
    "            is_anonymous\n",
    "            is_cancelled\n",
    "            order_id\n",
    "            rating\n",
    "            reply_review\n",
    "            reviewer {\n",
    "                    full_name\n",
    "                    id\n",
    "                    image\n",
    "            }\n",
    "        }\n",
    "        total_items\n",
    "        total_pages\n",
    "        page\n",
    "        limit\n",
    "    }\n",
    "}\n",
    "\"\"\"\n",
    ")\n",
    "params = {\"id\":\"fa632fa3-e878-4d9d-9605-18ae2285ab54\"}"
   ]
  },
  {
   "cell_type": "code",
   "execution_count": 84,
   "id": "f4467318",
   "metadata": {},
   "outputs": [
    {
     "name": "stdout",
     "output_type": "stream",
     "text": [
      "{'getSellerReviews': {'seller_reviews': [{'created_at': '2023-05-27T02:16:29.358Z', 'description': '', 'id': 'c095584a-65b9-491d-8b6e-5866994e956c', 'is_anonymous': False, 'is_cancelled': False, 'order_id': 'b8539e1a-0ac3-4006-a8f7-9a2d2688aa5d', 'rating': 5, 'reply_review': '', 'reviewer': {'full_name': 'calapas ช.', 'id': '0e2204bf-2f4c-4253-b3bb-f3f781c205d2', 'image': 'https://lh3.googleusercontent.com/a/AGNmyxYBtvUu4z85_B8SZHhnESCNblyro0IqEr1zM14=s96-c'}}, {'created_at': '2023-04-29T12:27:30.234Z', 'description': '', 'id': '75b02035-1507-4ca7-be27-f11b56909451', 'is_anonymous': False, 'is_cancelled': False, 'order_id': '0ec7ba02-bc14-435c-96b7-a8e41abcc754', 'rating': 5, 'reply_review': '', 'reviewer': {'full_name': 'Thunpisit S.', 'id': '42f53940-db87-45f0-afa3-a6d3713a5874', 'image': 'https://storage.googleapis.com/fastwork-static/1194f09c-cb5d-47e3-99e0-6f7bb85cdad2.jpg'}}, {'created_at': '2023-04-26T16:35:53.312Z', 'description': 'กลับมาจ้างสามครั้งค่ะ ทำเว็บไซส์ดีมากๆ ตอบเร็ว แนะนำดีมากค่ะ ', 'id': '72a0b96d-ffa8-460b-83d6-2b3709068d47', 'is_anonymous': False, 'is_cancelled': False, 'order_id': '5fb2ee2a-1de1-4d5e-a5d4-3f0eb10062d3', 'rating': 5, 'reply_review': '', 'reviewer': {'full_name': 'Freya J.', 'id': 'b2893421-6f70-4809-9df1-b345761ebca7', 'image': 'https://storage.googleapis.com/fastwork-static/6ca6131e-5ebb-4823-b1f1-42e223b824ea.jpg'}}, {'created_at': '2023-04-18T20:19:35.338Z', 'description': 'ทำงานรวดเร็ว ดีไซน์สวย recommend ค่ะ ', 'id': '766c380e-d16f-405e-b74f-b59c87255c5d', 'is_anonymous': False, 'is_cancelled': False, 'order_id': '44222a5a-a442-40f8-ab6f-745896ad22a3', 'rating': 5, 'reply_review': '', 'reviewer': {'full_name': 'Freya J.', 'id': 'b2893421-6f70-4809-9df1-b345761ebca7', 'image': 'https://storage.googleapis.com/fastwork-static/6ca6131e-5ebb-4823-b1f1-42e223b824ea.jpg'}}, {'created_at': '2023-04-17T01:22:47.02Z', 'description': 'บริการดีมากค่ะ ตอบคำถามและให้คำแนะนำ, เว็บไซส์สวยถูกใจ 5/5 ค่ะ ', 'id': '128b3aa3-702c-4039-89ea-72efacab5dea', 'is_anonymous': False, 'is_cancelled': False, 'order_id': '9db844d5-19f8-4da1-b012-abe000b93e9e', 'rating': 5, 'reply_review': '', 'reviewer': {'full_name': 'Freya J.', 'id': 'b2893421-6f70-4809-9df1-b345761ebca7', 'image': 'https://storage.googleapis.com/fastwork-static/6ca6131e-5ebb-4823-b1f1-42e223b824ea.jpg'}}, {'created_at': '2023-04-10T15:36:36.997Z', 'description': 'เก่งมากครับ', 'id': '3c98f151-9e9c-4cf7-949e-b40f7444d454', 'is_anonymous': True, 'is_cancelled': False, 'order_id': 'c5512e54-549a-4bdc-b503-557e581a18ad', 'rating': 5, 'reply_review': '', 'reviewer': {'full_name': '***** (ผู้ว่าจ้างไม่เปิดเผยชื่อ)', 'id': 'e8f8266d-5ebe-4034-9718-46c9b8b60203', 'image': 'https://storage.googleapis.com/fastwork-static/47c28f03-8025-46ab-ab62-6a58c535d774.jpg'}}, {'created_at': '2022-12-19T11:00:44.343Z', 'description': 'โจทย์ที่ให้งานคือย้าย website จากแบบเขียนโค้ดมา wordpress ซึ่งก็สามารถทำได้เกิน 95% แล้วก็มีอัพเดทงานให้ตลอด โดยรวมถือว่าโอเคมากๆ คุ้มค่ากับเงินที่จ้างงาน', 'id': '821cf78b-fb9a-48d9-b499-9b9d469ddb28', 'is_anonymous': False, 'is_cancelled': False, 'order_id': 'af9f1227-bb38-43c2-8f4d-3d0ed2613609', 'rating': 4.8, 'reply_review': '', 'reviewer': {'full_name': 'Napat S.', 'id': 'b45a85c9-b1c5-43c0-87c4-06d7fdf668ce', 'image': 'https://storage.googleapis.com/fastwork-static/b2f67363-ff3c-4974-8147-fe8920477d19.jpg'}}, {'created_at': '2022-12-08T02:51:43.031Z', 'description': '', 'id': 'bc2b420f-8b72-44ec-8cdc-f307436ee769', 'is_anonymous': False, 'is_cancelled': False, 'order_id': '219e652f-a8c7-47b5-9c9f-4726dd5b00ea', 'rating': 5, 'reply_review': '', 'reviewer': {'full_name': 'ธนพล ร.', 'id': '2c534af9-c598-4169-a5ee-137f0df24176', 'image': 'https://storage.googleapis.com/fastwork-static/1194f09c-cb5d-47e3-99e0-6f7bb85cdad2.jpg'}}, {'created_at': '2022-11-29T17:41:19.483Z', 'description': 'แนะนำครับ', 'id': 'c6009882-1142-41b2-8c53-5853589ce00d', 'is_anonymous': False, 'is_cancelled': False, 'order_id': '5d269ec2-d041-4e4f-895f-e873cef5f524', 'rating': 5, 'reply_review': '', 'reviewer': {'full_name': 'pongsapak J.', 'id': '18ea7b06-0aca-4ca5-9e1e-ec07debeef8d', 'image': 'https://storage.googleapis.com/fastwork-static/1194f09c-cb5d-47e3-99e0-6f7bb85cdad2.jpg'}}, {'created_at': '2022-11-16T05:14:44.759Z', 'description': 'งานโอเค แต่คุยค่อนข้างยากหน่อย พอกดรับงานแล้วมีปัญหา', 'id': '6f223cc9-de01-4c1e-8685-fa1c6612abfe', 'is_anonymous': True, 'is_cancelled': False, 'order_id': 'ca18f793-e577-411e-9c45-070464a0ea55', 'rating': 2.3, 'reply_review': 'ไม่ทราบว่ากดรับงานแล้วมีปัญหาอย่างไรครับผม จนงานเสร็จไปนานแล้วนะครับ ไม่เห็นมีปัญหาอะไรเลย แจ้งไปแล้วว่าไลน์มีปัญหาให้ติดต่อผ่าน fast work chat แทนครับ และมีการทักมาถามวิธีใช้งาน ซึ่งผมก็แจ้งกลับไปแล้ว แต่ทางลูกค้าต้องการให้ผมเป็นคนทำ ซึ่งผมปฏิเสธไป เพราะส่วนนี้มันไม่ได้อยู่ใน terms ของการดูแลอยู่แล้วนะครับ\\n', 'reviewer': {'full_name': '***** (ผู้ว่าจ้างไม่เปิดเผยชื่อ)', 'id': '346032d6-1fc6-42a4-8290-0d8b0796c32e', 'image': 'https://storage.googleapis.com/fastwork-static/47c28f03-8025-46ab-ab62-6a58c535d774.jpg'}}, {'created_at': '2022-09-28T02:48:30.928Z', 'description': '', 'id': '392dba46-adc2-4054-944a-89711142beb2', 'is_anonymous': False, 'is_cancelled': False, 'order_id': 'b47365de-7aa6-4aed-a9b5-a3caca5b50bb', 'rating': 5, 'reply_review': '', 'reviewer': {'full_name': 'Jeerapat N.', 'id': '39845b69-ea10-44d9-a0aa-427b2ef01ff6', 'image': 'https://storage.googleapis.com/fastwork-static/5311a296-4f69-4cb9-b13f-a0e029c17edd.jpg'}}, {'created_at': '2022-08-25T09:12:26.338Z', 'description': '', 'id': 'ce593d61-d06e-429b-900c-a0b18f3b096c', 'is_anonymous': False, 'is_cancelled': False, 'order_id': 'cd72faff-5bef-4da6-803a-6e2fe804651d', 'rating': 5, 'reply_review': '', 'reviewer': {'full_name': 'Thaweewat S.', 'id': 'a39924e3-7e0e-45db-88b6-52251790bbf5', 'image': 'https://storage.googleapis.com/fastwork-static/faa5a9ff-c304-48f6-a900-61f775777c85.jpg'}}, {'created_at': '2022-08-17T09:05:19.643Z', 'description': '', 'id': '8857321b-5675-41e5-906f-ca1a49c868eb', 'is_anonymous': False, 'is_cancelled': False, 'order_id': 'f3ed0bd2-7314-4ad2-9292-3ef2146edef2', 'rating': 4.5, 'reply_review': '', 'reviewer': {'full_name': 'พีระศิลป์ ก.', 'id': '0a47982e-d1b3-4ad3-94a8-e1f24b40d27a', 'image': 'https://storage.googleapis.com/fastwork-static/1194f09c-cb5d-47e3-99e0-6f7bb85cdad2.jpg'}}, {'created_at': '2022-08-10T13:12:59.131Z', 'description': 'บริการดีมาก ให้คำปรึกษา ช่วยเหลือและตอบคำถามทุกอย่าง ดีมากๆค่ะ', 'id': '49f09d4d-dc13-4d0c-a0ea-b4a81046aa8f', 'is_anonymous': False, 'is_cancelled': False, 'order_id': '5c912633-6a8a-4b0e-a549-1844fda894bc', 'rating': 5, 'reply_review': '', 'reviewer': {'full_name': 'anin S.', 'id': 'aaabe27b-e7a3-4e6e-937e-96012b375b75', 'image': 'https://storage.googleapis.com/fastwork-static/a6687c40-2fcd-43f7-9026-5bbf64c146e7.jpg'}}, {'created_at': '2022-06-08T06:36:45.699Z', 'description': '', 'id': '14e7b029-86a7-4daf-bac0-15f7e7b29309', 'is_anonymous': False, 'is_cancelled': False, 'order_id': 'ff4ad0d0-4fbb-4853-a9c9-69a314b1f486', 'rating': 4.8, 'reply_review': '', 'reviewer': {'full_name': 'Gift O.', 'id': 'ec169532-edd4-4198-9220-e89ac7fe32f9', 'image': 'https://storage.googleapis.com/fastwork-static/fd0da70d-66ac-4bb2-adee-eeb8200c5fea.jpg'}}, {'created_at': '2022-05-08T08:27:22.921Z', 'description': '', 'id': '4ba53b1b-6aae-4d1b-8ad0-0647bf7a3dfa', 'is_anonymous': False, 'is_cancelled': False, 'order_id': 'dc93dd43-f294-4a04-9858-7ace9874a271', 'rating': 4.8, 'reply_review': '', 'reviewer': {'full_name': 'Interbolt F.', 'id': 'a10407e1-ce7b-465c-b684-4c83b270c4e0', 'image': 'https://lh3.googleusercontent.com/a/AATXAJzSzh-Eq_GjtYpGtOi5bc6lsKNqSefltBXw7cnK=s200'}}, {'created_at': '2022-05-02T16:38:02.88Z', 'description': 'งานดีมากครับ แนะนำได้ดี', 'id': 'af429dba-7393-4d3f-aa3c-0f716ae7b2f5', 'is_anonymous': False, 'is_cancelled': False, 'order_id': '921f267b-c951-4e6b-bd1b-8d8c82dc2b1f', 'rating': 5, 'reply_review': '', 'reviewer': {'full_name': 'Thanwit S.', 'id': 'c19659c0-b32e-4a51-b2f9-e78e08b6d406', 'image': 'https://storage.googleapis.com/fastwork-static/0074ef10-4818-459a-af35-373c1d844cf7.jpg'}}, {'created_at': '2022-01-16T13:25:18.052Z', 'description': 'ออกแบบดี บริการหลังการขายดี อธิบายทุกเรื่องที่ไม่เข้าใจดี แนะนำดี', 'id': '1d77c581-b5dc-4588-8a5c-76f0b83f4694', 'is_anonymous': False, 'is_cancelled': False, 'order_id': '6bd72249-5821-47ec-9a4e-32b0269adf54', 'rating': 5, 'reply_review': '', 'reviewer': {'full_name': 'Piyawat C.', 'id': '6fa03c4e-3be4-4ae3-9190-b88705b880a3', 'image': 'https://storage.googleapis.com/fastwork-static/ee32ca51-14c8-43c9-9773-7480e1330757.jpg'}}, {'created_at': '2021-11-19T02:43:32.932Z', 'description': 'ออกแบบให้สวยครับ', 'id': '2f8f7594-aed8-4abb-9754-92cc748c040c', 'is_anonymous': False, 'is_cancelled': False, 'order_id': '5adfdcc3-8d0e-4729-ad18-ea417f1db95b', 'rating': 4, 'reply_review': '', 'reviewer': {'full_name': 'Close C.', 'id': '20714aa4-c84c-4e23-bd3c-968245d5b4bf', 'image': 'https://storage.googleapis.com/fastwork-static/e71a347f-d5f2-489a-bca8-f0e56464e48d.jpg'}}, {'created_at': '2021-11-17T17:05:23.878Z', 'description': 'ติดตามงานดีค่ะ', 'id': 'b5c25226-5700-4fdf-8f05-b6cff38c0d99', 'is_anonymous': False, 'is_cancelled': False, 'order_id': '268d8fe4-f032-40f2-a9f7-8810e1939f9e', 'rating': 5, 'reply_review': '', 'reviewer': {'full_name': 'Raya B.', 'id': '3fc727d4-1bef-4000-bcf7-e6b3ece2890a', 'image': 'https://storage.googleapis.com/fastwork-static/a01a7d7c-a190-4886-bf3d-021c826397ff.jpg'}}], 'total_items': 40, 'total_pages': 2, 'page': 1, 'limit': 20}}\n"
     ]
    }
   ],
   "source": [
    "# Execute the query on the transport\n",
    "result = await client_api.execute_async(query,params)\n",
    "print(result)"
   ]
  },
  {
   "cell_type": "code",
   "execution_count": null,
   "id": "bdf55548",
   "metadata": {},
   "outputs": [],
   "source": []
  }
 ],
 "metadata": {
  "kernelspec": {
   "display_name": "Python 3 (ipykernel)",
   "language": "python",
   "name": "python3"
  },
  "language_info": {
   "codemirror_mode": {
    "name": "ipython",
    "version": 3
   },
   "file_extension": ".py",
   "mimetype": "text/x-python",
   "name": "python",
   "nbconvert_exporter": "python",
   "pygments_lexer": "ipython3",
   "version": "3.10.11"
  }
 },
 "nbformat": 4,
 "nbformat_minor": 5
}
