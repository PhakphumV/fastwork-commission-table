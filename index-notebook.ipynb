{
 "cells": [
  {
   "cell_type": "code",
   "execution_count": 1,
   "id": "6322f5d1",
   "metadata": {},
   "outputs": [],
   "source": [
    "import pandas as pd\n",
    "import matplotlib.pyplot as plt"
   ]
  },
  {
   "cell_type": "code",
   "execution_count": 2,
   "id": "454334cd",
   "metadata": {},
   "outputs": [],
   "source": [
    "# Input parameters\n",
    "START_PRICE  = 1000    # Starting price\n",
    "STEP_PRICE   = 500     # Price to increase in each row\n",
    "END_PRICE    = 100000  # Price at the end of the table\n",
    "ORDERS       = 10      #"
   ]
  },
  {
   "cell_type": "code",
   "execution_count": 3,
   "id": "750eee15",
   "metadata": {},
   "outputs": [],
   "source": [
    "def thai_withholding_tax(price):\n",
    "    return price*0.03"
   ]
  },
  {
   "cell_type": "code",
   "execution_count": 4,
   "id": "0f17321b",
   "metadata": {},
   "outputs": [],
   "source": [
    "def fastwork_commission(price):\n",
    "    # Tier 1\n",
    "    tier1 = min(price,10000) * 0.17\n",
    "    # Tier 2\n",
    "    tier2 = min(max(0,price-10000) * 0.12,4800)\n",
    "    # Tier 3\n",
    "    tier3 = max(0,price-50000) * 0.07\n",
    "    \n",
    "    return tier1+tier2+tier3"
   ]
  },
  {
   "cell_type": "code",
   "execution_count": 5,
   "id": "6135c661",
   "metadata": {},
   "outputs": [],
   "source": [
    "def total_cost(price):\n",
    "    return thai_withholding_tax(price) + fastwork_commission(price)"
   ]
  },
  {
   "cell_type": "code",
   "execution_count": 6,
   "id": "7e617166",
   "metadata": {},
   "outputs": [],
   "source": [
    "df = pd.DataFrame(range(START_PRICE,END_PRICE,STEP_PRICE), columns=['Price'])"
   ]
  },
  {
   "cell_type": "code",
   "execution_count": 7,
   "id": "494bbe93",
   "metadata": {},
   "outputs": [],
   "source": [
    "# df['Fastwork_Fee'] = df['Price'].apply(fastwork_commission)"
   ]
  },
  {
   "cell_type": "code",
   "execution_count": 8,
   "id": "886ca294",
   "metadata": {},
   "outputs": [],
   "source": [
    "# df['Tax'] = df['Price'].apply(thai_withholding_tax)"
   ]
  },
  {
   "cell_type": "code",
   "execution_count": 9,
   "id": "f08d3c83",
   "metadata": {},
   "outputs": [],
   "source": [
    "df['Cost'] = df['Price'].apply(total_cost)"
   ]
  },
  {
   "cell_type": "code",
   "execution_count": 10,
   "id": "15fbd92a",
   "metadata": {},
   "outputs": [
    {
     "name": "stdout",
     "output_type": "stream",
     "text": [
      "     Price     Cost\n",
      "0     1000    200.0\n",
      "1     1500    300.0\n",
      "2     2000    400.0\n",
      "3     2500    500.0\n",
      "4     3000    600.0\n",
      "..     ...      ...\n",
      "193  97500  12750.0\n",
      "194  98000  12800.0\n",
      "195  98500  12850.0\n",
      "196  99000  12900.0\n",
      "197  99500  12950.0\n",
      "\n",
      "[198 rows x 2 columns]\n"
     ]
    }
   ],
   "source": [
    "print(df)"
   ]
  },
  {
   "cell_type": "code",
   "execution_count": 11,
   "id": "5245c433",
   "metadata": {},
   "outputs": [],
   "source": [
    "for i in range(ORDERS):\n",
    "    df['Price_{}'.format(i)] = df['Price'] * i\n",
    "    df['Cost_{}'.format(i)] = df['Price_{}'.format(i)].apply(total_cost)"
   ]
  },
  {
   "cell_type": "code",
   "execution_count": 12,
   "id": "22ce682d",
   "metadata": {},
   "outputs": [
    {
     "name": "stdout",
     "output_type": "stream",
     "text": [
      "     Price     Cost  Price_0  Cost_0  Price_1   Cost_1  Price_2   Cost_2  \\\n",
      "0     1000    200.0        0     0.0     1000    200.0     2000    400.0   \n",
      "1     1500    300.0        0     0.0     1500    300.0     3000    600.0   \n",
      "2     2000    400.0        0     0.0     2000    400.0     4000    800.0   \n",
      "3     2500    500.0        0     0.0     2500    500.0     5000   1000.0   \n",
      "4     3000    600.0        0     0.0     3000    600.0     6000   1200.0   \n",
      "..     ...      ...      ...     ...      ...      ...      ...      ...   \n",
      "193  97500  12750.0        0     0.0    97500  12750.0   195000  22500.0   \n",
      "194  98000  12800.0        0     0.0    98000  12800.0   196000  22600.0   \n",
      "195  98500  12850.0        0     0.0    98500  12850.0   197000  22700.0   \n",
      "196  99000  12900.0        0     0.0    99000  12900.0   198000  22800.0   \n",
      "197  99500  12950.0        0     0.0    99500  12950.0   199000  22900.0   \n",
      "\n",
      "     Price_3   Cost_3  ...  Price_5   Cost_5  Price_6   Cost_6  Price_7  \\\n",
      "0       3000    600.0  ...     5000   1000.0     6000   1200.0     7000   \n",
      "1       4500    900.0  ...     7500   1500.0     9000   1800.0    10500   \n",
      "2       6000   1200.0  ...    10000   2000.0    12000   2300.0    14000   \n",
      "3       7500   1500.0  ...    12500   2375.0    15000   2750.0    17500   \n",
      "4       9000   1800.0  ...    15000   2750.0    18000   3200.0    21000   \n",
      "..       ...      ...  ...      ...      ...      ...      ...      ...   \n",
      "193   292500  32250.0  ...   487500  51750.0   585000  61500.0   682500   \n",
      "194   294000  32400.0  ...   490000  52000.0   588000  61800.0   686000   \n",
      "195   295500  32550.0  ...   492500  52250.0   591000  62100.0   689500   \n",
      "196   297000  32700.0  ...   495000  52500.0   594000  62400.0   693000   \n",
      "197   298500  32850.0  ...   497500  52750.0   597000  62700.0   696500   \n",
      "\n",
      "      Cost_7  Price_8   Cost_8  Price_9   Cost_9  \n",
      "0     1400.0     8000   1600.0     9000   1800.0  \n",
      "1     2075.0    12000   2300.0    13500   2525.0  \n",
      "2     2600.0    16000   2900.0    18000   3200.0  \n",
      "3     3125.0    20000   3500.0    22500   3875.0  \n",
      "4     3650.0    24000   4100.0    27000   4550.0  \n",
      "..       ...      ...      ...      ...      ...  \n",
      "193  71250.0   780000  81000.0   877500  90750.0  \n",
      "194  71600.0   784000  81400.0   882000  91200.0  \n",
      "195  71950.0   788000  81800.0   886500  91650.0  \n",
      "196  72300.0   792000  82200.0   891000  92100.0  \n",
      "197  72650.0   796000  82600.0   895500  92550.0  \n",
      "\n",
      "[198 rows x 22 columns]\n"
     ]
    }
   ],
   "source": [
    "print(df)"
   ]
  },
  {
   "cell_type": "code",
   "execution_count": null,
   "id": "d67626ef",
   "metadata": {},
   "outputs": [],
   "source": []
  }
 ],
 "metadata": {
  "kernelspec": {
   "display_name": "Python 3 (ipykernel)",
   "language": "python",
   "name": "python3"
  },
  "language_info": {
   "codemirror_mode": {
    "name": "ipython",
    "version": 3
   },
   "file_extension": ".py",
   "mimetype": "text/x-python",
   "name": "python",
   "nbconvert_exporter": "python",
   "pygments_lexer": "ipython3",
   "version": "3.10.2"
  }
 },
 "nbformat": 4,
 "nbformat_minor": 5
}
