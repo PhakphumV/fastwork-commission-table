{
 "cells": [
  {
   "cell_type": "code",
   "execution_count": null,
   "id": "6322f5d1",
   "metadata": {},
   "outputs": [],
   "source": [
    "import numpy as np\n",
    "import pandas as pd\n",
    "import matplotlib.pyplot as plt\n",
    "import seaborn as sns"
   ]
  },
  {
   "cell_type": "code",
   "execution_count": null,
   "id": "454334cd",
   "metadata": {},
   "outputs": [],
   "source": [
    "# Input parameters\n",
    "START_PRICE  = 1500    # Starting price\n",
    "STEP_PRICE   = 1500     # Price to increase in each row\n",
    "END_PRICE    = 50000  # Price at the end of the table\n",
    "ORDERS       = 30      #"
   ]
  },
  {
   "cell_type": "code",
   "execution_count": null,
   "id": "750eee15",
   "metadata": {},
   "outputs": [],
   "source": [
    "def thai_withholding_tax(price):\n",
    "    return price*0.03"
   ]
  },
  {
   "cell_type": "code",
   "execution_count": null,
   "id": "0f17321b",
   "metadata": {},
   "outputs": [],
   "source": [
    "def fastwork_commission(price):\n",
    "    # Tier 1\n",
    "    tier1 = min(price,10000) * 0.17\n",
    "    # Tier 2\n",
    "    tier2 = min(max(0,price-10000) * 0.12,4800)\n",
    "    # Tier 3\n",
    "    tier3 = max(0,price-50000) * 0.07\n",
    "    \n",
    "    return tier1+tier2+tier3"
   ]
  },
  {
   "cell_type": "code",
   "execution_count": null,
   "id": "053cdfe2",
   "metadata": {},
   "outputs": [],
   "source": [
    "def total_cost(price):\n",
    "    return thai_withholding_tax(price) + fastwork_commission(price)"
   ]
  },
  {
   "cell_type": "code",
   "execution_count": null,
   "id": "c5240cbe",
   "metadata": {},
   "outputs": [],
   "source": [
    "def plot_heatmap(name,START_PRICE,STEP_PRICE,END_PRICE,ORDERS):\n",
    "    price_matrix = [[i,j] for i in range(START_PRICE,END_PRICE,STEP_PRICE) for j in range(1,ORDERS)]\n",
    "    df = pd.DataFrame(price_matrix, columns=['Price','Orders'])\n",
    "    df['Total_Price'] = df['Price'] * df['Orders']\n",
    "    df['Cost_Multiple'] = df['Price'].apply(total_cost) * df['Orders']\n",
    "    df['Cost_Single'] = df['Total_Price'].apply(total_cost)\n",
    "    df['Cost_Diff'] = df['Cost_Multiple'] - df['Cost_Single']\n",
    "    df['Cost_Diff%'] = (df['Cost_Diff']/df['Total_Price'])\n",
    "    df_pivot = pd.pivot_table(df,values='Cost_Diff%',index=['Price'],columns=['Orders'])\n",
    "    plt.figure(figsize=(64, 36))\n",
    "    sns.set(font_scale=2)\n",
    "    sns.heatmap(df_pivot,annot=True,fmt=\".1%\",cbar=False)\n",
    "    plt.savefig(name)\n",
    "    df.to_csv('output.csv')"
   ]
  },
  {
   "cell_type": "code",
   "execution_count": null,
   "id": "32de39ac",
   "metadata": {},
   "outputs": [],
   "source": [
    "# Input parameters\n",
    "NAME         = 'heatmap_1500.png'\n",
    "START_PRICE  = 1500    # Starting price\n",
    "STEP_PRICE   = 1500     # Price to increase in each row\n",
    "END_PRICE    = 50000  # Price at the end of the table\n",
    "ORDERS       = 30      #\n",
    "plot_heatmap(NAME,START_PRICE,STEP_PRICE,END_PRICE,ORDERS)"
   ]
  },
  {
   "cell_type": "code",
   "execution_count": null,
   "id": "4c58b9bf",
   "metadata": {},
   "outputs": [],
   "source": [
    "# Input parameters\n",
    "NAME         = 'heatmap_2k.png'\n",
    "START_PRICE  = 2000    # Starting price\n",
    "STEP_PRICE   = 2000     # Price to increase in each row\n",
    "END_PRICE    = 50000  # Price at the end of the table\n",
    "ORDERS       = 25      #\n",
    "plot_heatmap(NAME,START_PRICE,STEP_PRICE,END_PRICE,ORDERS)"
   ]
  },
  {
   "cell_type": "code",
   "execution_count": null,
   "id": "65af5bfb",
   "metadata": {},
   "outputs": [],
   "source": [
    "# Input parameters\n",
    "NAME         = 'heatmap_1k.png'\n",
    "START_PRICE  = 1000    # Starting price\n",
    "STEP_PRICE   = 1000     # Price to increase in each row\n",
    "END_PRICE    = 50000  # Price at the end of the table\n",
    "ORDERS       = 50      #\n",
    "plot_heatmap(NAME,START_PRICE,STEP_PRICE,END_PRICE,ORDERS)"
   ]
  },
  {
   "cell_type": "code",
   "execution_count": null,
   "id": "d3a887d4",
   "metadata": {},
   "outputs": [],
   "source": [
    "# Input parameters\n",
    "NAME         = 'heatmap_5k.png'\n",
    "START_PRICE  = 5000    # Starting price\n",
    "STEP_PRICE   = 5000     # Price to increase in each row\n",
    "END_PRICE    = 50000  # Price at the end of the table\n",
    "ORDERS       = 10      #\n",
    "plot_heatmap(NAME,START_PRICE,STEP_PRICE,END_PRICE,ORDERS)"
   ]
  },
  {
   "cell_type": "code",
   "execution_count": null,
   "id": "40ad9e9c",
   "metadata": {},
   "outputs": [],
   "source": [
    "# Input parameters\n",
    "NAME         = 'heatmap_1k.png'\n",
    "START_PRICE  = 1000    # Starting price\n",
    "STEP_PRICE   = 1000     # Price to increase in each row\n",
    "END_PRICE    = 50000  # Price at the end of the table\n",
    "ORDERS       = 50      #\n",
    "plot_heatmap(NAME,START_PRICE,STEP_PRICE,END_PRICE,ORDERS)"
   ]
  },
  {
   "cell_type": "code",
   "execution_count": null,
   "id": "4db07919",
   "metadata": {},
   "outputs": [],
   "source": []
  }
 ],
 "metadata": {
  "kernelspec": {
   "display_name": "Python 3 (ipykernel)",
   "language": "python",
   "name": "python3"
  },
  "language_info": {
   "codemirror_mode": {
    "name": "ipython",
    "version": 3
   },
   "file_extension": ".py",
   "mimetype": "text/x-python",
   "name": "python",
   "nbconvert_exporter": "python",
   "pygments_lexer": "ipython3",
   "version": "3.10.6"
  }
 },
 "nbformat": 4,
 "nbformat_minor": 5
}
